{
  "nbformat": 4,
  "nbformat_minor": 0,
  "metadata": {
    "colab": {
      "name": "Numpy",
      "provenance": [],
      "collapsed_sections": [],
      "include_colab_link": true
    },
    "kernelspec": {
      "name": "python3",
      "display_name": "Python 3"
    }
  },
  "cells": [
    {
      "cell_type": "markdown",
      "metadata": {
        "id": "view-in-github",
        "colab_type": "text"
      },
      "source": [
        "<a href=\"https://colab.research.google.com/github/KKeun-B/learning/blob/main/2020/Numpy.ipynb\" target=\"_parent\"><img src=\"https://colab.research.google.com/assets/colab-badge.svg\" alt=\"Open In Colab\"/></a>"
      ]
    },
    {
      "cell_type": "markdown",
      "metadata": {
        "id": "WHYFoTRUGZ-p"
      },
      "source": [
        "#Numpy"
      ]
    },
    {
      "cell_type": "markdown",
      "metadata": {
        "id": "SzViLkzYHtDH"
      },
      "source": [
        "* Python을 활용한 수치연산을 위한 라이브러리\n",
        " * Python에서 Numpy를 잘 활용하면 Matlab과 유사하게 사용할 수 있음."
      ]
    },
    {
      "cell_type": "code",
      "metadata": {
        "id": "LVgVzfK9GbGh",
        "colab": {
          "base_uri": "https://localhost:8080/"
        },
        "outputId": "9b90efbf-cee0-4eb0-a971-e781f5eaa489"
      },
      "source": [
        "import numpy as np\n",
        "np.array([1, 2, 3, 4, 5])"
      ],
      "execution_count": 1,
      "outputs": [
        {
          "output_type": "execute_result",
          "data": {
            "text/plain": [
              "array([1, 2, 3, 4, 5])"
            ]
          },
          "metadata": {
            "tags": []
          },
          "execution_count": 1
        }
      ]
    },
    {
      "cell_type": "markdown",
      "metadata": {
        "id": "9p_ek44rHhfA"
      },
      "source": [
        "##Numpy Array 기본"
      ]
    },
    {
      "cell_type": "markdown",
      "metadata": {
        "id": "c-Q1mo8yHzIg"
      },
      "source": [
        "* Array 선언 방법 예시"
      ]
    },
    {
      "cell_type": "code",
      "metadata": {
        "id": "ne9mrxjAH0mG"
      },
      "source": [
        "import numpy as np\n",
        "np.random.seed(4452)  # 재현성을 위한 랜덤 시드 설정\n",
        "\n",
        "x1 = np.random.randint(10, size=6)  # 1차원 Array\n",
        "x2 = np.random.randint(10, size=(3, 4))  # 2차원 Array\n",
        "x3 = np.random.randint(10, size=(3, 4, 5))  # 3차원 Array"
      ],
      "execution_count": 2,
      "outputs": []
    },
    {
      "cell_type": "markdown",
      "metadata": {
        "id": "D5qA8X_UGe4v"
      },
      "source": [
        " * Python list와는 다르게 numpy array 내부의 데이터 형은 전부 동일함"
      ]
    },
    {
      "cell_type": "code",
      "metadata": {
        "id": "azKOCnXpGhQR",
        "colab": {
          "base_uri": "https://localhost:8080/"
        },
        "outputId": "9cf28d1c-e8c6-4286-807f-918d3fbbb1e4"
      },
      "source": [
        "np.array([3.14, 4, 2, 4])"
      ],
      "execution_count": 3,
      "outputs": [
        {
          "output_type": "execute_result",
          "data": {
            "text/plain": [
              "array([3.14, 4.  , 2.  , 4.  ])"
            ]
          },
          "metadata": {
            "tags": []
          },
          "execution_count": 3
        }
      ]
    },
    {
      "cell_type": "markdown",
      "metadata": {
        "id": "W2ov8Mq_Gf3w"
      },
      "source": [
        " * numpy array는 데이터의 형태를 명시적으로 지정할 수 있음"
      ]
    },
    {
      "cell_type": "code",
      "metadata": {
        "id": "lb83sIMDGiD0",
        "colab": {
          "base_uri": "https://localhost:8080/"
        },
        "outputId": "538810f9-98ef-4500-ffe2-2523f4601a76"
      },
      "source": [
        "np.array([1, 2, 3, 4], dtype='float32')"
      ],
      "execution_count": 4,
      "outputs": [
        {
          "output_type": "execute_result",
          "data": {
            "text/plain": [
              "array([1., 2., 3., 4.], dtype=float32)"
            ]
          },
          "metadata": {
            "tags": []
          },
          "execution_count": 4
        }
      ]
    },
    {
      "cell_type": "markdown",
      "metadata": {
        "id": "5ZTM3ILaGi0C"
      },
      "source": [
        " * numpy array는 명시적으로 다차원 데이터를 보관할 수 있음"
      ]
    },
    {
      "cell_type": "code",
      "metadata": {
        "id": "e6ctz3SAGj3S",
        "colab": {
          "base_uri": "https://localhost:8080/"
        },
        "outputId": "152f0372-df6e-43fa-8578-b3715ffa9a49"
      },
      "source": [
        "np.array([range(i, i + 3) for i in [2, 4, 6]])"
      ],
      "execution_count": 5,
      "outputs": [
        {
          "output_type": "execute_result",
          "data": {
            "text/plain": [
              "array([[2, 3, 4],\n",
              "       [4, 5, 6],\n",
              "       [6, 7, 8]])"
            ]
          },
          "metadata": {
            "tags": []
          },
          "execution_count": 5
        }
      ]
    },
    {
      "cell_type": "markdown",
      "metadata": {
        "id": "K1SGM7YxGlGr"
      },
      "source": [
        "  * Numpy array 생성 방법\n",
        " "
      ]
    },
    {
      "cell_type": "code",
      "metadata": {
        "id": "LlLIBtFqGmdd",
        "colab": {
          "base_uri": "https://localhost:8080/"
        },
        "outputId": "a5576e23-788f-4a7d-8738-c455f41c38d4"
      },
      "source": [
        "# 0으로 가득 찬 길이가 10인 정수 array 생성\n",
        "np.zeros(10, dtype=int)"
      ],
      "execution_count": 6,
      "outputs": [
        {
          "output_type": "execute_result",
          "data": {
            "text/plain": [
              "array([0, 0, 0, 0, 0, 0, 0, 0, 0, 0])"
            ]
          },
          "metadata": {
            "tags": []
          },
          "execution_count": 6
        }
      ]
    },
    {
      "cell_type": "code",
      "metadata": {
        "id": "5wyHRMfUGnPM",
        "colab": {
          "base_uri": "https://localhost:8080/"
        },
        "outputId": "87b3e65f-6037-4d76-c5a6-9973225540eb"
      },
      "source": [
        "# 1로 찬 3x5 실수 array 생성\n",
        "np.ones((3, 5), dtype=float)"
      ],
      "execution_count": 7,
      "outputs": [
        {
          "output_type": "execute_result",
          "data": {
            "text/plain": [
              "array([[1., 1., 1., 1., 1.],\n",
              "       [1., 1., 1., 1., 1.],\n",
              "       [1., 1., 1., 1., 1.]])"
            ]
          },
          "metadata": {
            "tags": []
          },
          "execution_count": 7
        }
      ]
    },
    {
      "cell_type": "code",
      "metadata": {
        "id": "XzXo-TkuGoE4",
        "colab": {
          "base_uri": "https://localhost:8080/"
        },
        "outputId": "120cad05-940c-48dc-b188-b4e69facdb1a"
      },
      "source": [
        "# 3.14로 찬 3x5 array 생성\n",
        "np.full((3, 5), 3.14)"
      ],
      "execution_count": 8,
      "outputs": [
        {
          "output_type": "execute_result",
          "data": {
            "text/plain": [
              "array([[3.14, 3.14, 3.14, 3.14, 3.14],\n",
              "       [3.14, 3.14, 3.14, 3.14, 3.14],\n",
              "       [3.14, 3.14, 3.14, 3.14, 3.14]])"
            ]
          },
          "metadata": {
            "tags": []
          },
          "execution_count": 8
        }
      ]
    },
    {
      "cell_type": "code",
      "metadata": {
        "id": "4kbJ94nFGo0u",
        "colab": {
          "base_uri": "https://localhost:8080/"
        },
        "outputId": "7f20160f-749d-4533-c38b-9f67808c789a"
      },
      "source": [
        "# array를 규칙에 맞춰서 생성\n",
        "# 0으로 시작해서 2 간격으로 20까지 (20 미포함)\n",
        "np.arange(0, 20, 2)"
      ],
      "execution_count": 9,
      "outputs": [
        {
          "output_type": "execute_result",
          "data": {
            "text/plain": [
              "array([ 0,  2,  4,  6,  8, 10, 12, 14, 16, 18])"
            ]
          },
          "metadata": {
            "tags": []
          },
          "execution_count": 9
        }
      ]
    },
    {
      "cell_type": "code",
      "metadata": {
        "id": "-zvJYFdwGpx8",
        "colab": {
          "base_uri": "https://localhost:8080/"
        },
        "outputId": "58a3289a-de79-44f7-df0e-974b9dc7dc12"
      },
      "source": [
        "# 0에서 1사이에 균등하게 5개의 원소를 가진 array 생성\n",
        "np.linspace(0, 1, 5)"
      ],
      "execution_count": 10,
      "outputs": [
        {
          "output_type": "execute_result",
          "data": {
            "text/plain": [
              "array([0.  , 0.25, 0.5 , 0.75, 1.  ])"
            ]
          },
          "metadata": {
            "tags": []
          },
          "execution_count": 10
        }
      ]
    },
    {
      "cell_type": "code",
      "metadata": {
        "id": "UWMVQlGTGqdm",
        "colab": {
          "base_uri": "https://localhost:8080/"
        },
        "outputId": "6223f912-e50f-47cf-f5e9-4d78fd9ddc40"
      },
      "source": [
        "# 0에서 1 사이의 값을 랜덤하게 사용하여 3x3 array 생성\n",
        "np.random.random((3,3))"
      ],
      "execution_count": 11,
      "outputs": [
        {
          "output_type": "execute_result",
          "data": {
            "text/plain": [
              "array([[0.77605415, 0.41920557, 0.63066741],\n",
              "       [0.27947124, 0.52158297, 0.71498491],\n",
              "       [0.99910395, 0.63741838, 0.20788391]])"
            ]
          },
          "metadata": {
            "tags": []
          },
          "execution_count": 11
        }
      ]
    },
    {
      "cell_type": "code",
      "metadata": {
        "id": "2ZK5MHvGGrHU",
        "colab": {
          "base_uri": "https://localhost:8080/"
        },
        "outputId": "cd5e873a-5677-45ff-c8ae-29d321cc75e9"
      },
      "source": [
        "# 평균이 0이고 분산이 1인 분포에서 랜덤하게 값을 추출하여 3x3 array 생성\n",
        "np.random.normal(0, 1, (3, 3))"
      ],
      "execution_count": 12,
      "outputs": [
        {
          "output_type": "execute_result",
          "data": {
            "text/plain": [
              "array([[ 0.31382095,  0.28251813, -0.36747149],\n",
              "       [ 1.04280907, -0.3391419 ,  0.88315767],\n",
              "       [ 0.29107616, -0.73378086,  1.03497911]])"
            ]
          },
          "metadata": {
            "tags": []
          },
          "execution_count": 12
        }
      ]
    },
    {
      "cell_type": "code",
      "metadata": {
        "id": "K79uVOjoGr5T",
        "colab": {
          "base_uri": "https://localhost:8080/"
        },
        "outputId": "c80675cf-b74e-434c-831d-47696bd44d63"
      },
      "source": [
        "# [0. 10) 사이에서 랜덤하게 정수를 추출하여 3x3 array 생성\n",
        "np.random.randint(0, 10, (3, 3))"
      ],
      "execution_count": 13,
      "outputs": [
        {
          "output_type": "execute_result",
          "data": {
            "text/plain": [
              "array([[0, 6, 7],\n",
              "       [8, 8, 3],\n",
              "       [1, 4, 8]])"
            ]
          },
          "metadata": {
            "tags": []
          },
          "execution_count": 13
        }
      ]
    },
    {
      "cell_type": "code",
      "metadata": {
        "id": "AbZbEm7mGs8V",
        "colab": {
          "base_uri": "https://localhost:8080/"
        },
        "outputId": "0aa8963d-a637-453e-eb1d-d060b604a512"
      },
      "source": [
        "# 3x3 identity 행렬 생성\n",
        "np.eye(3)"
      ],
      "execution_count": 14,
      "outputs": [
        {
          "output_type": "execute_result",
          "data": {
            "text/plain": [
              "array([[1., 0., 0.],\n",
              "       [0., 1., 0.],\n",
              "       [0., 0., 1.]])"
            ]
          },
          "metadata": {
            "tags": []
          },
          "execution_count": 14
        }
      ]
    },
    {
      "cell_type": "markdown",
      "metadata": {
        "id": "MMdi2ezMGtxi"
      },
      "source": [
        " * Numpy Data Types\n",
        "  * bool_: Boolean (True or False) stored as a byte\n",
        "  * int_: Default integer type (same as C long; normally either int64 or int32)\n",
        "  * intc: Identical to C int (normally int32 or int64)\n",
        "  * intp: Integer used for indexing (same as C ssize_t; normally either int32 or int64)\n",
        "  * int8: Byte (-128 to 127)\n",
        "  * int16: Integer (-32768 to 32767)\n",
        "  * int32: Integer (-2147483648 to 2147483647)\n",
        "  * int64: Integer (-9223372036854775808 to 9223372036854775807)\n",
        "  * uint8: Unsigned integer (0 to 255)\n",
        "  * uint16: Unsigned integer (0 to 65535)\n",
        "  * uint32: Unsigned integer (0 to 4294967295)\n",
        "  * uint64: Unsigned integer (0 to 18446744073709551615)\n",
        "  * float_: Shorthand for float64.\n",
        "  * float16: Half precision float: sign bit, 5 bits exponent, 10 bits mantissa\n",
        "  * float32: Single precision float: sign bit, 8 bits exponent, 23 bits mantissa\n",
        "  * float64: Double precision float: sign bit, 11 bits exponent, 52 bits mantissa\n",
        "  * complex_: Shorthand for complex128.\n",
        "  * complex64: Complex number, represented by two 32-bit floats\n",
        "  * complex128: Complex number, represented by two 64-bit floats"
      ]
    },
    {
      "cell_type": "markdown",
      "metadata": {
        "id": "-u4OVdUuHWoE"
      },
      "source": [
        "* Array의 내부 변수 및 의미"
      ]
    },
    {
      "cell_type": "code",
      "metadata": {
        "id": "l0clil9jGuk5",
        "colab": {
          "base_uri": "https://localhost:8080/"
        },
        "outputId": "d8d964de-4632-439d-e8cb-cae5d8be6609"
      },
      "source": [
        "x3 = np.random.randint(10, size=(3, 4, 5))  # 3차원 Array\n",
        "print(\"x3 ndim: \", x3.ndim)\n",
        "print(\"x3 shape:\", x3.shape)\n",
        "print(\"x3 size: \", x3.size)\n",
        "print(\"dtype:\", x3.dtype)\n",
        "print(\"itemsize:\", x3.itemsize, \"bytes\")\n",
        "print(\"nbytes:\", x3.nbytes, \"bytes\")"
      ],
      "execution_count": 15,
      "outputs": [
        {
          "output_type": "stream",
          "text": [
            "x3 ndim:  3\n",
            "x3 shape: (3, 4, 5)\n",
            "x3 size:  60\n",
            "dtype: int64\n",
            "itemsize: 8 bytes\n",
            "nbytes: 480 bytes\n"
          ],
          "name": "stdout"
        }
      ]
    },
    {
      "cell_type": "markdown",
      "metadata": {
        "id": "T3hMRYubHe0t"
      },
      "source": [
        "## Array Index"
      ]
    },
    {
      "cell_type": "code",
      "metadata": {
        "id": "zAKRv0qyHgM5"
      },
      "source": [
        "import numpy as np\n",
        "np.random.seed(4452)  # 재현성을 위한 랜덤 시드 설정\n",
        "\n",
        "x1 = np.random.randint(10, size=6)  # 1차원 Array\n",
        "x2 = np.random.randint(10, size=(3, 4))  # 2차원 Array\n",
        "x3 = np.random.randint(10, size=(3, 4, 5))  # 3차원 Array"
      ],
      "execution_count": 16,
      "outputs": []
    },
    {
      "cell_type": "code",
      "metadata": {
        "id": "0Y4nOwrGH_6c",
        "colab": {
          "base_uri": "https://localhost:8080/"
        },
        "outputId": "bb0402e8-8649-4bb5-d5d5-0e400d1a4f98"
      },
      "source": [
        "print(x1)"
      ],
      "execution_count": 17,
      "outputs": [
        {
          "output_type": "stream",
          "text": [
            "[1 6 3 7 3 1]\n"
          ],
          "name": "stdout"
        }
      ]
    },
    {
      "cell_type": "code",
      "metadata": {
        "id": "dR3BLRNeIA-l",
        "colab": {
          "base_uri": "https://localhost:8080/"
        },
        "outputId": "94de14ab-8542-4b86-95fa-ed0287d67b3a"
      },
      "source": [
        "x1[0]"
      ],
      "execution_count": 18,
      "outputs": [
        {
          "output_type": "execute_result",
          "data": {
            "text/plain": [
              "1"
            ]
          },
          "metadata": {
            "tags": []
          },
          "execution_count": 18
        }
      ]
    },
    {
      "cell_type": "code",
      "metadata": {
        "id": "j0iluRxrIBv7",
        "colab": {
          "base_uri": "https://localhost:8080/"
        },
        "outputId": "1d62ed0f-d29e-4dcc-f918-fe5f041208ce"
      },
      "source": [
        "x1[4]"
      ],
      "execution_count": 19,
      "outputs": [
        {
          "output_type": "execute_result",
          "data": {
            "text/plain": [
              "3"
            ]
          },
          "metadata": {
            "tags": []
          },
          "execution_count": 19
        }
      ]
    },
    {
      "cell_type": "code",
      "metadata": {
        "id": "dN2rUYk_ICji",
        "colab": {
          "base_uri": "https://localhost:8080/"
        },
        "outputId": "dd8b5cf9-849c-4b3a-97aa-e2a4ea1dad5d"
      },
      "source": [
        "x1[-1]"
      ],
      "execution_count": 20,
      "outputs": [
        {
          "output_type": "execute_result",
          "data": {
            "text/plain": [
              "1"
            ]
          },
          "metadata": {
            "tags": []
          },
          "execution_count": 20
        }
      ]
    },
    {
      "cell_type": "code",
      "metadata": {
        "id": "V4xPeoRcIDXJ",
        "colab": {
          "base_uri": "https://localhost:8080/"
        },
        "outputId": "38a3fa36-bd6c-4872-a853-a3f899c0415a"
      },
      "source": [
        "x2"
      ],
      "execution_count": 21,
      "outputs": [
        {
          "output_type": "execute_result",
          "data": {
            "text/plain": [
              "array([[8, 7, 4, 8],\n",
              "       [5, 9, 3, 7],\n",
              "       [3, 5, 2, 7]])"
            ]
          },
          "metadata": {
            "tags": []
          },
          "execution_count": 21
        }
      ]
    },
    {
      "cell_type": "code",
      "metadata": {
        "id": "B0GyViN9IEuY",
        "colab": {
          "base_uri": "https://localhost:8080/"
        },
        "outputId": "4d2adc97-2bdd-447d-9824-3aabf65deb0f"
      },
      "source": [
        "x2[0,0]"
      ],
      "execution_count": 24,
      "outputs": [
        {
          "output_type": "execute_result",
          "data": {
            "text/plain": [
              "8"
            ]
          },
          "metadata": {
            "tags": []
          },
          "execution_count": 24
        }
      ]
    },
    {
      "cell_type": "code",
      "metadata": {
        "id": "ynt9a7jSIFmq",
        "colab": {
          "base_uri": "https://localhost:8080/"
        },
        "outputId": "794038cd-9098-47bf-ecd5-cd181d3b1b87"
      },
      "source": [
        "x2[2]"
      ],
      "execution_count": 23,
      "outputs": [
        {
          "output_type": "execute_result",
          "data": {
            "text/plain": [
              "array([3, 5, 2, 7])"
            ]
          },
          "metadata": {
            "tags": []
          },
          "execution_count": 23
        }
      ]
    },
    {
      "cell_type": "code",
      "metadata": {
        "id": "Y-9S4jLEIGVn",
        "colab": {
          "base_uri": "https://localhost:8080/"
        },
        "outputId": "e16d469d-2e16-43ff-f056-676eb5395689"
      },
      "source": [
        "x2[2,0]"
      ],
      "execution_count": 25,
      "outputs": [
        {
          "output_type": "execute_result",
          "data": {
            "text/plain": [
              "3"
            ]
          },
          "metadata": {
            "tags": []
          },
          "execution_count": 25
        }
      ]
    },
    {
      "cell_type": "code",
      "metadata": {
        "id": "Q0EfMG23IHEW",
        "colab": {
          "base_uri": "https://localhost:8080/"
        },
        "outputId": "0dbbff34-9dc7-4b10-ae3c-f1b53a716a00"
      },
      "source": [
        "x2[2,-1]"
      ],
      "execution_count": 26,
      "outputs": [
        {
          "output_type": "execute_result",
          "data": {
            "text/plain": [
              "7"
            ]
          },
          "metadata": {
            "tags": []
          },
          "execution_count": 26
        }
      ]
    },
    {
      "cell_type": "code",
      "metadata": {
        "id": "Ad0Zm9HpIH9J",
        "colab": {
          "base_uri": "https://localhost:8080/"
        },
        "outputId": "56d585c0-6836-489f-c106-8db616072f27"
      },
      "source": [
        "x2[0,0]=12\n",
        "x2"
      ],
      "execution_count": 27,
      "outputs": [
        {
          "output_type": "execute_result",
          "data": {
            "text/plain": [
              "array([[12,  7,  4,  8],\n",
              "       [ 5,  9,  3,  7],\n",
              "       [ 3,  5,  2,  7]])"
            ]
          },
          "metadata": {
            "tags": []
          },
          "execution_count": 27
        }
      ]
    },
    {
      "cell_type": "code",
      "metadata": {
        "id": "cRX2n3F7II41",
        "colab": {
          "base_uri": "https://localhost:8080/"
        },
        "outputId": "80734352-59c1-4220-b466-9b352ffb1fdf"
      },
      "source": [
        "x2[0,0]=3.14159\n",
        "x2"
      ],
      "execution_count": 28,
      "outputs": [
        {
          "output_type": "execute_result",
          "data": {
            "text/plain": [
              "array([[3, 7, 4, 8],\n",
              "       [5, 9, 3, 7],\n",
              "       [3, 5, 2, 7]])"
            ]
          },
          "metadata": {
            "tags": []
          },
          "execution_count": 28
        }
      ]
    },
    {
      "cell_type": "markdown",
      "metadata": {
        "id": "VLtGrg9EIM_7"
      },
      "source": [
        "## Array Slice (1)\n"
      ]
    },
    {
      "cell_type": "markdown",
      "metadata": {
        "id": "eEAqbkNYIPQp"
      },
      "source": [
        "* x[시작:끝:간격]\n",
        "* 1차원인 경우 아래와 같음"
      ]
    },
    {
      "cell_type": "code",
      "metadata": {
        "id": "aPh1DYrmIP9i",
        "colab": {
          "base_uri": "https://localhost:8080/"
        },
        "outputId": "4fffd192-03aa-42b0-a053-fd4d604ac0c3"
      },
      "source": [
        "x = np.arange(10)\n",
        "x"
      ],
      "execution_count": 29,
      "outputs": [
        {
          "output_type": "execute_result",
          "data": {
            "text/plain": [
              "array([0, 1, 2, 3, 4, 5, 6, 7, 8, 9])"
            ]
          },
          "metadata": {
            "tags": []
          },
          "execution_count": 29
        }
      ]
    },
    {
      "cell_type": "code",
      "metadata": {
        "id": "vO88nWh4IQpp",
        "colab": {
          "base_uri": "https://localhost:8080/"
        },
        "outputId": "32d56823-3128-4654-a4bf-1580f956f10b"
      },
      "source": [
        "x[:5]"
      ],
      "execution_count": 30,
      "outputs": [
        {
          "output_type": "execute_result",
          "data": {
            "text/plain": [
              "array([0, 1, 2, 3, 4])"
            ]
          },
          "metadata": {
            "tags": []
          },
          "execution_count": 30
        }
      ]
    },
    {
      "cell_type": "code",
      "metadata": {
        "id": "HY9dkCfQIRZl",
        "colab": {
          "base_uri": "https://localhost:8080/"
        },
        "outputId": "7c2708a8-4f9a-4b5f-93aa-5cef4606e3cf"
      },
      "source": [
        "x[5:]"
      ],
      "execution_count": 31,
      "outputs": [
        {
          "output_type": "execute_result",
          "data": {
            "text/plain": [
              "array([5, 6, 7, 8, 9])"
            ]
          },
          "metadata": {
            "tags": []
          },
          "execution_count": 31
        }
      ]
    },
    {
      "cell_type": "code",
      "metadata": {
        "id": "ojdUB0AZISPP",
        "colab": {
          "base_uri": "https://localhost:8080/"
        },
        "outputId": "fb3c0a12-eebc-46f7-ba5f-651e51b55aac"
      },
      "source": [
        "x[4:7]"
      ],
      "execution_count": 32,
      "outputs": [
        {
          "output_type": "execute_result",
          "data": {
            "text/plain": [
              "array([4, 5, 6])"
            ]
          },
          "metadata": {
            "tags": []
          },
          "execution_count": 32
        }
      ]
    },
    {
      "cell_type": "code",
      "metadata": {
        "id": "X1c9I5dkIS52",
        "colab": {
          "base_uri": "https://localhost:8080/"
        },
        "outputId": "08d2d1af-ed4b-401f-ad6e-18a472fd54ad"
      },
      "source": [
        "x[::2]"
      ],
      "execution_count": 33,
      "outputs": [
        {
          "output_type": "execute_result",
          "data": {
            "text/plain": [
              "array([0, 2, 4, 6, 8])"
            ]
          },
          "metadata": {
            "tags": []
          },
          "execution_count": 33
        }
      ]
    },
    {
      "cell_type": "code",
      "metadata": {
        "id": "_9FsSlpqITk6",
        "colab": {
          "base_uri": "https://localhost:8080/"
        },
        "outputId": "69b1cc59-67cb-4805-83d1-690b8eb5376c"
      },
      "source": [
        "x[1::2]"
      ],
      "execution_count": 34,
      "outputs": [
        {
          "output_type": "execute_result",
          "data": {
            "text/plain": [
              "array([1, 3, 5, 7, 9])"
            ]
          },
          "metadata": {
            "tags": []
          },
          "execution_count": 34
        }
      ]
    },
    {
      "cell_type": "code",
      "metadata": {
        "id": "CVsz2nDMIUK3",
        "colab": {
          "base_uri": "https://localhost:8080/"
        },
        "outputId": "b3ef7cc4-3a50-4683-ed6d-814c33ce5ea2"
      },
      "source": [
        "x[::-1]"
      ],
      "execution_count": 35,
      "outputs": [
        {
          "output_type": "execute_result",
          "data": {
            "text/plain": [
              "array([9, 8, 7, 6, 5, 4, 3, 2, 1, 0])"
            ]
          },
          "metadata": {
            "tags": []
          },
          "execution_count": 35
        }
      ]
    },
    {
      "cell_type": "code",
      "metadata": {
        "id": "ynwjghDCIUyo",
        "colab": {
          "base_uri": "https://localhost:8080/"
        },
        "outputId": "f148d976-8161-47b7-ddf1-a1b72fbd8f3d"
      },
      "source": [
        "x[5::-2]"
      ],
      "execution_count": 36,
      "outputs": [
        {
          "output_type": "execute_result",
          "data": {
            "text/plain": [
              "array([5, 3, 1])"
            ]
          },
          "metadata": {
            "tags": []
          },
          "execution_count": 36
        }
      ]
    },
    {
      "cell_type": "markdown",
      "metadata": {
        "id": "G5AdDKVzIVkl"
      },
      "source": [
        "## Array Slice (2)"
      ]
    },
    {
      "cell_type": "markdown",
      "metadata": {
        "id": "K4theZv2IXYj"
      },
      "source": [
        "* 다차원인 경우 아래와 같음"
      ]
    },
    {
      "cell_type": "code",
      "metadata": {
        "id": "N6jpTPr6IZEp",
        "colab": {
          "base_uri": "https://localhost:8080/"
        },
        "outputId": "c04ecbe5-ae78-43ed-d01d-e1a433d6638d"
      },
      "source": [
        "x2"
      ],
      "execution_count": 37,
      "outputs": [
        {
          "output_type": "execute_result",
          "data": {
            "text/plain": [
              "array([[3, 7, 4, 8],\n",
              "       [5, 9, 3, 7],\n",
              "       [3, 5, 2, 7]])"
            ]
          },
          "metadata": {
            "tags": []
          },
          "execution_count": 37
        }
      ]
    },
    {
      "cell_type": "code",
      "metadata": {
        "id": "OVUHn2TzIZyS",
        "colab": {
          "base_uri": "https://localhost:8080/"
        },
        "outputId": "71c53a51-a920-49b3-9a3c-0b4412f1e21d"
      },
      "source": [
        "x2[:2,:3]"
      ],
      "execution_count": 38,
      "outputs": [
        {
          "output_type": "execute_result",
          "data": {
            "text/plain": [
              "array([[3, 7, 4],\n",
              "       [5, 9, 3]])"
            ]
          },
          "metadata": {
            "tags": []
          },
          "execution_count": 38
        }
      ]
    },
    {
      "cell_type": "code",
      "metadata": {
        "id": "JFaGNQ1sIaZa",
        "colab": {
          "base_uri": "https://localhost:8080/"
        },
        "outputId": "ffb137d4-03ac-43ba-fb0a-155905a47c52"
      },
      "source": [
        "x2[:3,::2]"
      ],
      "execution_count": 39,
      "outputs": [
        {
          "output_type": "execute_result",
          "data": {
            "text/plain": [
              "array([[3, 4],\n",
              "       [5, 3],\n",
              "       [3, 2]])"
            ]
          },
          "metadata": {
            "tags": []
          },
          "execution_count": 39
        }
      ]
    },
    {
      "cell_type": "code",
      "metadata": {
        "id": "EtuwYnctIbZ7",
        "colab": {
          "base_uri": "https://localhost:8080/"
        },
        "outputId": "41e5d7dd-fcde-431a-a592-42476a3884b3"
      },
      "source": [
        "x2[::-1,::-1]"
      ],
      "execution_count": 40,
      "outputs": [
        {
          "output_type": "execute_result",
          "data": {
            "text/plain": [
              "array([[7, 2, 5, 3],\n",
              "       [7, 3, 9, 5],\n",
              "       [8, 4, 7, 3]])"
            ]
          },
          "metadata": {
            "tags": []
          },
          "execution_count": 40
        }
      ]
    },
    {
      "cell_type": "markdown",
      "metadata": {
        "id": "tTe-tdykIgK9"
      },
      "source": [
        "\n",
        "## Array Slice (3)"
      ]
    },
    {
      "cell_type": "markdown",
      "metadata": {
        "id": "SppTqPSvId9Z"
      },
      "source": [
        "* 특정 열 혹은 행 값 접근"
      ]
    },
    {
      "cell_type": "code",
      "metadata": {
        "id": "ID8jMaWoIhGs",
        "colab": {
          "base_uri": "https://localhost:8080/"
        },
        "outputId": "b5f2f42d-e6c7-4454-e4fd-f1218d064435"
      },
      "source": [
        "x2[:,0]"
      ],
      "execution_count": 41,
      "outputs": [
        {
          "output_type": "execute_result",
          "data": {
            "text/plain": [
              "array([3, 5, 3])"
            ]
          },
          "metadata": {
            "tags": []
          },
          "execution_count": 41
        }
      ]
    },
    {
      "cell_type": "code",
      "metadata": {
        "id": "Tj7fighnIhv0",
        "colab": {
          "base_uri": "https://localhost:8080/"
        },
        "outputId": "887ff619-459d-4000-e556-fc476d20f6ef"
      },
      "source": [
        "x2[0,:]"
      ],
      "execution_count": 42,
      "outputs": [
        {
          "output_type": "execute_result",
          "data": {
            "text/plain": [
              "array([3, 7, 4, 8])"
            ]
          },
          "metadata": {
            "tags": []
          },
          "execution_count": 42
        }
      ]
    },
    {
      "cell_type": "code",
      "metadata": {
        "id": "CspmEdxNIibN",
        "colab": {
          "base_uri": "https://localhost:8080/"
        },
        "outputId": "841af69c-dd2e-4400-e4ca-a1b8107afa19"
      },
      "source": [
        "x2[0]"
      ],
      "execution_count": 43,
      "outputs": [
        {
          "output_type": "execute_result",
          "data": {
            "text/plain": [
              "array([3, 7, 4, 8])"
            ]
          },
          "metadata": {
            "tags": []
          },
          "execution_count": 43
        }
      ]
    },
    {
      "cell_type": "markdown",
      "metadata": {
        "id": "r9ApY8y3IqPm"
      },
      "source": [
        "# Numpy Array 연산"
      ]
    },
    {
      "cell_type": "markdown",
      "metadata": {
        "id": "j8d9x9xXIrkW"
      },
      "source": [
        "## 반복문 속도"
      ]
    },
    {
      "cell_type": "markdown",
      "metadata": {
        "id": "8M9lDXAfItKV"
      },
      "source": [
        "* Python의 기본 연산은 느리게 작동함\n",
        "* C언어에서와 같이 반복문을 작성할 수는 있으나, 그 경우 연산 속도가 느림"
      ]
    },
    {
      "cell_type": "code",
      "metadata": {
        "id": "Z1FqciKGIubl",
        "colab": {
          "base_uri": "https://localhost:8080/"
        },
        "outputId": "a55e9d1a-a330-4634-d92f-b882f2e4349a"
      },
      "source": [
        "import numpy as np\n",
        "np.random.seed(0)\n",
        "\n",
        "def compute_reciprocals(values):\n",
        "    output = np.empty(len(values))\n",
        "    for i in range(len(values)):\n",
        "        output[i] = 1.0 / values[i]\n",
        "    return output\n",
        "        \n",
        "values = np.random.randint(1, 10, size=5)\n",
        "compute_reciprocals(values)"
      ],
      "execution_count": 44,
      "outputs": [
        {
          "output_type": "execute_result",
          "data": {
            "text/plain": [
              "array([0.16666667, 1.        , 0.25      , 0.25      , 0.125     ])"
            ]
          },
          "metadata": {
            "tags": []
          },
          "execution_count": 44
        }
      ]
    },
    {
      "cell_type": "markdown",
      "metadata": {
        "id": "2O5RAtZNIvhe"
      },
      "source": [
        "* ```%timeit```을 통해 연산시간을 특정할 수 있음\n",
        "\n"
      ]
    },
    {
      "cell_type": "code",
      "metadata": {
        "id": "ViTw1wbuIxQq",
        "colab": {
          "base_uri": "https://localhost:8080/"
        },
        "outputId": "72bb2cec-384f-41aa-a8fa-a4c6d7a79748"
      },
      "source": [
        "big_array = np.random.randint(1, 100, size=1000000)\n",
        "%timeit compute_reciprocals(big_array)"
      ],
      "execution_count": 45,
      "outputs": [
        {
          "output_type": "stream",
          "text": [
            "1 loop, best of 5: 2.19 s per loop\n"
          ],
          "name": "stdout"
        }
      ]
    },
    {
      "cell_type": "markdown",
      "metadata": {
        "id": "bRzSWIuQI3Qv"
      },
      "source": [
        "## UFuncs"
      ]
    },
    {
      "cell_type": "markdown",
      "metadata": {
        "id": "EeXoPd0NI6gF"
      },
      "source": [
        "* Numpy에서는 Vectorized operation을 지원함"
      ]
    },
    {
      "cell_type": "code",
      "metadata": {
        "id": "0QnlXw_FI7i5",
        "colab": {
          "base_uri": "https://localhost:8080/"
        },
        "outputId": "44f8c4a5-2c46-472a-acf7-e6ffd1a04726"
      },
      "source": [
        "print(compute_reciprocals(values))\n",
        "print(1.0 / values)"
      ],
      "execution_count": 46,
      "outputs": [
        {
          "output_type": "stream",
          "text": [
            "[0.16666667 1.         0.25       0.25       0.125     ]\n",
            "[0.16666667 1.         0.25       0.25       0.125     ]\n"
          ],
          "name": "stdout"
        }
      ]
    },
    {
      "cell_type": "code",
      "metadata": {
        "id": "89FrLQAxI8QA",
        "colab": {
          "base_uri": "https://localhost:8080/"
        },
        "outputId": "da978dfc-ee1b-495c-8aa7-04d2464f2671"
      },
      "source": [
        "%timeit (1.0 / big_array)"
      ],
      "execution_count": 47,
      "outputs": [
        {
          "output_type": "stream",
          "text": [
            "100 loops, best of 5: 2.03 ms per loop\n"
          ],
          "name": "stdout"
        }
      ]
    },
    {
      "cell_type": "code",
      "metadata": {
        "id": "MnxlfRxhI9ad",
        "colab": {
          "base_uri": "https://localhost:8080/"
        },
        "outputId": "8a601cb5-7a78-4ccc-8bb6-a68c3e40912e"
      },
      "source": [
        "x1 = np.arange(5) \n",
        "x2 = np.arange(1, 6)\n",
        "x3 = x1 / x2\n",
        "print(x1)\n",
        "print(x2)\n",
        "print(x3)"
      ],
      "execution_count": 48,
      "outputs": [
        {
          "output_type": "stream",
          "text": [
            "[0 1 2 3 4]\n",
            "[1 2 3 4 5]\n",
            "[0.         0.5        0.66666667 0.75       0.8       ]\n"
          ],
          "name": "stdout"
        }
      ]
    },
    {
      "cell_type": "code",
      "metadata": {
        "id": "Ciosiy2KI-K4",
        "colab": {
          "base_uri": "https://localhost:8080/"
        },
        "outputId": "bf2535b4-38e1-493e-efbe-530d28a2fa37"
      },
      "source": [
        "x = np.arange(9).reshape((3, 3))\n",
        "2 ** x"
      ],
      "execution_count": 49,
      "outputs": [
        {
          "output_type": "execute_result",
          "data": {
            "text/plain": [
              "array([[  1,   2,   4],\n",
              "       [  8,  16,  32],\n",
              "       [ 64, 128, 256]])"
            ]
          },
          "metadata": {
            "tags": []
          },
          "execution_count": 49
        }
      ]
    },
    {
      "cell_type": "markdown",
      "metadata": {
        "id": "MBVQ6ZGVI-vs"
      },
      "source": [
        "* Array 대수 연산"
      ]
    },
    {
      "cell_type": "code",
      "metadata": {
        "id": "yhc4kUe-JAS8",
        "colab": {
          "base_uri": "https://localhost:8080/"
        },
        "outputId": "7046b675-9d19-45d6-9e43-4c8ad66cebde"
      },
      "source": [
        "x = np.arange(4)\n",
        "print(\"x     =\", x)\n",
        "print(\"x + 5 =\", x + 5)\n",
        "print(\"x - 5 =\", x - 5)\n",
        "print(\"x * 2 =\", x * 2)\n",
        "print(\"x / 2 =\", x / 2)\n",
        "print(\"x // 2 =\", x // 2)  # floor division\n",
        "print(\"-x     = \", -x)\n",
        "print(\"x ** 2 = \", x ** 2)\n",
        "print(\"x % 2  = \", x % 2)"
      ],
      "execution_count": 50,
      "outputs": [
        {
          "output_type": "stream",
          "text": [
            "x     = [0 1 2 3]\n",
            "x + 5 = [5 6 7 8]\n",
            "x - 5 = [-5 -4 -3 -2]\n",
            "x * 2 = [0 2 4 6]\n",
            "x / 2 = [0.  0.5 1.  1.5]\n",
            "x // 2 = [0 0 1 1]\n",
            "-x     =  [ 0 -1 -2 -3]\n",
            "x ** 2 =  [0 1 4 9]\n",
            "x % 2  =  [0 1 0 1]\n"
          ],
          "name": "stdout"
        }
      ]
    },
    {
      "cell_type": "code",
      "metadata": {
        "id": "sU5ZKKSYJB_V",
        "colab": {
          "base_uri": "https://localhost:8080/"
        },
        "outputId": "9bd8dad0-f8e2-4669-bb3b-36b03a00c962"
      },
      "source": [
        "-(0.5*x + 1) ** 2"
      ],
      "execution_count": 51,
      "outputs": [
        {
          "output_type": "execute_result",
          "data": {
            "text/plain": [
              "array([-1.  , -2.25, -4.  , -6.25])"
            ]
          },
          "metadata": {
            "tags": []
          },
          "execution_count": 51
        }
      ]
    },
    {
      "cell_type": "code",
      "metadata": {
        "id": "kLoSWpahJCsa",
        "colab": {
          "base_uri": "https://localhost:8080/"
        },
        "outputId": "aa9d05fb-b04e-4466-8413-6857a92dbaa8"
      },
      "source": [
        "np.add(x, 2)"
      ],
      "execution_count": 52,
      "outputs": [
        {
          "output_type": "execute_result",
          "data": {
            "text/plain": [
              "array([2, 3, 4, 5])"
            ]
          },
          "metadata": {
            "tags": []
          },
          "execution_count": 52
        }
      ]
    },
    {
      "cell_type": "markdown",
      "metadata": {
        "id": "fzwmi2jGJDpg"
      },
      "source": [
        "* **Operator Equivalent ufunc**\n",
        " * ''' + '''\tnp.add\tAddition (e.g., 1 + 1 = 2)\n",
        " * ''' - '''\tnp.subtract\tSubtraction (e.g., 3 - 2 = 1)\n",
        " * ''' - '''\tnp.negative\tUnary negation (e.g., -2)\n",
        " * ''' * '''\tnp.multiply\tMultiplication (e.g., 2 * 3 = 6)\n",
        " * ''' / '''\tnp.divide\tDivision (e.g., 3 / 2 = 1.5)\n",
        " * ''' // '''\tnp.floor_divide\tFloor division (e.g., 3 // 2 = 1)\n",
        " * ''' ** '''\tnp.power\tExponentiation (e.g., 2 ** 3 = 8)\n",
        " * ''' % '''\tnp.mod\tModulus/remainder (e.g., 9 % 4 = 1)"
      ]
    },
    {
      "cell_type": "markdown",
      "metadata": {
        "id": "FQeYBFjoJGHm"
      },
      "source": [
        "* 절댓값"
      ]
    },
    {
      "cell_type": "code",
      "metadata": {
        "id": "doGF7lkzJHjw",
        "colab": {
          "base_uri": "https://localhost:8080/"
        },
        "outputId": "824a75b5-cf15-46ba-cae1-3bae57fb8492"
      },
      "source": [
        "x = np.array([-2, -1, 0, 1, 2])\n",
        "abs(x)"
      ],
      "execution_count": 53,
      "outputs": [
        {
          "output_type": "execute_result",
          "data": {
            "text/plain": [
              "array([2, 1, 0, 1, 2])"
            ]
          },
          "metadata": {
            "tags": []
          },
          "execution_count": 53
        }
      ]
    },
    {
      "cell_type": "code",
      "metadata": {
        "id": "njq-JbZZJI7q",
        "colab": {
          "base_uri": "https://localhost:8080/"
        },
        "outputId": "ca8cdf47-8c60-4e17-c8e2-206fd8e96f1f"
      },
      "source": [
        "np.absolute(x)"
      ],
      "execution_count": 54,
      "outputs": [
        {
          "output_type": "execute_result",
          "data": {
            "text/plain": [
              "array([2, 1, 0, 1, 2])"
            ]
          },
          "metadata": {
            "tags": []
          },
          "execution_count": 54
        }
      ]
    },
    {
      "cell_type": "code",
      "metadata": {
        "id": "pnXzurNlJJq7",
        "colab": {
          "base_uri": "https://localhost:8080/"
        },
        "outputId": "f243efe0-5cf7-4979-d784-1ecdbf9bec0a"
      },
      "source": [
        "np.abs(x)"
      ],
      "execution_count": 55,
      "outputs": [
        {
          "output_type": "execute_result",
          "data": {
            "text/plain": [
              "array([2, 1, 0, 1, 2])"
            ]
          },
          "metadata": {
            "tags": []
          },
          "execution_count": 55
        }
      ]
    },
    {
      "cell_type": "markdown",
      "metadata": {
        "id": "B2t6SbgAJIrH"
      },
      "source": [
        "* 삼각함수"
      ]
    },
    {
      "cell_type": "code",
      "metadata": {
        "id": "jEFYXLDHJL_K"
      },
      "source": [
        "theta = np.linspace(0, np.pi, 3)"
      ],
      "execution_count": 56,
      "outputs": []
    },
    {
      "cell_type": "code",
      "metadata": {
        "id": "ehNCKWn3JN5W",
        "colab": {
          "base_uri": "https://localhost:8080/"
        },
        "outputId": "898be0e7-719d-4f61-98cf-91974a1673e2"
      },
      "source": [
        "x = [-1, 0, 1]\n",
        "print(\"x         = \", x)\n",
        "print(\"arcsin(x) = \", np.arcsin(x))\n",
        "print(\"arccos(x) = \", np.arccos(x))\n",
        "print(\"arctan(x) = \", np.arctan(x))"
      ],
      "execution_count": 57,
      "outputs": [
        {
          "output_type": "stream",
          "text": [
            "x         =  [-1, 0, 1]\n",
            "arcsin(x) =  [-1.57079633  0.          1.57079633]\n",
            "arccos(x) =  [3.14159265 1.57079633 0.        ]\n",
            "arctan(x) =  [-0.78539816  0.          0.78539816]\n"
          ],
          "name": "stdout"
        }
      ]
    },
    {
      "cell_type": "markdown",
      "metadata": {
        "id": "mA-PHrbBJPBq"
      },
      "source": [
        "* 지수함수와 로그"
      ]
    },
    {
      "cell_type": "code",
      "metadata": {
        "id": "Wvqe9cZeJPb0",
        "colab": {
          "base_uri": "https://localhost:8080/"
        },
        "outputId": "f857d378-b022-42f4-9606-2cab01e98e63"
      },
      "source": [
        "x = [1, 2, 3]\n",
        "print(\"x     =\", x)\n",
        "print(\"e^x   =\", np.exp(x))\n",
        "print(\"2^x   =\", np.exp2(x))\n",
        "print(\"3^x   =\", np.power(3, x))"
      ],
      "execution_count": 58,
      "outputs": [
        {
          "output_type": "stream",
          "text": [
            "x     = [1, 2, 3]\n",
            "e^x   = [ 2.71828183  7.3890561  20.08553692]\n",
            "2^x   = [2. 4. 8.]\n",
            "3^x   = [ 3  9 27]\n"
          ],
          "name": "stdout"
        }
      ]
    },
    {
      "cell_type": "code",
      "metadata": {
        "id": "9kXtH-IAJQYV",
        "colab": {
          "base_uri": "https://localhost:8080/"
        },
        "outputId": "f222c1c1-58af-494f-84fa-3cea703d8aa6"
      },
      "source": [
        "x = [1, 2, 4, 10]\n",
        "print(\"x        =\", x)\n",
        "print(\"ln(x)    =\", np.log(x))\n",
        "print(\"log2(x)  =\", np.log2(x))\n",
        "print(\"log10(x) =\", np.log10(x))"
      ],
      "execution_count": 59,
      "outputs": [
        {
          "output_type": "stream",
          "text": [
            "x        = [1, 2, 4, 10]\n",
            "ln(x)    = [0.         0.69314718 1.38629436 2.30258509]\n",
            "log2(x)  = [0.         1.         2.         3.32192809]\n",
            "log10(x) = [0.         0.30103    0.60205999 1.        ]\n"
          ],
          "name": "stdout"
        }
      ]
    },
    {
      "cell_type": "code",
      "metadata": {
        "id": "2yMOIXrLJReP",
        "colab": {
          "base_uri": "https://localhost:8080/"
        },
        "outputId": "3a48c745-949c-4287-df6c-fea99331abfd"
      },
      "source": [
        "x = [0, 0.001, 0.01, 0.1]\n",
        "print(\"exp(x) - 1 =\", np.expm1(x))\n",
        "print(\"log(1 + x) =\", np.log1p(x))"
      ],
      "execution_count": 60,
      "outputs": [
        {
          "output_type": "stream",
          "text": [
            "exp(x) - 1 = [0.         0.0010005  0.01005017 0.10517092]\n",
            "log(1 + x) = [0.         0.0009995  0.00995033 0.09531018]\n"
          ],
          "name": "stdout"
        }
      ]
    },
    {
      "cell_type": "markdown",
      "metadata": {
        "id": "RNyyfJkcJSwA"
      },
      "source": [
        "# 기타 참고 자료\n",
        "* https://jakevdp.github.io/PythonDataScienceHandbook/index.html"
      ]
    }
  ]
}