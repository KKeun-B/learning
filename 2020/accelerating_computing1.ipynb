{
  "nbformat": 4,
  "nbformat_minor": 0,
  "metadata": {
    "colab": {
      "name": "accelerating computing1.ipynb",
      "provenance": [],
      "collapsed_sections": [],
      "include_colab_link": true
    },
    "kernelspec": {
      "name": "python3",
      "display_name": "Python 3"
    },
    "accelerator": "GPU"
  },
  "cells": [
    {
      "cell_type": "markdown",
      "metadata": {
        "id": "view-in-github",
        "colab_type": "text"
      },
      "source": [
        "<a href=\"https://colab.research.google.com/github/KKeun-B/learning/blob/main/2020/accelerating_computing1.ipynb\" target=\"_parent\"><img src=\"https://colab.research.google.com/assets/colab-badge.svg\" alt=\"Open In Colab\"/></a>"
      ]
    },
    {
      "cell_type": "markdown",
      "metadata": {
        "id": "jAMjYxcoLqoe"
      },
      "source": [
        "# ax+b를 계산하시오\n",
        "\n",
        "* a=2, b=3을 사용\n",
        "\n",
        "* x는 numpy linspace 함수를 활용해 0부터 10까지 100개의 구간과 100000개의 구간으로 나누어서 사용\n",
        "\n",
        "* numpy 연산, numba.jit, vectorize( target='parallel') vectorize( target='cuda)를 각각 사용해 시간을 비교할 것 (총 8개)\n",
        "\n",
        "* 런타임 -> 런타임 유형변경 -> 하드웨어 가속기를 GPU로 변경하고 사용할것\n",
        "\n",
        "* 시간비교는 %timeit 사용"
      ]
    },
    {
      "cell_type": "code",
      "metadata": {
        "id": "RrBh95esL83s"
      },
      "source": [
        "import math\n",
        "import numpy as np\n",
        "import matplotlib.pyplot as plt\n",
        "import numba\n",
        "from numba import vectorize, float32, cuda"
      ],
      "execution_count": 1,
      "outputs": []
    },
    {
      "cell_type": "code",
      "metadata": {
        "id": "H0xVtgBiL_uq",
        "colab": {
          "base_uri": "https://localhost:8080/"
        },
        "outputId": "99f1b94f-bb61-42e1-d74a-ba860eef1b8d"
      },
      "source": [
        "!find / -iname 'libdevice'\n",
        "!find / -iname 'libnvvm.so'"
      ],
      "execution_count": 2,
      "outputs": [
        {
          "output_type": "stream",
          "text": [
            "/usr/local/cuda-10.0/nvvm/libdevice\n",
            "/usr/local/cuda-10.1/nvvm/libdevice\n",
            "/usr/local/cuda-11.0/nvvm/libdevice\n",
            "/usr/local/cuda-10.0/nvvm/lib64/libnvvm.so\n",
            "/usr/local/cuda-10.1/nvvm/lib64/libnvvm.so\n",
            "/usr/local/cuda-11.0/nvvm/lib64/libnvvm.so\n"
          ],
          "name": "stdout"
        }
      ]
    },
    {
      "cell_type": "code",
      "metadata": {
        "id": "Dml_eb0aMBA4"
      },
      "source": [
        "import os\n",
        "##################################### TO DO ###########################################\n",
        "os.environ['NUMBAPRO_LIBDEVICE'] = \"/usr/local/cuda-10.0/nvvm/libdevice\"\n",
        "os.environ['NUMBAPRO_NVVM'] = \"/usr/local/cuda-10.0/nvvm/lib64/libnvvm.so\"\n",
        "####################################### end ###########################################"
      ],
      "execution_count": 3,
      "outputs": []
    },
    {
      "cell_type": "code",
      "metadata": {
        "id": "uiLt35CgOng2",
        "colab": {
          "base_uri": "https://localhost:8080/"
        },
        "outputId": "9127a8fd-9520-41af-f495-02e7dea72d36"
      },
      "source": [
        "\n",
        "def calculate_numpy(x):\n",
        "  return x*2 + 3\n",
        "\n",
        "##################################### TO DO ###########################################\n",
        "@numba.jit(\"float32[:](float32[:])\")\n",
        "####################################### end ###########################################\n",
        "def calculate_jit(x):\n",
        "  return x*2 + 3\n",
        "\n",
        "\n",
        "##################################### TO DO ###########################################\n",
        "@vectorize([float32(float32)], target='parallel')\n",
        "####################################### end ###########################################\n",
        "def calculate_parallel(x):\n",
        "  return x*2 + 3\n",
        "\n",
        "\n",
        "##################################### TO DO ###########################################\n",
        "@vectorize(['float32(float32)'], target='cuda')\n",
        "####################################### end ###########################################\n",
        "def calculate_cuda(x):\n",
        "  return x*2 + 3"
      ],
      "execution_count": 4,
      "outputs": [
        {
          "output_type": "stream",
          "text": [
            "/usr/local/lib/python3.7/dist-packages/numba/np/ufunc/parallel.py:363: NumbaWarning: The TBB threading layer requires TBB version 2019.5 or later i.e., TBB_INTERFACE_VERSION >= 11005. Found TBB_INTERFACE_VERSION = 9107. The TBB threading layer is disabled.\n",
            "  warnings.warn(problem)\n"
          ],
          "name": "stderr"
        }
      ]
    },
    {
      "cell_type": "markdown",
      "metadata": {
        "id": "FKyUvDcvNaDD"
      },
      "source": [
        "# x를 0부터 10까지 100개의 구간으로 나누었을 경우\n",
        "(dytpe = np.float32 사용)"
      ]
    },
    {
      "cell_type": "code",
      "metadata": {
        "id": "y52u_J-MNU-6",
        "colab": {
          "base_uri": "https://localhost:8080/"
        },
        "outputId": "2bc4bbd4-df85-457e-863a-c5b79e28e959"
      },
      "source": [
        "##################################### TO DO ###########################################\n",
        "x = np.linspace(0, 10, 100, dtype='float32')\n",
        "y1 = calculate_numpy(x)\n",
        "y2 = calculate_jit(x)\n",
        "y3 = calculate_parallel(x)\n",
        "y4 = calculate_cuda(x)\n",
        "\n",
        "####################################### end ###########################################"
      ],
      "execution_count": 5,
      "outputs": [
        {
          "output_type": "stream",
          "text": [
            "/usr/local/lib/python3.7/dist-packages/numba/cuda/envvars.py:17: NumbaWarning: \n",
            "Environment variables with the 'NUMBAPRO' prefix are deprecated and consequently ignored, found use of NUMBAPRO_NVVM=/usr/local/cuda-10.0/nvvm/lib64/libnvvm.so.\n",
            "\n",
            "For more information about alternatives visit: ('https://numba.pydata.org/numba-doc/latest/cuda/overview.html', '#cudatoolkit-lookup')\n",
            "  warnings.warn(errors.NumbaWarning(msg))\n",
            "/usr/local/lib/python3.7/dist-packages/numba/cuda/envvars.py:17: NumbaWarning: \n",
            "Environment variables with the 'NUMBAPRO' prefix are deprecated and consequently ignored, found use of NUMBAPRO_LIBDEVICE=/usr/local/cuda-10.0/nvvm/libdevice.\n",
            "\n",
            "For more information about alternatives visit: ('https://numba.pydata.org/numba-doc/latest/cuda/overview.html', '#cudatoolkit-lookup')\n",
            "  warnings.warn(errors.NumbaWarning(msg))\n"
          ],
          "name": "stderr"
        }
      ]
    },
    {
      "cell_type": "code",
      "metadata": {
        "id": "lS1Dgz0nOCvq",
        "colab": {
          "base_uri": "https://localhost:8080/"
        },
        "outputId": "7edfe395-27ca-46e2-9396-97041ee5d7f5"
      },
      "source": [
        "%timeit calculate_numpy(x)"
      ],
      "execution_count": 6,
      "outputs": [
        {
          "output_type": "stream",
          "text": [
            "The slowest run took 12.66 times longer than the fastest. This could mean that an intermediate result is being cached.\n",
            "100000 loops, best of 5: 1.99 µs per loop\n"
          ],
          "name": "stdout"
        }
      ]
    },
    {
      "cell_type": "code",
      "metadata": {
        "id": "aD8kYW_QP5gO",
        "colab": {
          "base_uri": "https://localhost:8080/"
        },
        "outputId": "9c76f284-87fa-456c-fee1-0fc8f3bb2fe5"
      },
      "source": [
        "%timeit calculate_jit(x)"
      ],
      "execution_count": 7,
      "outputs": [
        {
          "output_type": "stream",
          "text": [
            "The slowest run took 185.14 times longer than the fastest. This could mean that an intermediate result is being cached.\n",
            "1000000 loops, best of 5: 657 ns per loop\n"
          ],
          "name": "stdout"
        }
      ]
    },
    {
      "cell_type": "code",
      "metadata": {
        "id": "PvsbArV0P7V0",
        "colab": {
          "base_uri": "https://localhost:8080/"
        },
        "outputId": "739cce74-9d66-4e9d-f975-88f5967e201b"
      },
      "source": [
        "%timeit calculate_parallel(x)"
      ],
      "execution_count": 8,
      "outputs": [
        {
          "output_type": "stream",
          "text": [
            "The slowest run took 1019.82 times longer than the fastest. This could mean that an intermediate result is being cached.\n",
            "100000 loops, best of 5: 3.25 µs per loop\n"
          ],
          "name": "stdout"
        }
      ]
    },
    {
      "cell_type": "code",
      "metadata": {
        "id": "RR9A2xqoP8Id",
        "colab": {
          "base_uri": "https://localhost:8080/"
        },
        "outputId": "f9f1a991-1ac7-4f07-99f8-fcfcc4923244"
      },
      "source": [
        "##################################### TO DO ###########################################\n",
        "# CPU 메모리에 있는 x를 GPU로 복사\n",
        "x_device = cuda.to_device(x)\n",
        "####################################### end ###########################################\n",
        "%timeit calculate_cuda(x_device)"
      ],
      "execution_count": 9,
      "outputs": [
        {
          "output_type": "stream",
          "text": [
            "1000 loops, best of 5: 537 µs per loop\n"
          ],
          "name": "stdout"
        }
      ]
    },
    {
      "cell_type": "markdown",
      "metadata": {
        "id": "EShFPu3EN590"
      },
      "source": [
        "# x를 0부터 10까지 100000000개의 구간으로 나누었을 경우\n",
        "(dytpe = np.float32 사용)"
      ]
    },
    {
      "cell_type": "code",
      "metadata": {
        "id": "VVMJqnYFN1FS"
      },
      "source": [
        "##################################### TO DO ###########################################\n",
        "x = np.linspace(0, 10, 100000000, dtype='float32')\n",
        "y1 = calculate_numpy(x)\n",
        "y2 = calculate_jit(x)\n",
        "y3 = calculate_parallel(x)\n",
        "y4 = calculate_cuda(x)\n",
        "####################################### end ###########################################"
      ],
      "execution_count": 10,
      "outputs": []
    },
    {
      "cell_type": "code",
      "metadata": {
        "id": "V0k50hvrQPBE",
        "colab": {
          "base_uri": "https://localhost:8080/"
        },
        "outputId": "804e3f6c-16d3-4e64-ce1a-d29cb0615429"
      },
      "source": [
        "%timeit calculate_numpy(x)"
      ],
      "execution_count": 11,
      "outputs": [
        {
          "output_type": "stream",
          "text": [
            "10 loops, best of 5: 104 ms per loop\n"
          ],
          "name": "stdout"
        }
      ]
    },
    {
      "cell_type": "code",
      "metadata": {
        "id": "rGRGqgkfQQEj",
        "colab": {
          "base_uri": "https://localhost:8080/"
        },
        "outputId": "2c0d341b-ef31-4b3b-93ee-42b71f6e8ab1"
      },
      "source": [
        "%timeit calculate_jit(x)"
      ],
      "execution_count": 12,
      "outputs": [
        {
          "output_type": "stream",
          "text": [
            "10 loops, best of 5: 99.6 ms per loop\n"
          ],
          "name": "stdout"
        }
      ]
    },
    {
      "cell_type": "code",
      "metadata": {
        "id": "NFsHRHk6QUnz",
        "colab": {
          "base_uri": "https://localhost:8080/"
        },
        "outputId": "9badb358-3e93-4ca0-eb84-70eb335ed0fd"
      },
      "source": [
        "%timeit calculate_parallel(x)"
      ],
      "execution_count": 13,
      "outputs": [
        {
          "output_type": "stream",
          "text": [
            "1 loop, best of 5: 1.09 s per loop\n"
          ],
          "name": "stdout"
        }
      ]
    },
    {
      "cell_type": "code",
      "metadata": {
        "id": "yOXAGfEaQV46",
        "colab": {
          "base_uri": "https://localhost:8080/"
        },
        "outputId": "c946740b-15f5-41b7-91d3-17d0570f5612"
      },
      "source": [
        "##################################### TO DO ###########################################\n",
        "# CPU 메모리에 있는 x를 GPU로 복사\n",
        "x_device = cuda.to_device(x)\n",
        "####################################### end ###########################################\n",
        "%timeit calculate_cuda(x_device)"
      ],
      "execution_count": 14,
      "outputs": [
        {
          "output_type": "stream",
          "text": [
            "100 loops, best of 5: 8.75 ms per loop\n"
          ],
          "name": "stdout"
        }
      ]
    },
    {
      "cell_type": "markdown",
      "metadata": {
        "id": "ig3ye-hbbjsf"
      },
      "source": [
        "# a*x+b*y+c*z+d*xyz+e*xy+f*xz+g*yz를 계산하시오.\n",
        "\n",
        "*    a=5, b=7, c=8, d=9, e=2, f=3, g=4 으로 가정\n",
        "*   x는 numpy linspace 함수를 활용해 0부터 10까지 100000000구간으로 나누어서 사용\n",
        "*   numba를 사용하기 전, jit, parallel, cuda를 모두 사용하여 결과를 비교하시오\n",
        "*   dtype = float32 사용\n",
        "\n",
        "\n",
        "\n",
        "\n",
        "\n",
        "\n",
        "\n"
      ]
    },
    {
      "cell_type": "code",
      "metadata": {
        "id": "d6CjHKXdbm8e"
      },
      "source": [
        "def calculate__numpy(x,y,z):\n",
        "  return 5*x + 7*y + 8*z + 9*x*y*z + 2*x*y + 3*x*z + 4*y*z\n",
        "\n",
        "##################################### TO DO ###########################################\n",
        "@numba.jit(\"float32[:](float32[:],float32[:],float32[:])\")\n",
        "####################################### end ###########################################\n",
        "def calculate__jit(x,y,z):\n",
        "  return 5*x + 7*y + 8*z + 9*x*y*z + 2*x*y + 3*x*z + 4*y*z\n",
        "\n",
        "\n",
        "##################################### TO DO ###########################################\n",
        "@vectorize([float32(float32, float32, float32)], target='parallel')\n",
        "####################################### end ###########################################\n",
        "def calculate__parallel(x,y,z):\n",
        "  return 5*x + 7*y + 8*z + 9*x*y*z + 2*x*y + 3*x*z + 4*y*z\n",
        "\n",
        "\n",
        "##################################### TO DO ###########################################\n",
        "@vectorize(['float32(float32, float32, float32)'], target='cuda')\n",
        "####################################### end ###########################################\n",
        "def calculate__cuda(x,y,z):\n",
        "  return 5*x + 7*y + 8*z + 9*x*y*z + 2*x*y + 3*x*z + 4*y*z"
      ],
      "execution_count": 15,
      "outputs": []
    },
    {
      "cell_type": "code",
      "metadata": {
        "id": "5qRH48wM3IYt"
      },
      "source": [
        "x = np.linspace(0, 10, 100000000, dtype='float32')\n",
        "y = np.linspace(0, 10, 100000000, dtype='float32')\n",
        "z = np.linspace(0, 10, 100000000, dtype='float32')\n",
        "w1 = calculate__numpy(x,y,z)\n",
        "w2 = calculate__jit(x,y,z)\n",
        "w3 = calculate__parallel(x,y,z)\n",
        "w4 = calculate__cuda(x,y,z)"
      ],
      "execution_count": 16,
      "outputs": []
    },
    {
      "cell_type": "code",
      "metadata": {
        "id": "R-611hg03X2D",
        "colab": {
          "base_uri": "https://localhost:8080/"
        },
        "outputId": "4a50d62a-0470-4556-e0a7-2a00cd94148c"
      },
      "source": [
        "%timeit calculate__numpy(x,y,z)"
      ],
      "execution_count": 17,
      "outputs": [
        {
          "output_type": "stream",
          "text": [
            "1 loop, best of 5: 1.25 s per loop\n"
          ],
          "name": "stdout"
        }
      ]
    },
    {
      "cell_type": "code",
      "metadata": {
        "id": "ydqid5383bgL",
        "colab": {
          "base_uri": "https://localhost:8080/"
        },
        "outputId": "03c4433d-6b3d-47f2-8308-933b421f7d80"
      },
      "source": [
        "%timeit calculate__jit(x,y,z)"
      ],
      "execution_count": 18,
      "outputs": [
        {
          "output_type": "stream",
          "text": [
            "1 loop, best of 5: 455 ms per loop\n"
          ],
          "name": "stdout"
        }
      ]
    },
    {
      "cell_type": "code",
      "metadata": {
        "id": "z_eKEm-k3bkg",
        "colab": {
          "base_uri": "https://localhost:8080/"
        },
        "outputId": "4c11e0a3-1736-4432-ee7b-ad571eee3387"
      },
      "source": [
        "%timeit calculate__parallel(x,y,z)"
      ],
      "execution_count": 19,
      "outputs": [
        {
          "output_type": "stream",
          "text": [
            "1 loop, best of 5: 1.57 s per loop\n"
          ],
          "name": "stdout"
        }
      ]
    },
    {
      "cell_type": "code",
      "metadata": {
        "id": "eMhkS7m53brK",
        "colab": {
          "base_uri": "https://localhost:8080/"
        },
        "outputId": "13b75e36-c1d9-47ff-8a6d-39e76e11474c"
      },
      "source": [
        "x_device = cuda.to_device(x)\n",
        "y_device = cuda.to_device(y)\n",
        "z_device = cuda.to_device(z)\n",
        "%timeit calculate__cuda(x_device,y_device,z_device)"
      ],
      "execution_count": 20,
      "outputs": [
        {
          "output_type": "stream",
          "text": [
            "10 loops, best of 5: 14.8 ms per loop\n"
          ],
          "name": "stdout"
        }
      ]
    }
  ]
}