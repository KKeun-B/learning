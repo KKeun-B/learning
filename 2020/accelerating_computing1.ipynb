{
  "nbformat": 4,
  "nbformat_minor": 0,
  "metadata": {
    "colab": {
      "name": "accelerating computing1.ipynb",
      "provenance": [],
      "collapsed_sections": [],
      "include_colab_link": true
    },
    "kernelspec": {
      "name": "python3",
      "display_name": "Python 3"
    },
    "accelerator": "GPU"
  },
  "cells": [
    {
      "cell_type": "markdown",
      "metadata": {
        "id": "view-in-github",
        "colab_type": "text"
      },
      "source": [
        "<a href=\"https://colab.research.google.com/github/KKeun-B/learning/blob/main/2020/accelerating_computing1.ipynb\" target=\"_parent\"><img src=\"https://colab.research.google.com/assets/colab-badge.svg\" alt=\"Open In Colab\"/></a>"
      ]
    },
    {
      "cell_type": "markdown",
      "metadata": {
        "id": "jAMjYxcoLqoe"
      },
      "source": [
        "# ax+b를 계산하시오\n",
        "\n",
        "* a=2, b=3을 사용\n",
        "\n",
        "* x는 numpy linspace 함수를 활용해 0부터 10까지 100개의 구간과 100000개의 구간으로 나누어서 사용\n",
        "\n",
        "* numpy 연산, numba.jit, vectorize( target='parallel') vectorize( target='cuda)를 각각 사용해 시간을 비교할 것 (총 8개)\n",
        "\n",
        "* 런타임 -> 런타임 유형변경 -> 하드웨어 가속기를 GPU로 변경하고 사용할것\n",
        "\n",
        "* 시간비교는 %timeit 사용"
      ]
    },
    {
      "cell_type": "code",
      "metadata": {
        "id": "RrBh95esL83s"
      },
      "source": [
        "import math\n",
        "import numpy as np\n",
        "import matplotlib.pyplot as plt\n",
        "import numba\n",
        "from numba import vectorize, float32, cuda"
      ],
      "execution_count": 21,
      "outputs": []
    },
    {
      "cell_type": "code",
      "metadata": {
        "id": "H0xVtgBiL_uq",
        "colab": {
          "base_uri": "https://localhost:8080/"
        },
        "outputId": "6a65a25b-e001-444d-ff01-5a57591133e4"
      },
      "source": [
        "!find / -iname 'libdevice'\n",
        "!find / -iname 'libnvvm.so'"
      ],
      "execution_count": 22,
      "outputs": [
        {
          "output_type": "stream",
          "text": [
            "/usr/local/cuda-10.0/nvvm/libdevice\n",
            "/usr/local/cuda-10.1/nvvm/libdevice\n",
            "/usr/local/cuda-11.0/nvvm/libdevice\n",
            "/usr/local/cuda-10.0/nvvm/lib64/libnvvm.so\n",
            "/usr/local/cuda-10.1/nvvm/lib64/libnvvm.so\n",
            "/usr/local/cuda-11.0/nvvm/lib64/libnvvm.so\n"
          ],
          "name": "stdout"
        }
      ]
    },
    {
      "cell_type": "code",
      "metadata": {
        "id": "Dml_eb0aMBA4"
      },
      "source": [
        "import os\n",
        "##################################### TO DO ###########################################\n",
        "os.environ['NUMBAPRO_LIBDEVICE'] = \"/usr/local/cuda-10.0/nvvm/libdevice\"\n",
        "os.environ['NUMBAPRO_NVVM'] = \"/usr/local/cuda-10.0/nvvm/lib64/libnvvm.so\"\n",
        "####################################### end ###########################################"
      ],
      "execution_count": 23,
      "outputs": []
    },
    {
      "cell_type": "code",
      "metadata": {
        "id": "uiLt35CgOng2"
      },
      "source": [
        "\n",
        "def calculate_numpy(x):\n",
        "  return x*2 + 3\n",
        "\n",
        "##################################### TO DO ###########################################\n",
        "@numba.jit(\"float32[:](float32[:])\")\n",
        "####################################### end ###########################################\n",
        "def calculate_jit(x):\n",
        "  return x*2 + 3\n",
        "\n",
        "\n",
        "##################################### TO DO ###########################################\n",
        "@vectorize([float32(float32)], target='parallel')\n",
        "####################################### end ###########################################\n",
        "def calculate_parallel(x):\n",
        "  return x*2 + 3\n",
        "\n",
        "\n",
        "##################################### TO DO ###########################################\n",
        "@vectorize(['float32(float32)'], target='cuda')\n",
        "####################################### end ###########################################\n",
        "def calculate_cuda(x):\n",
        "  return x*2 + 3"
      ],
      "execution_count": 24,
      "outputs": []
    },
    {
      "cell_type": "markdown",
      "metadata": {
        "id": "FKyUvDcvNaDD"
      },
      "source": [
        "# x를 0부터 10까지 100개의 구간으로 나누었을 경우\n",
        "(dytpe = np.float32 사용)"
      ]
    },
    {
      "cell_type": "code",
      "metadata": {
        "id": "y52u_J-MNU-6"
      },
      "source": [
        "##################################### TO DO ###########################################\n",
        "x = np.linspace(0, 10, 100, dtype='float32')\n",
        "y1 = calculate_numpy(x)\n",
        "y2 = calculate_jit(x)\n",
        "y3 = calculate_parallel(x)\n",
        "y4 = calculate_cuda(x)\n",
        "\n",
        "####################################### end ###########################################"
      ],
      "execution_count": 25,
      "outputs": []
    },
    {
      "cell_type": "code",
      "metadata": {
        "id": "lS1Dgz0nOCvq",
        "colab": {
          "base_uri": "https://localhost:8080/"
        },
        "outputId": "6eeb2157-1075-41d8-bef5-0c9a86ceea8c"
      },
      "source": [
        "%timeit calculate_numpy(x)"
      ],
      "execution_count": 26,
      "outputs": [
        {
          "output_type": "stream",
          "text": [
            "The slowest run took 18.48 times longer than the fastest. This could mean that an intermediate result is being cached.\n",
            "100000 loops, best of 5: 2.01 µs per loop\n"
          ],
          "name": "stdout"
        }
      ]
    },
    {
      "cell_type": "code",
      "metadata": {
        "id": "aD8kYW_QP5gO",
        "colab": {
          "base_uri": "https://localhost:8080/"
        },
        "outputId": "d0a0f99b-13ef-4323-da95-f492f99662c7"
      },
      "source": [
        "%timeit calculate_jit(x)"
      ],
      "execution_count": 28,
      "outputs": [
        {
          "output_type": "stream",
          "text": [
            "The slowest run took 86.92 times longer than the fastest. This could mean that an intermediate result is being cached.\n",
            "1000000 loops, best of 5: 653 ns per loop\n"
          ],
          "name": "stdout"
        }
      ]
    },
    {
      "cell_type": "code",
      "metadata": {
        "id": "PvsbArV0P7V0",
        "colab": {
          "base_uri": "https://localhost:8080/"
        },
        "outputId": "dee82113-c219-41a6-f9c0-fc3bce7e9bda"
      },
      "source": [
        "%timeit calculate_parallel(x)"
      ],
      "execution_count": 29,
      "outputs": [
        {
          "output_type": "stream",
          "text": [
            "The slowest run took 713.46 times longer than the fastest. This could mean that an intermediate result is being cached.\n",
            "100000 loops, best of 5: 3.34 µs per loop\n"
          ],
          "name": "stdout"
        }
      ]
    },
    {
      "cell_type": "code",
      "metadata": {
        "id": "RR9A2xqoP8Id",
        "colab": {
          "base_uri": "https://localhost:8080/"
        },
        "outputId": "e98b6aab-0e88-4459-f75c-4285c0a32185"
      },
      "source": [
        "##################################### TO DO ###########################################\n",
        "# CPU 메모리에 있는 x를 GPU로 복사\n",
        "x_device = cuda.to_device(x)\n",
        "####################################### end ###########################################\n",
        "%timeit calculate_cuda(x_device)"
      ],
      "execution_count": 30,
      "outputs": [
        {
          "output_type": "stream",
          "text": [
            "The slowest run took 4.50 times longer than the fastest. This could mean that an intermediate result is being cached.\n",
            "1000 loops, best of 5: 526 µs per loop\n"
          ],
          "name": "stdout"
        }
      ]
    },
    {
      "cell_type": "markdown",
      "metadata": {
        "id": "EShFPu3EN590"
      },
      "source": [
        "# x를 0부터 10까지 100000000개의 구간으로 나누었을 경우\n",
        "(dytpe = np.float32 사용)"
      ]
    },
    {
      "cell_type": "code",
      "metadata": {
        "id": "VVMJqnYFN1FS"
      },
      "source": [
        "##################################### TO DO ###########################################\n",
        "x = np.linspace(0, 10, 100000000, dtype='float32')\n",
        "y1 = calculate_numpy(x)\n",
        "y2 = calculate_jit(x)\n",
        "y3 = calculate_parallel(x)\n",
        "y4 = calculate_cuda(x)\n",
        "####################################### end ###########################################"
      ],
      "execution_count": 31,
      "outputs": []
    },
    {
      "cell_type": "code",
      "metadata": {
        "id": "V0k50hvrQPBE",
        "colab": {
          "base_uri": "https://localhost:8080/"
        },
        "outputId": "8ed9026b-8179-4ea8-8f6a-63a6729d815b"
      },
      "source": [
        "%timeit calculate_numpy(x)"
      ],
      "execution_count": 32,
      "outputs": [
        {
          "output_type": "stream",
          "text": [
            "10 loops, best of 5: 104 ms per loop\n"
          ],
          "name": "stdout"
        }
      ]
    },
    {
      "cell_type": "code",
      "metadata": {
        "id": "rGRGqgkfQQEj",
        "colab": {
          "base_uri": "https://localhost:8080/"
        },
        "outputId": "4cf9b66f-d469-4511-def4-a3d270eba695"
      },
      "source": [
        "%timeit calculate_jit(x)"
      ],
      "execution_count": 33,
      "outputs": [
        {
          "output_type": "stream",
          "text": [
            "10 loops, best of 5: 98.3 ms per loop\n"
          ],
          "name": "stdout"
        }
      ]
    },
    {
      "cell_type": "code",
      "metadata": {
        "id": "NFsHRHk6QUnz",
        "colab": {
          "base_uri": "https://localhost:8080/"
        },
        "outputId": "a4a95abf-ff71-43ec-8601-95eec7521375"
      },
      "source": [
        "%timeit calculate_parallel(x)"
      ],
      "execution_count": 34,
      "outputs": [
        {
          "output_type": "stream",
          "text": [
            "1 loop, best of 5: 1.08 s per loop\n"
          ],
          "name": "stdout"
        }
      ]
    },
    {
      "cell_type": "code",
      "metadata": {
        "id": "yOXAGfEaQV46",
        "colab": {
          "base_uri": "https://localhost:8080/"
        },
        "outputId": "c056d7b6-7620-443d-f116-c8df4d733faf"
      },
      "source": [
        "##################################### TO DO ###########################################\n",
        "# CPU 메모리에 있는 x를 GPU로 복사\n",
        "x_device = cuda.to_device(x)\n",
        "####################################### end ###########################################\n",
        "%timeit calculate_cuda(x_device)"
      ],
      "execution_count": 35,
      "outputs": [
        {
          "output_type": "stream",
          "text": [
            "100 loops, best of 5: 8.75 ms per loop\n"
          ],
          "name": "stdout"
        }
      ]
    },
    {
      "cell_type": "markdown",
      "metadata": {
        "id": "ig3ye-hbbjsf"
      },
      "source": [
        "# a*x+b*y+c*z+d*xyz+e*xy+f*xz+g*yz를 계산하시오.\n",
        "\n",
        "*    a=5, b=7, c=8, d=9, e=2, f=3, g=4 으로 가정\n",
        "*   x는 numpy linspace 함수를 활용해 0부터 10까지 100000000구간으로 나누어서 사용\n",
        "*   numba를 사용하기 전, jit, parallel, cuda를 모두 사용하여 결과를 비교하시오\n",
        "*   dtype = float32 사용\n",
        "\n",
        "\n",
        "\n",
        "\n",
        "\n",
        "\n",
        "\n"
      ]
    },
    {
      "cell_type": "code",
      "metadata": {
        "id": "d6CjHKXdbm8e"
      },
      "source": [
        "def calculate__numpy(x,y,z):\n",
        "  return 5*x + 7*y + 8*z + 9*x*y*z + 2*x*y + 3*x*z + 4*y*z\n",
        "\n",
        "##################################### TO DO ###########################################\n",
        "@numba.jit(\"float32[:](float32[:],float32[:],float32[:])\")\n",
        "####################################### end ###########################################\n",
        "def calculate__jit(x,y,z):\n",
        "  return 5*x + 7*y + 8*z + 9*x*y*z + 2*x*y + 3*x*z + 4*y*z\n",
        "\n",
        "\n",
        "##################################### TO DO ###########################################\n",
        "@vectorize([float32(float32, float32, float32)], target='parallel')\n",
        "####################################### end ###########################################\n",
        "def calculate__parallel(x,y,z):\n",
        "  return 5*x + 7*y + 8*z + 9*x*y*z + 2*x*y + 3*x*z + 4*y*z\n",
        "\n",
        "\n",
        "##################################### TO DO ###########################################\n",
        "@vectorize(['float32(float32, float32, float32)'], target='cuda')\n",
        "####################################### end ###########################################\n",
        "def calculate__cuda(x,y,z):\n",
        "  return 5*x + 7*y + 8*z + 9*x*y*z + 2*x*y + 3*x*z + 4*y*z"
      ],
      "execution_count": 36,
      "outputs": []
    },
    {
      "cell_type": "code",
      "metadata": {
        "id": "5qRH48wM3IYt"
      },
      "source": [
        "x = np.linspace(0, 10, 100000000, dtype='float32')\n",
        "y = np.linspace(0, 10, 100000000, dtype='float32')\n",
        "z = np.linspace(0, 10, 100000000, dtype='float32')\n",
        "w1 = calculate__numpy(x,y,z)\n",
        "w2 = calculate__jit(x,y,z)\n",
        "w3 = calculate__parallel(x,y,z)\n",
        "w4 = calculate__cuda(x,y,z)"
      ],
      "execution_count": 37,
      "outputs": []
    },
    {
      "cell_type": "code",
      "metadata": {
        "id": "R-611hg03X2D",
        "colab": {
          "base_uri": "https://localhost:8080/"
        },
        "outputId": "eeb9c375-478f-4205-a8a8-985195e28ed4"
      },
      "source": [
        "%timeit calculate__numpy(x,y,z)"
      ],
      "execution_count": 38,
      "outputs": [
        {
          "output_type": "stream",
          "text": [
            "1 loop, best of 5: 1.34 s per loop\n"
          ],
          "name": "stdout"
        }
      ]
    },
    {
      "cell_type": "code",
      "metadata": {
        "id": "ydqid5383bgL",
        "colab": {
          "base_uri": "https://localhost:8080/"
        },
        "outputId": "12226995-eb73-4dfd-dce7-c40b83c052bd"
      },
      "source": [
        "%timeit calculate__jit(x,y,z)"
      ],
      "execution_count": 39,
      "outputs": [
        {
          "output_type": "stream",
          "text": [
            "1 loop, best of 5: 463 ms per loop\n"
          ],
          "name": "stdout"
        }
      ]
    },
    {
      "cell_type": "code",
      "metadata": {
        "id": "z_eKEm-k3bkg",
        "colab": {
          "base_uri": "https://localhost:8080/"
        },
        "outputId": "c177bd62-96b2-4edc-d673-3d23f9ec6dd7"
      },
      "source": [
        "%timeit calculate__parallel(x,y,z)"
      ],
      "execution_count": 40,
      "outputs": [
        {
          "output_type": "stream",
          "text": [
            "1 loop, best of 5: 1.59 s per loop\n"
          ],
          "name": "stdout"
        }
      ]
    },
    {
      "cell_type": "code",
      "metadata": {
        "id": "eMhkS7m53brK",
        "colab": {
          "base_uri": "https://localhost:8080/"
        },
        "outputId": "4161e952-53ad-402c-e0e5-7f89dd429d52"
      },
      "source": [
        "x_device = cuda.to_device(x)\n",
        "y_device = cuda.to_device(y)\n",
        "z_device = cuda.to_device(z)\n",
        "%timeit calculate__cuda(x_device,y_device,z_device)"
      ],
      "execution_count": 41,
      "outputs": [
        {
          "output_type": "stream",
          "text": [
            "10 loops, best of 5: 14.8 ms per loop\n"
          ],
          "name": "stdout"
        }
      ]
    }
  ]
}