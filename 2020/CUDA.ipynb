{
  "nbformat": 4,
  "nbformat_minor": 0,
  "metadata": {
    "colab": {
      "name": "CUDA.ipynb",
      "provenance": [],
      "collapsed_sections": [],
      "include_colab_link": true
    },
    "kernelspec": {
      "name": "python3",
      "display_name": "Python 3"
    },
    "accelerator": "GPU"
  },
  "cells": [
    {
      "cell_type": "markdown",
      "metadata": {
        "id": "view-in-github",
        "colab_type": "text"
      },
      "source": [
        "<a href=\"https://colab.research.google.com/github/KKeun-B/learning/blob/main/2020/CUDA.ipynb\" target=\"_parent\"><img src=\"https://colab.research.google.com/assets/colab-badge.svg\" alt=\"Open In Colab\"/></a>"
      ]
    },
    {
      "cell_type": "markdown",
      "metadata": {
        "id": "Q6RWcI4z-2pW"
      },
      "source": [
        "# CUDA C/C++을 이용한 가속화 애플리케이션 \n",
        "\n",
        "\n",
        "\n"
      ]
    },
    {
      "cell_type": "markdown",
      "metadata": {
        "id": "P4gex5U_8qbH"
      },
      "source": [
        "\n",
        "\n",
        "가속화 컴퓨팅은 CPU만을 사용한 컴퓨팅을 대체하는 새로운 베스트 프랙티스입니다. 가속화 컴퓨팅을 통해 이룬 수많은 개선 사례, 증가일로에 있는 가속화 애플리케이션에 대한 요청, 프로그래밍을 쉽게 할 수 있도록 돕는 각종 규약, 그리고 이를 지원하는 하드웨어의 지속적인 발전 등이 변화를 이끌고 있습니다.\n",
        "\n",
        "뛰어난 성능과 사용 편의성 관점에서 가속화 컴퓨팅을 바라본다면 그 중심에는 [CUDA](https://developer.nvidia.com/about-cuda) 컴퓨팅 플랫폼이 자리 잡고 있습니다. CUDA는 C, C++, 파이썬, 포트란과 같은 기존의 언어를 확장하여, 가속화되고 고도로 병렬화된 코드를 세계에서 가장 효과적인 병렬 프로세서인 NVIDIA GPU 상에서 실행할 수 있도록 만들어 주는 코딩 패러다임입니다. CUDA는 적은 노력만으로도 애플리케이션을 극적으로 가속화할 수 있으며, [DNN](https://developer.nvidia.com/cudnn), [BLAS](https://developer.nvidia.com/cublas), [그래프 애널리틱스](https://developer.nvidia.com/nvgraph), [FFT](https://developer.nvidia.com/cufft) 등 다양한 최적화 라이브러리로 구성된 생태계를 지니고 있습니다. 또한 강력한 [커맨드라인](http://docs.nvidia.com/cuda/profiler-users-guide/index.html#nvprof-overview) 및 [비쥬얼 프로파일러](http://docs.nvidia.com/cuda/profiler-users-guide/index.html#visual)를 제공합니다. CUDA는 또한 [전산유체역학](https://www.nvidia.com/en-us/data-center/gpu-accelerated-applications/catalog/?product_category_id=10,12,16,17,19,51,53,71,87,121,124,156,157,195,202,203,204,312,339,340,395,407,448,4&search=), [분자역학](https://www.nvidia.com/en-us/data-center/gpu-accelerated-applications/catalog/?product_category_id=8,57,92,123,211,213,237,272,274,282,283,307,325,337,344,345,351,362,365,380,396,398&search=), [양자화학](https://www.nvidia.com/en-us/data-center/gpu-accelerated-applications/catalog/?product_category_id=8,57,92,123,211,213,237,272,274,282,283,307,325,337,344,345,351,362,365,380,396,398&search=), [물리학](https://www.nvidia.com/en-us/data-center/gpu-accelerated-applications/catalog/?product_category_id=6,24,116,118,119,135,229,231,372,373,392,393,489,493,494,495,496,497,498,67,170,216&search=), 고성능 컴퓨팅 등의 분야를 위한 [세계에서 가장 우수한 애플리케이션](https://www.nvidia.com/en-us/data-center/gpu-accelerated-applications/catalog/?product_category_id=58,59,60,293,98,172,223,227,228,265,487,488,114,389,220,258,461&search=)을 지원합니다.\n",
        "\n",
        "CUDA를 학습함으로써 여러분도 자신의 애플리케이션을 가속화할 수 있습니다. 가속화된 애플리케이션은 CPU만을 사용하여 실행할 때보다 훨씬 빠르게 작동하며, CPU의 성능 제약으로 인해 할 수 없었던 계산을 가능하게 합니다. 본 강좌에서 여러분은 CUDA C/C++를 이용하여 가속화 애플리케이션을 프로그래밍하는 방법을 배우고, CPU 기반의 애플리케이션을 가속화하여 성능 이득을 얻는 연습을 통해 컴퓨팅의 새로운 영역으로 첫발을 내딛게 될것입니다. \n",
        "\n"
      ]
    },
    {
      "cell_type": "markdown",
      "metadata": {
        "id": "mf2PZ8ds82wG"
      },
      "source": [
        "---\n",
        "\n",
        "## 선행지식 \n",
        "\n",
        "강좌의 이해를 위하여 여러분은 다음 사항을 알고 있어야 합니다.\n",
        "\n",
        "* C 언어로 변수를 선언하고 반복문을 만들고 if/else 구문을 사용하기\n",
        "* C 언어로 함수를 정의하고 호출하기\n",
        "* C 언어로 배열을 할당하기\n",
        "\n",
        "CUDA와 관련된 선행지식은 필요하지 않습니다.\n",
        "\n"
      ]
    },
    {
      "cell_type": "markdown",
      "metadata": {
        "id": "WbF1om_M85-f"
      },
      "source": [
        "---\n",
        "\n",
        "## 학습목표\n",
        "\n",
        "강좌를 마치면 여러분은 다음 사항을 수행할 수 있게 될 것입니다.\n",
        "\n",
        "* CPU 함수를 호출하고 GPU **커널(kernel)을 구동(launch)**하는 C/C++ 프로그램을 작성, 컴파일, 실행하기\n",
        "* **실행 설정(execution configuration)**을 통해 병렬 **스레드 계층(thread hierarchy)** 제어하기 \n",
        "* 직렬로 실행되는 반복문을 GPU 상에서 병렬로 실행되도록 수정하기\n",
        "* CPU와 GPU를 위한 메모리를 할당하고 해제하기\n",
        "* CUDA 코드에서 생성된 오류 처리하기\n",
        "* CPU-only 애플리케이션 가속화하기\n",
        "\n"
      ]
    },
    {
      "cell_type": "markdown",
      "metadata": {
        "id": "flnEclNB86IQ"
      },
      "source": [
        "---\n",
        "\n",
        "## 가속화 시스템\n",
        "\n",
        "가속화 시스템은 이종(heterogeneous) 시스템이라고 부르기도 합니다. 이는 시스템이 서로 이질적인 CPU와 GPU의 합으로 구성되기 때문에 생긴 이름입니다. 가속화 시스템은 CPU 프로그램을 수행하고, 이는 다시 GPU가 제공하는 고도의 병렬화 기능을 활용하기 위한 함수들을 구동하는 구조입니다. 본 강좌의 개발환경은 NVIDIA GPU를 포함한 가속화 시스템입니다. GPU에 대한 정보는 `nvidia-smi` 커맨드라인 명령어로 확인할 수 있습니다. 여기에서 smi는 systems management interface의 약자입니다. 아래 코드 실행 셀에서 `nvidia-smi` 명령을 입력하고 `CTRL+ENTER`를 눌러서 실행하세요. 본 강좌를 진행하면서 코드를 실행해야 할 때마다 이 셀들을 보게 될 것입니다. 실행된 결과의 출력은 코드가 실행된 후 셀의 아랫부분에 표시될 것입니다. 아래 코드를 실행한 후 출력에서 GPU의 이름을 잘 찾아서 확인해 보세요."
      ]
    },
    {
      "cell_type": "code",
      "metadata": {
        "id": "f0gnvlRd-2pX",
        "colab": {
          "base_uri": "https://localhost:8080/"
        },
        "outputId": "55924ff2-6f93-464a-bc8f-8bb991c9e2f3"
      },
      "source": [
        "!nvidia-smi"
      ],
      "execution_count": 1,
      "outputs": [
        {
          "output_type": "stream",
          "text": [
            "Fri May 14 15:08:57 2021       \n",
            "+-----------------------------------------------------------------------------+\n",
            "| NVIDIA-SMI 465.19.01    Driver Version: 460.32.03    CUDA Version: 11.2     |\n",
            "|-------------------------------+----------------------+----------------------+\n",
            "| GPU  Name        Persistence-M| Bus-Id        Disp.A | Volatile Uncorr. ECC |\n",
            "| Fan  Temp  Perf  Pwr:Usage/Cap|         Memory-Usage | GPU-Util  Compute M. |\n",
            "|                               |                      |               MIG M. |\n",
            "|===============================+======================+======================|\n",
            "|   0  Tesla T4            Off  | 00000000:00:04.0 Off |                    0 |\n",
            "| N/A   43C    P8    10W /  70W |      0MiB / 15109MiB |      0%      Default |\n",
            "|                               |                      |                  N/A |\n",
            "+-------------------------------+----------------------+----------------------+\n",
            "                                                                               \n",
            "+-----------------------------------------------------------------------------+\n",
            "| Processes:                                                                  |\n",
            "|  GPU   GI   CI        PID   Type   Process name                  GPU Memory |\n",
            "|        ID   ID                                                   Usage      |\n",
            "|=============================================================================|\n",
            "|  No running processes found                                                 |\n",
            "+-----------------------------------------------------------------------------+\n"
          ],
          "name": "stdout"
        }
      ]
    },
    {
      "cell_type": "markdown",
      "metadata": {
        "id": "0RR5M8gi-2pa"
      },
      "source": [
        "---\n",
        "\n",
        "## GPU 가속화 시스템 vs. CPU-only 시스템\n",
        "\n",
        "다음 슬라이드는 앞으로 공부할 내용을 개략적인 수준에서 시각적으로 보여줍니다. 주제를 보다 상세히 다루기에 앞서 슬라이드를 클릭하시면서 살펴 보세요. \n",
        "\n"
      ]
    },
    {
      "cell_type": "code",
      "metadata": {
        "id": "cGpgyw5X-2pc",
        "colab": {
          "base_uri": "https://localhost:8080/",
          "height": 590
        },
        "outputId": "59d9719c-760d-4464-93bf-c610a48081fd"
      },
      "source": [
        "%%HTML\n",
        "\n",
        "<iframe src=\"https://docs.google.com/presentation/d/e/2PACX-1vQsmItghQMFR_wq8ybFjdt-jeh29ueiOY-79IWUvZqRdxoQysMsBxJwQbrmOhqS5SMQJA3LCbj_9GDV/embed?start=false&loop=false&delayms=3000\" frameborder=\"0\" width=\"900\" height=\"550\" allowfullscreen=\"true\" mozallowfullscreen=\"true\" webkitallowfullscreen=\"true\"></iframe>"
      ],
      "execution_count": 2,
      "outputs": [
        {
          "output_type": "display_data",
          "data": {
            "text/html": [
              "\n",
              "<iframe src=\"https://docs.google.com/presentation/d/e/2PACX-1vQsmItghQMFR_wq8ybFjdt-jeh29ueiOY-79IWUvZqRdxoQysMsBxJwQbrmOhqS5SMQJA3LCbj_9GDV/embed?start=false&loop=false&delayms=3000\" frameborder=\"0\" width=\"900\" height=\"550\" allowfullscreen=\"true\" mozallowfullscreen=\"true\" webkitallowfullscreen=\"true\"></iframe>"
            ],
            "text/plain": [
              "<IPython.core.display.HTML object>"
            ]
          },
          "metadata": {
            "tags": []
          }
        }
      ]
    },
    {
      "cell_type": "markdown",
      "metadata": {
        "id": "6M1ROEpR-2pf"
      },
      "source": [
        "---\n",
        "\n",
        "## GPU를 위한 애플리케이션 코드 작성하기\n",
        "\n",
        "CUDA는 다양한 범용 프로그래밍 언어 확장을 지원합니다. 본 강좌에서는 그 중에서 C/C++을 사용합니다. 개발자들은 언어 확장을 통해 소스 코드를 GPU 상에서 손쉽게 실행할 수 있게 됩니다.\n",
        "\n",
        "아래는 `.cu` 파일을 보여 줍니다. `.cu`는 CUDA 가속화 프로그램을 위한 파일 확장자입니다. 여기에서 두 개의 함수가 있는데 첫 번째는 CPU 상에서 실행되고 두 번째는 GPU 상에서 실행될 것입니다. 각각의 함수가 서로 어떻게 다른지, 정의되는 방식과 호출되는 방식에 유념하여 잘 살펴 보세요.\n",
        "\n",
        "```cpp\n",
        "void CPUFunction()\n",
        "{\n",
        "  printf(\"This function is defined to run on the CPU.\\n\");\n",
        "}\n",
        "\n",
        "__global__ void GPUFunction()\n",
        "{\n",
        "  printf(\"This function is defined to run on the GPU.\\n\");\n",
        "}\n",
        "\n",
        "int main()\n",
        "{\n",
        "  CPUFunction();\n",
        "\n",
        "  GPUFunction<<<1, 1>>>();\n",
        "  cudaDeviceSynchronize();\n",
        "}\n",
        "```\n",
        "\n",
        "아래에 코드의 중요 부분과 함께 가속화 컴퓨팅에서 사용하는 주요 용어들을 정리했습니다:\n",
        "\n",
        "`__global__ void GPUFunction()`\n",
        "* `__global__` 키워드는 해당 함수가 GPU에서 실행되며 **전역적**으로 호출될 수 있음을 의미합니다. 지금 문맥에서 전역적이란 CPU나 GPU, 그 누구에 의해서든 호출될 수 있다는 뜻입니다.\n",
        "* CPU에서 수행되는 코드는 종종 **호스트(host)** 코드라고 불립니다. GPU에서 수행되는 코드는 **디바이스(device)** 코드라고 합니다.\n",
        "* 리턴 타입은 `void`입니다. `__global__` 키워드로 정의된 함수는 반드시 `void` 타입을 리턴해야 합니다.\n",
        "\n",
        "`GPUFunction<<<1, 1>>>();`\n",
        "* GPU에서 실행되는 함수를 호출할 때, 통상적으로 이 함수를 **커널(kernel)**이라고 부르며 호출 대신에 **구동(launch)**이라는 표현을 씁니다. \n",
        "* 커널을 구동할 때에는 **실행 설정(execution configuration)**을 해주어야 합니다. 이것은 커널에 인수를 전달하는 부분 직전에서 `<<<...>>>` 꼴의 문법을 사용하여 이루어집니다. 실행 설정은 본 강좌에서 자세히 살펴 볼 것입니다. 지금은 일단 커널이 (`<<<1, 1>>>`의 첫 번째 값 1로부터 온) 1 개의 스레드 블록을 사용하고, 스레드 블록당 (`<<<1, 1>>>`의 두 번째 값 1로부터 온) 1 개의 스레드를 사용한다고만 이해하면 됩니다.\n",
        "\n",
        "`cudaDeviceSynchronize();`\n",
        "* 대부분의 C/C++ 코드와는 달리 커널 구동은 **비동기적(asynchronous)**입니다. 즉, CPU 코드는 커널 구동이 완료되는 것을 기다리지 않고 다음 코드를 실행합니다.\n",
        "* CUDA 런타임에서 제공되는 `cudaDeviceSynchronize`의 호출은 호스트(CPU) 코드로 하여금 디바이스(GPU) 코드의 완료를 기다리게 하며, 디바이스 코드가 완료되었을 때 비로소 CPU가 실행을 재개합니다.\n",
        "\n"
      ]
    },
    {
      "cell_type": "markdown",
      "metadata": {
        "id": "qsp6SrRtEtyM"
      },
      "source": [
        "---\n",
        "\n",
        "### 실습: Hello GPU 커널 작성\n",
        "\n",
        "[`01-hello-gpu.cu`](../../../../../edit/tasks/task1/task/01_AC_CUDA_C-kr/01-hello/01-hello-gpu.cu) (<---- 소스 파일을 새로운 탭에서 열고 수정하려면 클릭하세요.)는 실제 동작하는 코드입니다. 이것은 두 개의 함수를 가지고 있고 둘 다 \"Hello from the CPU\"라는 메시지를 출력합니다. 여러분의 목표는 소스 파일에서 `helloGPU` 함수를 수정하여 GPU에서 실행되게 하고, 그 사실을 메시지로 출력하도록 만드는 것입니다. \n",
        "\n",
        "* 애플리케이션을 수정한 뒤, 아래와 같이 셀에서 컴파일하고 실행하세요. 코드 실행 셀에서 `CTRL+ENTER`를 누르면 코드가 실행된다는 점을 상기하세요. [`01-hello-gpu.cu`](../../../../../edit/tasks/task1/task/01_AC_CUDA_C-kr/01-hello/01-hello-gpu.cu)의 주석을 참고하세요. 어떻게 해야할 지 모르거나 작업을 확인해야 한다면 [솔루션](../../../../../edit/tasks/task1/task/01_AC_CUDA_C-kr/01-hello/solutions/01-hello-gpu-solution.cu)을 참고하세요. 아래 명령을 이용해서 컴파일과 실행을 하기 전에 여러분이 수정한 파일을 저장해야 한다는 것을 잊지 마세요."
      ]
    },
    {
      "cell_type": "code",
      "metadata": {
        "id": "AQuufZs9-2pf",
        "colab": {
          "base_uri": "https://localhost:8080/"
        },
        "outputId": "294b1980-06c6-4d80-eada-cba4000087d7"
      },
      "source": [
        "%%writefile 01-hello-gpu.cu\n",
        "#include <stdio.h>\n",
        "\n",
        "void helloCPU()\n",
        "{\n",
        "  printf(\"Hello from the CPU.\\n\");\n",
        "}\n",
        "\n",
        "/*\n",
        " * Refactor the `helloGPU` definition to be a kernel\n",
        " * that can be launched on the GPU. Update its message\n",
        " * to read \"Hello from the GPU!\"\n",
        " */\n",
        "\n",
        "__global__ void helloGPU()\n",
        "{\n",
        "  printf(\"Hello also from the GPU.\\n\");\n",
        "}\n",
        "\n",
        "int main()\n",
        "{\n",
        "\n",
        "  helloCPU();\n",
        "\n",
        "  /*\n",
        "   * Refactor this call to `helloGPU` so that it launches\n",
        "   * as a kernel on the GPU.\n",
        "   */\n",
        "\n",
        "  helloGPU<<<1,1>>>();\n",
        "  cudaDeviceSynchronize();\n",
        "\n",
        "  /*\n",
        "   * Add code below to synchronize on the completion of the\n",
        "   * `helloGPU` kernel completion before continuing the CPU\n",
        "   * thread.\n",
        "   */\n",
        "}\n"
      ],
      "execution_count": 3,
      "outputs": [
        {
          "output_type": "stream",
          "text": [
            "Writing 01-hello-gpu.cu\n"
          ],
          "name": "stdout"
        }
      ]
    },
    {
      "cell_type": "code",
      "metadata": {
        "id": "i0LqN2TgtHOz",
        "colab": {
          "base_uri": "https://localhost:8080/"
        },
        "outputId": "8be5e9af-75df-49b9-925d-03bb10f1cd27"
      },
      "source": [
        "!nvcc -o 01-hello-gpu 01-hello-gpu.cu -run"
      ],
      "execution_count": 4,
      "outputs": [
        {
          "output_type": "stream",
          "text": [
            "Hello from the CPU.\n",
            "Hello also from the GPU.\n"
          ],
          "name": "stdout"
        }
      ]
    },
    {
      "cell_type": "markdown",
      "metadata": {
        "id": "3dQcmrlk-2pi"
      },
      "source": [
        "[`01-hello-gpu.cu`](../../../../../edit/tasks/task1/task/01_AC_CUDA_C-kr/01-hello/01-hello-gpu.cu)를 성공적으로 수정했다면 아래에 기술된 바와 같이 차례대로 수정하세요. 단, 하나를 수정할 때마다 위 셀의 명령을 (`CTRL+ENTER`을 눌러서) 실행해서 컴파일과 실행을 해보세요. 오류가 발생하면 오류 메시지를 주의 깊게 읽어 보세요. 오류 메시지에 익숙해지면 나중에 여러분의 가속화 코드를 작성할 때 큰 도움이 됩니다.\n",
        "\n",
        "* 커널 정의 부분의 `__global__` 키워드를 삭제하세요. 오류가 발생한 라인 번호를 기억하세요. 오류 메시지에 나온 \"configured\"의 의미가 무엇일까요? 끝나면 `__global__`을 원래대로 복구하세요.\n",
        "* 실행 설정을 삭제하세요. 여러분이 앞에서 이해한 \"configured\"의 의미가 여전히 유효한가요? 끝나면 실행 설정을 원래대로 복구하세요.\n",
        "* `cudaDeviceSynchronize` 호출을 삭제하세요. 컴파일과 실행에 앞서 무슨 일이 일어날 지 추측해 보세요. 커널은 비동기적으로 구동되고 `cudaDeviceSynchronize`는 호스트의 실행을 멈추고 커널 실행이 끝나기를 기다린다는 점을 상기하세요. 끝나면 `cudaDeviceSynchronize`을 원래대로 복구하세요.\n",
        "* `Hello from the GPU`가 `Hello from the CPU` 보다 **먼저** 출력되도록 `01-hello-gpu.cu`를 수정하세요.\n",
        "* `Hello from the GPU`가 **두 번** 출력되게 하되, 하나는 `Hello from the CPU` **이전**에, 다른 하나는 **이후**에 출력되도록 `01-hello-gpu.cu`를 수정하세요.\n",
        "\n",
        "\n"
      ]
    },
    {
      "cell_type": "markdown",
      "metadata": {
        "id": "johsCXHIEJaA"
      },
      "source": [
        "---\n",
        "\n",
        "## 가속화 CUDA 코드 컴파일하고 실행하기\n",
        "\n",
        "본 섹션은 앞에서 `.cu` 프로그램을 컴파일하고 실행하기 위해 사용한 `nvcc` 명령어에 대하여 자세히 살펴 봅니다.\n",
        "\n",
        "CUDA 플랫폼은 [NVIDIA CUDA 컴파일러](http://docs.nvidia.com/cuda/cuda-compiler-driver-nvcc/index.html)인 `nvcc`를 포함하여 배포됩니다. `nvcc`는 호스트 코드와 디바이스 코드를 포함한 CUDA 가속화 애플리케이션을 컴파일할 수 있습니다. 본 강좌의 목적상 `nvcc`에 대한 논의는 강좌에 필요한 정도로만 제한할 예정입니다. 본 강좌를 수료한 뒤, `nvcc`를 더 깊이 이해하고자 한다면 http://docs.nvidia.com/cuda/cuda-compiler-driver-nvcc/index.html 문서부터 읽어가시면 됩니다.\n",
        "\n",
        "`gcc` 사용자들에게 `nvcc`는 꽤 친숙하게 보일 것입니다. 예를 들어, `some-CUDA.cu`를 컴파일하려면 간단히 `nvcc -arch=sm_70 -o out some-CUDA.cu -run`이라고 입력하면 됩니다.\n",
        "\n",
        "* `nvcc`는 `nvcc` 컴파일러를 사용하기 위한 커맨드라인 명령어입니다.\n",
        "* `some-CUDA.cu`는 컴파일할 파일로서 전달됩니다.\n",
        "* `o` 플래그는 컴파일된 프로그램의 출력 파일 이름을 지정합니다.\n",
        "* `arch` 플래그는 파일이 어떤 **아키텍쳐**를 위해 컴파일되는가를 지정합니다. 여기에서 `sm_70`은 강좌에서 사용하는 볼타(Volta) GPU를 의미합니다. 보다 자세한 사항은 다음 문서를 참고하세요.\n",
        "    * [arch 플래그](http://docs.nvidia.com/cuda/cuda-compiler-driver-nvcc/index.html#options-for-steering-gpu-code-generation)\n",
        "    * [가상 아키텍처 기능](http://docs.nvidia.com/cuda/cuda-compiler-driver-nvcc/index.html#virtual-architectures)     \n",
        "    * [GPU 기능](http://docs.nvidia.com/cuda/cuda-compiler-driver-nvcc/index.html#gpu-feature-list) \n",
        "* 편의상 `run` 플래그를 추가하여 컴파일된 바이너리를 자동으로 실행하게 합니다.\n"
      ]
    },
    {
      "cell_type": "markdown",
      "metadata": {
        "id": "vbLCloA1EK1g"
      },
      "source": [
        "\n",
        "---\n",
        "\n",
        "## CUDA 스레드 계층\n",
        "\n",
        "다음 슬라이드는 앞으로 공부할 내용을 개략적인 수준에서 시각적으로 보여줍니다. 주제를 보다 상세히 다루기에 앞서 슬라이드를 클릭하시면서 살펴 보세요. "
      ]
    },
    {
      "cell_type": "code",
      "metadata": {
        "id": "h3eOVG4C-2pk",
        "colab": {
          "base_uri": "https://localhost:8080/",
          "height": 590
        },
        "outputId": "0b10d423-7514-465f-8b7c-7a0dcb4e8544"
      },
      "source": [
        "%%HTML\n",
        "\n",
        "<iframe src=\"https://docs.google.com/presentation/d/e/2PACX-1vTrBXrw5-3ZwGG4utAcnrm12pzoX6Z0PCMh9iD0jQrbGZTxvv5Tj9UW1H-6J8S96KQjfJiFwQ5ALgAr/embed?start=false&loop=false&delayms=3000\" frameborder=\"0\" width=\"900\" height=\"550\" allowfullscreen=\"true\" mozallowfullscreen=\"true\" webkitallowfullscreen=\"true\"></iframe>"
      ],
      "execution_count": 5,
      "outputs": [
        {
          "output_type": "display_data",
          "data": {
            "text/html": [
              "\n",
              "<iframe src=\"https://docs.google.com/presentation/d/e/2PACX-1vTrBXrw5-3ZwGG4utAcnrm12pzoX6Z0PCMh9iD0jQrbGZTxvv5Tj9UW1H-6J8S96KQjfJiFwQ5ALgAr/embed?start=false&loop=false&delayms=3000\" frameborder=\"0\" width=\"900\" height=\"550\" allowfullscreen=\"true\" mozallowfullscreen=\"true\" webkitallowfullscreen=\"true\"></iframe>"
            ],
            "text/plain": [
              "<IPython.core.display.HTML object>"
            ]
          },
          "metadata": {
            "tags": []
          }
        }
      ]
    },
    {
      "cell_type": "markdown",
      "metadata": {
        "id": "TE46ymMk-2pm"
      },
      "source": [
        "## 병렬 커널 구동하기\n",
        "\n",
        "프로그래머는 실행 설정을 통해 다수의 GPU **스레드**에서 병렬로 실행될 커널의 세부사항을 지정합니다. 정확히 말하면 실행 설정은 얼마나 많은 스레드 그룹(**스레드 블록** 또는 **블록**이라고 합니다)이 있으며 각각의 스레드 그룹에는 얼마나 많은 스레드가 있는가를 나타냅니다. 문법은 다음과 같습니다.\n",
        "\n",
        "    <<<블록의 수, 블록당 스레드 수>>>\n",
        "\n",
        "**커널 코드는 구동될 때 설정된 모든 스레드 블록의 모든 스레드에서 동시에 실행됩니다.**\n",
        "\n",
        "따라서 `someKernel`이라는 커널이 있다고 할 때, 다음에 기술된 내용은 모두 참입니다.\n",
        "\n",
        "* `someKernel<<<1, 1>>>()`는 1 개의 스레드를 가진 스레드 블록 1 개에서 실행되는 설정이다. 따라서 커널은 1 회 수행된다.\n",
        "* `someKernel<<<1, 10>>>()`는 10 개의 스레드를 가진 스레드 블록 1 개에서 실행되는 설정이다. 따라서 커널은 10 회 수행된다.\n",
        "* `someKernel<<<10, 1>>>()`는 1 개의 스레드를 가진 스레드 블록 10 개에서 실행되는 설정이다. 따라서 커널은 10 회 수행된다.\n",
        "* `someKernel<<<10, 10>>>()`는 10 개의 스레드를 가진 스레드 블록 10 개에서 실행되는 설정이다. 따라서 커널은 100 회 수행된다.\n",
        "\n",
        "\n"
      ]
    },
    {
      "cell_type": "markdown",
      "metadata": {
        "id": "tcIHvFFaENY3"
      },
      "source": [
        "---\n",
        "\n",
        "### 실습: 병렬 커널 구동하기\n",
        "\n",
        "[`01-first-parallel.cu`](../../../../../edit/tasks/task1/task/01_AC_CUDA_C-kr/02-first-parallel/01-basic-parallel.cu)는 `This should be running in parallel`이라는 단순한 메시지를 출력합니다. 아래에 정리된 단계에 따라 코드를 수정하되, 먼저 코드가 GPU에서 실행되게 하고, 단일 스레드 블록에서 병렬로 실행되게 한 후, 마지막으로 다수의 블록에서도 병렬로 실행되도록 만드세요. 어떻게 해야할 지 모르거나 작업을 확인해야 한다면 [솔루션](../../../../../edit/tasks/task1/task/01_AC_CUDA_C-kr/02-first-parallel/solutions/01-basic-parallel-solution.cu)을 참고하세요. \n",
        "\n",
        "* `firstParallel` 함수를 수정하여 GPU 상에서 수행되는 CUDA 커널로서 구동하세요. 아래 셀의 명령어를 이용하여 `01-basic-parallel.cu`을 컴파일하고 실행하면 여전히 같은 메시지가 출력되어야 합니다. \n",
        "* `firstParallel` 커널을 수정하여 하나의 블록 안에 있는 5 개의 스레드에서 병렬로 실행되게 하세요. 컴파일하고 실행하면 메시지가 5 번 출력되어야 합니다.\n",
        "* `firstParallel` 커널을 다시 수정하여 이번에는 블록당 5 개의 스레드를 가진 블록 5 개에서 병렬로 실행되게 하세요. 컴파일하고 실행하면 메시지가 25 번 출력되어야 합니다."
      ]
    },
    {
      "cell_type": "code",
      "metadata": {
        "id": "UCURaQ3K-2pp",
        "colab": {
          "base_uri": "https://localhost:8080/"
        },
        "outputId": "68e857e3-8add-4579-e98d-cee9f4660a0c"
      },
      "source": [
        "%%writefile 01-basic-parallel.cu\n",
        "#include <stdio.h>\n",
        "\n",
        "/*\n",
        " * Refactor firstParallel so that it can run on the GPU.\n",
        " */\n",
        "\n",
        "__global__ void firstParallel()\n",
        "{\n",
        "  printf(\"This should be running in parallel.\\n\");\n",
        "}\n",
        "\n",
        "int main()\n",
        "{\n",
        "  /*\n",
        "   * Refactor this call to firstParallel to execute in parallel\n",
        "   * on the GPU.\n",
        "   */\n",
        "\n",
        "  firstParallel<<<5,5>>>();\n",
        "  cudaDeviceSynchronize();\n",
        "\n",
        "  /*\n",
        "   * Some code is needed below so that the CPU will wait\n",
        "   * for the GPU kernels to complete before proceeding.\n",
        "   */\n",
        "\n",
        "}\n"
      ],
      "execution_count": 6,
      "outputs": [
        {
          "output_type": "stream",
          "text": [
            "Writing 01-basic-parallel.cu\n"
          ],
          "name": "stdout"
        }
      ]
    },
    {
      "cell_type": "code",
      "metadata": {
        "id": "d17RxOfZtfoU",
        "colab": {
          "base_uri": "https://localhost:8080/"
        },
        "outputId": "ff6baf53-36a5-4ec8-81db-3fb5b5971ca0"
      },
      "source": [
        "!nvcc -o 01-basic-parallel 01-basic-parallel.cu -run"
      ],
      "execution_count": 7,
      "outputs": [
        {
          "output_type": "stream",
          "text": [
            "This should be running in parallel.\n",
            "This should be running in parallel.\n",
            "This should be running in parallel.\n",
            "This should be running in parallel.\n",
            "This should be running in parallel.\n",
            "This should be running in parallel.\n",
            "This should be running in parallel.\n",
            "This should be running in parallel.\n",
            "This should be running in parallel.\n",
            "This should be running in parallel.\n",
            "This should be running in parallel.\n",
            "This should be running in parallel.\n",
            "This should be running in parallel.\n",
            "This should be running in parallel.\n",
            "This should be running in parallel.\n",
            "This should be running in parallel.\n",
            "This should be running in parallel.\n",
            "This should be running in parallel.\n",
            "This should be running in parallel.\n",
            "This should be running in parallel.\n",
            "This should be running in parallel.\n",
            "This should be running in parallel.\n",
            "This should be running in parallel.\n",
            "This should be running in parallel.\n",
            "This should be running in parallel.\n"
          ],
          "name": "stdout"
        }
      ]
    },
    {
      "cell_type": "markdown",
      "metadata": {
        "id": "T5_IuQ5s-2pt"
      },
      "source": [
        "---\n",
        "\n",
        "## CUDA에서 지원하는 스레드 계층 변수\n",
        "\n",
        "다음 슬라이드는 앞으로 공부할 내용을 개략적인 수준에서 시각적으로 보여줍니다. 주제를 보다 상세히 다루기에 앞서 슬라이드를 클릭하시면서 살펴 보세요. "
      ]
    },
    {
      "cell_type": "code",
      "metadata": {
        "id": "dNhAUx23-2pw",
        "colab": {
          "base_uri": "https://localhost:8080/",
          "height": 590
        },
        "outputId": "266f39cd-a2b8-4870-8dc3-d4f483add279"
      },
      "source": [
        "%%HTML\n",
        "\n",
        "<iframe src=\"https://docs.google.com/presentation/d/e/2PACX-1vRggIc-Nxdya9NapAoVM6pZ2-73SwMdbe4h4i5EnugiMbnAxgXQePlB9WaWMvwbT39JlmAHiGhrG9EH/embed?start=false&loop=false&delayms=3000\" frameborder=\"0\" width=\"900\" height=\"550\" allowfullscreen=\"true\" mozallowfullscreen=\"true\" webkitallowfullscreen=\"true\"></iframe>"
      ],
      "execution_count": 8,
      "outputs": [
        {
          "output_type": "display_data",
          "data": {
            "text/html": [
              "\n",
              "<iframe src=\"https://docs.google.com/presentation/d/e/2PACX-1vRggIc-Nxdya9NapAoVM6pZ2-73SwMdbe4h4i5EnugiMbnAxgXQePlB9WaWMvwbT39JlmAHiGhrG9EH/embed?start=false&loop=false&delayms=3000\" frameborder=\"0\" width=\"900\" height=\"550\" allowfullscreen=\"true\" mozallowfullscreen=\"true\" webkitallowfullscreen=\"true\"></iframe>"
            ],
            "text/plain": [
              "<IPython.core.display.HTML object>"
            ]
          },
          "metadata": {
            "tags": []
          }
        }
      ]
    },
    {
      "cell_type": "markdown",
      "metadata": {
        "id": "tEbiyQZV-2p1"
      },
      "source": [
        "---\n",
        "\n",
        "## 스레드 인덱스와 블록 인덱스 (Thread and Block Indices)\n",
        "\n",
        "스레드 블록 안에 있는 각 스레드에는 0부터 작하는 인덱스가 할당됩니다. 또한, 각 블록 역시 0부터 시작하는 인덱스를 가지고 있습니다. 스레드가 모여 스레드 블록이 구성되듯이 블록이 모여 **그리드(grid)**가 됩니다. 그리드는 CUDA 스레드 계층 구조에서 최상위 개체에 해당합니다. 요약하면, CUDA 커널은 하나 이상의 블록으로 이루어진 그리드에서 실행되고, 각각의 블록은 1 개 이상의 스레드로 구성되는데 블록당 스레드의 개수는 동일합니다.\n",
        "\n",
        "CUDA 커널은 (블록 안에서의) 스레드 인덱스를 나타내는 변수와 (그리드 안에서의) 블록 인덱스를 나타내는 변수를 가지고 있습니다. 이들을 각각 `threadIdx.x`와 `blockIdx.x`라고 합니다.\n",
        "\n"
      ]
    },
    {
      "cell_type": "markdown",
      "metadata": {
        "id": "Ky-422iOEPyC"
      },
      "source": [
        "---\n",
        "\n",
        "\n",
        "### 실습:  특정한 스레드 및 블록 인덱스 사용하기\n",
        "\n",
        "[`01-thread-and-block-idx.cu`](../../../../../edit/tasks/task1/task/01_AC_CUDA_C-kr/03-indices/01-thread-and-block-idx.cu) 파일은 실패 메시지를 출력하는 커널을 포함하고 있습니다. 파일을 열고, 실행 설정을 어떻게 바꾸어야 성공 메시지가 출력될 것인지 살펴 보세요. 코드를 수정한 후 아래 셀을 이용하여 컴파일 및 실행을 하여 수정이 잘 되었는지 확인하세요. 어떻게 해야할 지 모르거나 작업을 확인해야 한다면 [솔루션](../../../../../edit/tasks/task1/task/01_AC_CUDA_C-kr/03-indices/solutions/01-thread-and-block-idx-solution.cu)을 참고하세요."
      ]
    },
    {
      "cell_type": "code",
      "metadata": {
        "id": "wtYYaBsC-2p3",
        "colab": {
          "base_uri": "https://localhost:8080/"
        },
        "outputId": "cb205809-cfb6-42ff-9ad4-faa5b4688c3c"
      },
      "source": [
        "%%writefile 01-thread-and-block-idx.cu\n",
        "#include <stdio.h>\n",
        "\n",
        "__global__ void printSuccessForCorrectExecutionConfiguration()\n",
        "{\n",
        "\n",
        "  if(threadIdx.x == 1023 && blockIdx.x == 255)\n",
        "  {\n",
        "    printf(\"Success!\\n\");\n",
        "  } else {\n",
        "  }\n",
        "}\n",
        "\n",
        "int main()\n",
        "{\n",
        "  /*\n",
        "   * Update the execution configuration so that the kernel\n",
        "   * will print `\"Success!\"`.\n",
        "   */\n",
        "\n",
        "  printSuccessForCorrectExecutionConfiguration<<<256, 1024>>>();\n",
        "  cudaDeviceSynchronize();\n",
        "}\n"
      ],
      "execution_count": 9,
      "outputs": [
        {
          "output_type": "stream",
          "text": [
            "Writing 01-thread-and-block-idx.cu\n"
          ],
          "name": "stdout"
        }
      ]
    },
    {
      "cell_type": "code",
      "metadata": {
        "id": "ykLVZwhqtsq5",
        "colab": {
          "base_uri": "https://localhost:8080/"
        },
        "outputId": "1bc81160-16d3-44ae-ebec-81218d5c07af"
      },
      "source": [
        "!nvcc -o 01-thread-and-block-idx 01-thread-and-block-idx.cu -run"
      ],
      "execution_count": 10,
      "outputs": [
        {
          "output_type": "stream",
          "text": [
            "Success!\n"
          ],
          "name": "stdout"
        }
      ]
    },
    {
      "cell_type": "markdown",
      "metadata": {
        "id": "dnsT8r2A-2p6"
      },
      "source": [
        "---\n",
        "\n",
        "## For 반복문 가속하기 (Accelerating For Loops)\n",
        "\n",
        "CPU-only 애플리케이션의 for 반복문은 가속화하기에 매우 적합한 대상입니다. 반복문으로 각 반복을 순차적으로 실행하는 대신에, 각 반복을 고유의 스레드에서 병렬로 실행되도록 하면 됩니다. 아래 반복문을 보면 반복이 몇 번 실행되는지와 각 반복에서 어떤 일이 일어나는가를 쉽게 알 수 있습니다.  \n",
        "\n",
        "```cpp\n",
        "int N = 2<<20;\n",
        "for (int i = 0; i < N; ++i)\n",
        "{\n",
        "  printf(\"%d\\n\", i);\n",
        "}\n",
        "```\n",
        "\n",
        "이 반복문을 병렬화하기 위해서 두 단계의 과정이 필요합니다.\n",
        "\n",
        "* 커널은 반복 중 **1 회**만 수행하도록 작성합니다.\n",
        "* 커널은 다른 커널의 동작 여부를 알 수 없으므로 정확한 횟수로 커널이 수행되도록 실행 설정을 해야 합니다. 즉, 반복문의 반복 횟수만큼 커널이 수행되어야 합니다.\n",
        "\n"
      ]
    },
    {
      "cell_type": "markdown",
      "metadata": {
        "id": "jk0RRDb4ER0T"
      },
      "source": [
        "---\n",
        "\n",
        "### 실습: 단일 스레드 블록으로 for 반복문 가속하기\n",
        "\n",
        "[`01-single-block-loop.cu`](../../../../../edit/tasks/task1/task/01_AC_CUDA_C-kr/04-loops/01-single-block-loop.cu) 내부의 `loop` 함수는 0 부터 9 까지의 숫자를 순차적으로 출력하는 반복문을 수행합니다. `loop` 함수를 수정해서 CUDA 커널로 만들고 N 번의 반복을 병렬로 실행하도록 구동하세요. 성공적으로 수정된 경우 여전히 0 부터 9 까지의 숫자가 출력되어야 합니다. 어떻게 해야할 지 모르거나 작업을 확인해야 한다면 [솔루션](../../../../../edit/tasks/task1/task/01_AC_CUDA_C-kr/04-loops/solutions/01-single-block-loop-solution.cu)을 참고하세요. "
      ]
    },
    {
      "cell_type": "code",
      "metadata": {
        "id": "5UTqfHyY-2p8",
        "colab": {
          "base_uri": "https://localhost:8080/"
        },
        "outputId": "bd178466-d6a4-4434-a8a0-ad4debceeda6"
      },
      "source": [
        "%%writefile 01-single-block-loop.cu\n",
        "#include <stdio.h>\n",
        "\n",
        "/*\n",
        " * Refactor `loop` to be a CUDA Kernel. The new kernel should\n",
        " * only do the work of 1 iteration of the original loop.\n",
        " */\n",
        "\n",
        "__global__ void loop()\n",
        "{\n",
        "  int i = threadIdx.x;\n",
        "  printf(\"This is iteration number %d\\n\", i);\n",
        "\n",
        "}\n",
        "\n",
        "int main()\n",
        "{\n",
        "  /*\n",
        "   * When refactoring `loop` to launch as a kernel, be sure\n",
        "   * to use the execution configuration to control how many\n",
        "   * \"iterations\" to perform.\n",
        "   *\n",
        "   * For this exercise, only use 1 block of threads.\n",
        "   */\n",
        "\n",
        "  loop<<<1,10>>>();\n",
        "  cudaDeviceSynchronize();\n",
        "}\n"
      ],
      "execution_count": 11,
      "outputs": [
        {
          "output_type": "stream",
          "text": [
            "Writing 01-single-block-loop.cu\n"
          ],
          "name": "stdout"
        }
      ]
    },
    {
      "cell_type": "code",
      "metadata": {
        "id": "vVa8TklJt2Zg",
        "colab": {
          "base_uri": "https://localhost:8080/"
        },
        "outputId": "374dffbd-3166-4155-860e-8a2ab1f079c2"
      },
      "source": [
        "!nvcc -o 01-single-block-loop 01-single-block-loop.cu -run"
      ],
      "execution_count": 12,
      "outputs": [
        {
          "output_type": "stream",
          "text": [
            "This is iteration number 0\n",
            "This is iteration number 1\n",
            "This is iteration number 2\n",
            "This is iteration number 3\n",
            "This is iteration number 4\n",
            "This is iteration number 5\n",
            "This is iteration number 6\n",
            "This is iteration number 7\n",
            "This is iteration number 8\n",
            "This is iteration number 9\n"
          ],
          "name": "stdout"
        }
      ]
    },
    {
      "cell_type": "markdown",
      "metadata": {
        "id": "rBqALzTV-2p_"
      },
      "source": [
        "---\n",
        "\n",
        "## 병렬 스레드 협력 (Coordinating Parallel Threads)\n",
        "\n",
        "다음 슬라이드는 앞으로 공부할 내용을 개략적인 수준에서 시각적으로 보여줍니다. 주제를 보다 상세히 다루기에 앞서 슬라이드를 클릭하시면서 살펴 보세요. \n"
      ]
    },
    {
      "cell_type": "code",
      "metadata": {
        "id": "qjrwDdip-2qA",
        "colab": {
          "base_uri": "https://localhost:8080/",
          "height": 590
        },
        "outputId": "5a7d8d15-626f-4878-93b0-e1fb28dde412"
      },
      "source": [
        "%%HTML\n",
        "\n",
        "<iframe src=\"https://docs.google.com/presentation/d/e/2PACX-1vRw3Cpp0Gh3GJx0TRhLMX3w9uO-QD7ZoFplWZAtUiblVKcCA1SSTKlmBD-ysiWJT3BHDop_O-OpRlYY/embed?start=false&loop=false&delayms=3000\" frameborder=\"0\" width=\"900\" height=\"550\" allowfullscreen=\"true\" mozallowfullscreen=\"true\" webkitallowfullscreen=\"true\"></iframe>"
      ],
      "execution_count": 13,
      "outputs": [
        {
          "output_type": "display_data",
          "data": {
            "text/html": [
              "\n",
              "<iframe src=\"https://docs.google.com/presentation/d/e/2PACX-1vRw3Cpp0Gh3GJx0TRhLMX3w9uO-QD7ZoFplWZAtUiblVKcCA1SSTKlmBD-ysiWJT3BHDop_O-OpRlYY/embed?start=false&loop=false&delayms=3000\" frameborder=\"0\" width=\"900\" height=\"550\" allowfullscreen=\"true\" mozallowfullscreen=\"true\" webkitallowfullscreen=\"true\"></iframe>"
            ],
            "text/plain": [
              "<IPython.core.display.HTML object>"
            ]
          },
          "metadata": {
            "tags": []
          }
        }
      ]
    },
    {
      "cell_type": "markdown",
      "metadata": {
        "id": "Ts07pSKp-2qD"
      },
      "source": [
        "---\n",
        "\n",
        "## 병렬화 수준을 높이기 위해 블록 차원 사용하기 (Block Dimensions)\n",
        "\n",
        "하나의 스레드 블록에는 최대 1024 개까지의 스레드만 들어갈 수 있습니다. 가속화 애플리케이션의 병렬화 수준을 높이기 위해서는 다수의 스레드 블록이 서로 협력하도록 해야 합니다.\n",
        "\n",
        "CUDA 커널은 하나의 블록에 들어있는 스레드의 수를 저장하는 `blockDim.x`라는 특별한 변수를 가지고 있습니다. 이 변수를 `blockIdx.x` 및 `threadIdx.x`와 함께 사용하여 블록과 스레드의 병렬 수행을 조직화함으로써 병렬화 수준을 높일 수 있는데, 이때 `threadIdx.x + blockIdx.x * blockDim.x`와 같은 수식을 사용합니다. 상세한 예는 다음과 같습니다. (역주: 이는 처리할 데이터를 1 차원으로 보았을 때의 예입니다. 2 차원의 영상 데이터 등을 처리한다고 할 때에는 `threadIdx.x + blockIdx.x * blockDim.x` 뿐 아니라 `threadIdx.y + blockIdx.y * blockDim.y`도 함께 사용됩니다.) \n",
        "\n",
        "실행 설정 `<<<10, 10>>>`은 블록 당 10 개의 스레드(역주: blockDim.x는 10)를 가진 블록 10 개로 이루어진, 총 100 개의 스레드로 구성된 그리드를 구동합니다. 따라서 0부터 99까지의 인덱스를 가진 값들 중에서 고유한 하나를 스레드에게 주어 계산시킬 수 있을 것입니다. (역주: 즉, 서로 다른 스레드가 같은 인덱스의 값을 계산하면 중복이 되므로 중복이 되지 않도록 각 스레드에게 일감을 배분한다는 뜻입니다.) \n",
        "\n",
        "* 블록의 `blockIdx.x`가 0이면 `blockIdx.x * blockDim.x`는 0이 됩니다. 이 0을 가능한 `threadIdx.x` 값인 0부터 9의 값에 더하면 100 개의 스레드 그리드 중 0부터 9까지의 인덱스를 얻을 수 있습니다.\n",
        "* 블록의 `blockIdx.x`가 1이면 `blockIdx.x * blockDim.x`는 10이 됩니다. 이 10을 가능한 `threadIdx.x` 값인 0부터 9의 값에 더하면 100 개의 스레드 그리드 중 10부터 19까지의 인덱스를 얻을 수 있습니다.\n",
        "* 블록의 `blockIdx.x`가 5이면 `blockIdx.x * blockDim.x`는 50이 됩니다. 이 50을 가능한 `threadIdx.x` 값인 0부터 9의 값에 더하면 100 개의 스레드 그리드 중 50부터 59까지의 인덱스를 얻을 수 있습니다.\n",
        "* 블록의 `blockIdx.x`가 9이면 `blockIdx.x * blockDim.x`는 90이 됩니다. 이 90을 가능한 `threadIdx.x` 값인 0부터 9의 값에 더하면 100 개의 스레드 그리드 중 90부터 99까지의 인덱스를 얻을 수 있습니다.\n",
        "\n"
      ]
    },
    {
      "cell_type": "markdown",
      "metadata": {
        "id": "iqwjsC4VEUk8"
      },
      "source": [
        "---\n",
        "\n",
        "### 실습:  다중 스레드 블록에서 for 반복문 가속화하기\n",
        "\n",
        "[`02-multi-block-loop.cu`](../../../../../edit/tasks/task1/task/01_AC_CUDA_C-kr/04-loops/02-multi-block-loop.cu) 내부의 `loop` 함수는 0 부터 9 까지의 숫자를 순차적으로 출력하는 for 반복문을 수행합니다. `loop` 함수를 수정해서 CUDA 커널로 만들고 `N` 번의 반복을 병렬로 실행하도록 구동하세요. 성공적으로 수정된 경우 여전히 0 부터 9 까지의 숫자가 출력되어야 합니다. 이 실습을 위한 추가 제약사항으로서, 최소 2 개 이상의 스레드 블록을 구동하도록 실행 설정을 하세요. 어떻게 해야할 지 모르거나 작업을 확인해야 한다면 [솔루션](../../../../../edit/tasks/task1/task/01_AC_CUDA_C-kr/04-loops/solutions/02-multi-block-loop-solution.cu)을 참고하세요. \n"
      ]
    },
    {
      "cell_type": "code",
      "metadata": {
        "id": "9mzId9hB-2qD",
        "colab": {
          "base_uri": "https://localhost:8080/"
        },
        "outputId": "97d76e2b-7431-4139-db7b-5e498e804f7b"
      },
      "source": [
        "%%writefile 02-multi-block-loop.cu\n",
        "#include <stdio.h>\n",
        "\n",
        "/*\n",
        " * Refactor `loop` to be a CUDA Kernel. The new kernel should\n",
        " * only do the work of 1 iteration of the original loop.\n",
        " */\n",
        "\n",
        "__global__ void loop()\n",
        "{\n",
        "  int i = threadIdx.x + blockIdx.x * blockDim.x;\n",
        "  printf(\"This is iteration number %d\\n\", i);\n",
        "}\n",
        "\n",
        "int main()\n",
        "{\n",
        "  /*\n",
        "   * When refactoring `loop` to launch as a kernel, be sure\n",
        "   * to use the execution configuration to control how many\n",
        "   * \"iterations\" to perform.\n",
        "   *\n",
        "   * For this exercise, be sure to use more than 1 block in\n",
        "   * the execution configuration.\n",
        "   */\n",
        "\n",
        "  loop<<<2, 5>>>();\n",
        "  cudaDeviceSynchronize();\n",
        "}\n"
      ],
      "execution_count": 14,
      "outputs": [
        {
          "output_type": "stream",
          "text": [
            "Writing 02-multi-block-loop.cu\n"
          ],
          "name": "stdout"
        }
      ]
    },
    {
      "cell_type": "code",
      "metadata": {
        "id": "VUyxteqOt-pQ",
        "colab": {
          "base_uri": "https://localhost:8080/"
        },
        "outputId": "6e702459-2d2d-41ee-c461-b04d5997ef4e"
      },
      "source": [
        "!nvcc -o 02-multi-block-loop 02-multi-block-loop.cu -run"
      ],
      "execution_count": 15,
      "outputs": [
        {
          "output_type": "stream",
          "text": [
            "This is iteration number 0\n",
            "This is iteration number 1\n",
            "This is iteration number 2\n",
            "This is iteration number 3\n",
            "This is iteration number 4\n",
            "This is iteration number 5\n",
            "This is iteration number 6\n",
            "This is iteration number 7\n",
            "This is iteration number 8\n",
            "This is iteration number 9\n"
          ],
          "name": "stdout"
        }
      ]
    },
    {
      "cell_type": "markdown",
      "metadata": {
        "id": "IUpYqTHE-2qI"
      },
      "source": [
        "---\n",
        "\n",
        "## GPU와 CPU가 사용하는 메모리 할당하기 (Allocating Memory)\n",
        "\n",
        "버전 6 이상의 최근 버전 CUDA에서는 CPU 호스트와 GPU 디바이스가 사용하는 메모리를 보다 쉽게 할당할 수 있습니다. 가속화 애플리케이션의 최적 성능을 위한 다양한 [중급 및 고급 메모리 관리 기법들](http://docs.nvidia.com/cuda/cuda-c-best-practices-guide/index.html#memory-optimizations) 이 있기는 하지만, 지금 소개하는 기본 CUDA 메모리 관리 기법만으로도 별다른 어려움 없이 CPU-only 애플리케이션에 비해 훨씬 훌륭한 성능을 얻을 수 있습니다.\n",
        "\n",
        "메모리를 할당하고 해제하며, 호스트와 디바이스 코드가 참조할 수 있는 포인터를 얻기 위해서는 아래 예제와 같이 `malloc`과 `free`를 `cudaMallocManaged`와 `cudaFree`로 바꾸어 주기만 하면 됩니다.\n",
        "\n",
        "```cpp\n",
        "// CPU-only\n",
        "\n",
        "int N = 2<<20;\n",
        "size_t size = N * sizeof(int);\n",
        "\n",
        "int *a;\n",
        "a = (int *)malloc(size);\n",
        "\n",
        "// Use `a` in CPU-only program.\n",
        "\n",
        "free(a);\n",
        "```\n",
        "\n",
        "```cpp\n",
        "// Accelerated\n",
        "\n",
        "int N = 2<<20;\n",
        "size_t size = N * sizeof(int);\n",
        "\n",
        "int *a;\n",
        "// Note the address of `a` is passed as first argument.\n",
        "cudaMallocManaged(&a, size);\n",
        "\n",
        "// Use `a` on the CPU and/or on any GPU in the accelerated system.\n",
        "\n",
        "cudaFree(a);\n",
        "```\n",
        "\n"
      ]
    },
    {
      "cell_type": "markdown",
      "metadata": {
        "id": "azS9DkRREXQc"
      },
      "source": [
        "---\n",
        "\n",
        "### 실습: 호스트와 디바이스에서 배열 다루기\n",
        "\n",
        "[`01-double-elements.cu`](../../../../../edit/tasks/task1/task/01_AC_CUDA_C-kr/05-allocate/01-double-elements.cu) 프로그램은 배열을 할당한 후 호스트 상에서 정수값으로 초기화하고 각각의 값을 GPU 상에서 2로 곱합니다. 그리고 다시 호스트 상에서 이배수 연산의 성공 여부를 확인합니다. 현재 이 프로그램은 잘 작동하지 않습니다. 포인터 `a`를 이용하여 호스트와 디바이스 양쪽에서 모두 메모리 접근이 가능해야 하지만 배열이 `malloc`으로 할당되어 있어서 호스트에서만 접근 가능합니다. 애플리케이션을 다음 조건에 따라 수정하세요. 어떻게 해야할 지 모르거나 작업을 확인해야 한다면 [솔루션](../../../../../edit/tasks/task1/task/01_AC_CUDA_C-kr/05-allocate/solutions/01-double-elements-solution.cu)을 참고하세요.           \n",
        "\n",
        "* `a`는 호스트 코드와 디바이스 코드 양쪽에서 모두 사용할 수 있어야 합니다.\n",
        "* `a`가 참조하는 메모리는 올바르게 해제되어야 합니다.\n"
      ]
    },
    {
      "cell_type": "code",
      "metadata": {
        "id": "VkW3l2KH-2qK",
        "colab": {
          "base_uri": "https://localhost:8080/"
        },
        "outputId": "8a0deb9d-cd84-4cab-b158-7179ff9dc044"
      },
      "source": [
        "%%writefile 01-double-elements.cu\n",
        "#include <stdio.h>\n",
        "\n",
        "/*\n",
        " * Initialize array values on the host.\n",
        " */\n",
        "\n",
        "void init(int *a, int N)\n",
        "{\n",
        "  int i;\n",
        "  for (i = 0; i < N; ++i)\n",
        "  {\n",
        "    a[i] = i;\n",
        "  }\n",
        "}\n",
        "\n",
        "/*\n",
        " * Double elements in parallel on the GPU.\n",
        " */\n",
        "\n",
        "__global__\n",
        "void doubleElements(int *a, int N)\n",
        "{\n",
        "  int i;\n",
        "  i = blockIdx.x * blockDim.x + threadIdx.x;\n",
        "  if (i < N)\n",
        "  {\n",
        "    a[i] *= 2;\n",
        "  }\n",
        "}\n",
        "\n",
        "/*\n",
        " * Check all elements have been doubled on the host.\n",
        " */\n",
        "\n",
        "bool checkElementsAreDoubled(int *a, int N)\n",
        "{\n",
        "  int i;\n",
        "  for (i = 0; i < N; ++i)\n",
        "  {\n",
        "    if (a[i] != i*2) return false;\n",
        "  }\n",
        "  return true;\n",
        "}\n",
        "\n",
        "int main()\n",
        "{\n",
        "  int N = 100;\n",
        "  int *a;\n",
        "\n",
        "  size_t size = N * sizeof(int);\n",
        "\n",
        "  /*\n",
        "   * Refactor this memory allocation to provide a pointer\n",
        "   * `a` that can be used on both the host and the device.\n",
        "   */\n",
        "\n",
        "  cudaMallocManaged(&a, size);\n",
        " \n",
        "  init(a, N);\n",
        "\n",
        "  size_t threads_per_block = 10;\n",
        "  size_t number_of_blocks = 10;\n",
        "\n",
        "  /*\n",
        "   * This launch will not work until the pointer `a` is also\n",
        "   * available to the device.\n",
        "   */\n",
        "\n",
        "  doubleElements<<<number_of_blocks, threads_per_block>>>(a, N);\n",
        "  cudaDeviceSynchronize();\n",
        "\n",
        "  bool areDoubled = checkElementsAreDoubled(a, N);\n",
        "  printf(\"All elements were doubled? %s\\n\", areDoubled ? \"TRUE\" : \"FALSE\");\n",
        "\n",
        "  /*\n",
        "   * Refactor to free memory that has been allocated to be\n",
        "   * accessed by both the host and the device.\n",
        "   */\n",
        "\n",
        "  cudaFree(a);\n",
        "}\n"
      ],
      "execution_count": 16,
      "outputs": [
        {
          "output_type": "stream",
          "text": [
            "Writing 01-double-elements.cu\n"
          ],
          "name": "stdout"
        }
      ]
    },
    {
      "cell_type": "code",
      "metadata": {
        "id": "X9V-R3SjuG6E",
        "colab": {
          "base_uri": "https://localhost:8080/"
        },
        "outputId": "bf643732-67d9-4ea8-de7a-af9770e4f1d5"
      },
      "source": [
        "!nvcc -o 01-double-elements 01-double-elements.cu -run"
      ],
      "execution_count": 17,
      "outputs": [
        {
          "output_type": "stream",
          "text": [
            "All elements were doubled? TRUE\n"
          ],
          "name": "stdout"
        }
      ]
    },
    {
      "cell_type": "markdown",
      "metadata": {
        "id": "-HuIsBt7-2qQ"
      },
      "source": [
        "## 그리드 크기와 작업량 간의 불일치\n",
        "\n",
        "다음 슬라이드는 앞으로 공부할 내용을 개략적인 수준에서 시각적으로 보여줍니다. 주제를 보다 상세히 다루기에 앞서 슬라이드를 클릭하시면서 살펴 보세요. "
      ]
    },
    {
      "cell_type": "code",
      "metadata": {
        "id": "mhHEsYU3-2qQ",
        "colab": {
          "base_uri": "https://localhost:8080/",
          "height": 590
        },
        "outputId": "40613e4c-be7b-41b5-ba36-5d5d0c6427ce"
      },
      "source": [
        "%%HTML\n",
        "\n",
        "<iframe src=\"https://docs.google.com/presentation/d/e/2PACX-1vQZjfKvoLhR4lVWB73QxecFlpzvwJ9EHbwk_cjXXhE3vKALU_uuClEzeBmEcFPmGS6J3aZud70EiLGH/embed?start=false&loop=false&delayms=3000\" frameborder=\"0\" width=\"900\" height=\"550\" allowfullscreen=\"true\" mozallowfullscreen=\"true\" webkitallowfullscreen=\"true\"></iframe>"
      ],
      "execution_count": 18,
      "outputs": [
        {
          "output_type": "display_data",
          "data": {
            "text/html": [
              "\n",
              "<iframe src=\"https://docs.google.com/presentation/d/e/2PACX-1vQZjfKvoLhR4lVWB73QxecFlpzvwJ9EHbwk_cjXXhE3vKALU_uuClEzeBmEcFPmGS6J3aZud70EiLGH/embed?start=false&loop=false&delayms=3000\" frameborder=\"0\" width=\"900\" height=\"550\" allowfullscreen=\"true\" mozallowfullscreen=\"true\" webkitallowfullscreen=\"true\"></iframe>"
            ],
            "text/plain": [
              "<IPython.core.display.HTML object>"
            ]
          },
          "metadata": {
            "tags": []
          }
        }
      ]
    },
    {
      "cell_type": "markdown",
      "metadata": {
        "id": "Jdwoekk0-2qT"
      },
      "source": [
        "---\n",
        "## 필요한 스레드 수와 블록 설정 간의 불일치 해결하기 (Grid Size Work Amount Mismatch)\n",
        "\n",
        "때로는 반복문을 병렬화하기 위해 필요한 정확한 스레드 개수를 실행 설정 과정에서 지정할 수 없는 경우가 있을 수 있습니다.\n",
        "\n",
        "이러한 사례는 최적 블록 크기를 결정할 때 흔히 볼 수 있습니다. 예를 들어, GPU 하드웨어의 특성 때문에 블록에 들어가는 스레드의 수를 32의 배수로 설정해야만 좋은 성능이 나오는 경우가 있습니다. 32의 배수인 256 개의 스레드를 가지는 블록을 여러 개 구동하고 싶고, 1000 개의 병렬 작업을 실행해야 하는 경우를 생각해 봅시다. 이 경우 정확히 1000 개의 스레드를 가지는 블록 수를 정할 수 없습니다. 32의 배수로는 정확히 1000을 만들 수 없기 때문입니다.\n",
        "\n",
        "이 시나리오는 다음과 같은 방법으로 해결할 수 있습니다.\n",
        "\n",
        "* 할당된 작업을 수행하는 데 필요한 스레드 수보다 **더 많은** 수의 스레드를 만들도록 실행 설정을 작성합니다.\n",
        "* 처리해야 하는 데이터의 총 크기 또는 작업을 위해 필요한 총 스레드 수를 `N`이라고 하고 이 값을 커널에 인수로 넘겨줍니다.\n",
        "* `tid+bid*bdim`를 이용하여 스레드의 인덱스를 계산한 후, 이 인덱스 값이 `N`을 초과하지 않는지 확인하여 초과하지 않는 경우에만 커널의 관련 작업을 수행합니다.\n",
        "\n",
        "`N` 값과 블록 당 스레드 개수를 알고 있고, 그리드의 스레드 개수와 `N`이 정확히 일치하는 것을 보장할 수 없을 때의 통상적 예제 코드는 아래와 같습니다. 이 코드는 최소 `N` 개 이상의 스레드가 존재하되, 최대 1 개의 추가적 블록에 해당하는 스레드까지만 만들도록 되어 있습니다.\n",
        "\n",
        "```cpp\n",
        "// Assume `N` is known\n",
        "int N = 100000;\n",
        "\n",
        "// Assume we have a desire to set `threads_per_block` exactly to `256`\n",
        "size_t threads_per_block = 256;\n",
        "\n",
        "// Ensure there are at least `N` threads in the grid, but only 1 block's worth extra\n",
        "size_t number_of_blocks = (N + threads_per_block - 1) / threads_per_block;\n",
        "\n",
        "some_kernel<<<number_of_blocks, threads_per_block>>>(N);\n",
        "```\n",
        "\n",
        "위 코드의 실행 설정은 `N` 보다 큰 개수의 스레드를 가지는 그리드를 만들기 때문에 \"추가된\" 스레드 중 하나가 실행될 때 인덱스 범위를 벗어나는 데이터 접근을 시도하지 않도록 주의를 기울여야 합니다. \n",
        "\n",
        "\n",
        "```cpp\n",
        "__global__ some_kernel(int N)\n",
        "{\n",
        "  int idx = threadIdx.x + blockIdx.x * blockDim.x;\n",
        "\n",
        "  if (idx < N) // Check to make sure `idx` maps to some value within `N`\n",
        "  {\n",
        "    // Only do work if it does\n",
        "  }\n",
        "}\n",
        "```\n",
        "\n"
      ]
    },
    {
      "cell_type": "markdown",
      "metadata": {
        "id": "9STXkAsmEZuR"
      },
      "source": [
        "---\n",
        "\n",
        "### 실습: 실행 설정 불일치일 때 for 반복문 가속화하기\n",
        "\n",
        "[`02-mismatched-config-loop.cu`](../../../../../edit/tasks/task1/task/01_AC_CUDA_C-kr/05-allocate/02-mismatched-config-loop.cu) 프로그램은 `cudaMallocManaged`를 이용하여 1000 개의 정수를 원소로하는 배열을 메모리에 할당합니다. 그리고 배열의 모든 원소를 CUDA 커널에서 초기화합니다. `N`과 `threads_per_block`은 알고 있다고 가정합니다. 여러분의 임무는 다음에 있는 두 가지 목표를 달성하는 것입니다. 어떻게 해야할 지 모르거나 작업을 확인해야 한다면 [솔루션](../../../../../edit/tasks/task1/task/01_AC_CUDA_C-kr/05-allocate/solutions/02-mismatched-config-loop-solution.cu)을 참고하세요.           \n",
        "\n",
        "* 최소한 `a`의 원소의 수만큼 스레드의 수를 보장하는 값을 `number_of_blocks`에 대입하세요.\n",
        "* `initializeElementsTo` 커널을 수정하여, 인덱스 범위를 벗어나는 원소에 대하여 작업을 시도하는 일이 없도록 만드세요.\n"
      ]
    },
    {
      "cell_type": "code",
      "metadata": {
        "id": "YPM-vM85-2qU",
        "colab": {
          "base_uri": "https://localhost:8080/"
        },
        "outputId": "9216a0ba-5a4e-48ac-805c-5417613f1077"
      },
      "source": [
        "%%writefile 02-mismatched-config-loop.cu\n",
        "#include <stdio.h>\n",
        "\n",
        "/*\n",
        " * Currently, `initializeElementsTo`, if executed in a thread whose\n",
        " * `i` is calculated to be greater than `N`, will try to access a value\n",
        " * outside the range of `a`.\n",
        " *\n",
        " * Refactor the kernel defintition to prevent our of range accesses.\n",
        " */\n",
        "\n",
        "__global__ void initializeElementsTo(int initialValue, int *a, int N)\n",
        "{\n",
        "  int i = threadIdx.x + blockIdx.x * blockDim.x;\n",
        " if(i<N){ \n",
        "    a[i] = initialValue;\n",
        " }\n",
        "}\n",
        "\n",
        "int main()\n",
        "{\n",
        "  /*\n",
        "   * Do not modify `N`.\n",
        "   */\n",
        "\n",
        "  int N = 1000;\n",
        "\n",
        "  int *a;\n",
        "  size_t size = N * sizeof(int);\n",
        "\n",
        "  cudaMallocManaged(&a, size);\n",
        "\n",
        "  /*\n",
        "   * Assume we have reason to want the number of threads\n",
        "   * fixed at `256`: do not modify `threads_per_block`.\n",
        "   */\n",
        "\n",
        "  size_t threads_per_block = 256;\n",
        "\n",
        "  /*\n",
        "   * Assign a value to `number_of_blocks` that will\n",
        "   * allow for a working execution configuration given\n",
        "   * the fixed values for `N` and `threads_per_block`.\n",
        "   */\n",
        "\n",
        "  size_t number_of_blocks = (N + threads_per_block - 1) / threads_per_block;\n",
        "\n",
        "  int initialValue = 6;\n",
        "\n",
        "  initializeElementsTo<<<number_of_blocks, threads_per_block>>>(initialValue, a, N);\n",
        "  cudaDeviceSynchronize();\n",
        "\n",
        "  /*\n",
        "   * Check to make sure all values in `a`, were initialized.\n",
        "   */\n",
        "\n",
        "  for (int i = 0; i < N; ++i)\n",
        "  {\n",
        "    if(a[i] != initialValue)\n",
        "    {\n",
        "      printf(\"FAILURE: target value: %d\\t a[%d]: %d\\n\", initialValue, i, a[i]);\n",
        "      exit(1);\n",
        "    }\n",
        "  }\n",
        "  printf(\"SUCCESS!\\n\");\n",
        "\n",
        "  cudaFree(a);\n",
        "}\n"
      ],
      "execution_count": 19,
      "outputs": [
        {
          "output_type": "stream",
          "text": [
            "Writing 02-mismatched-config-loop.cu\n"
          ],
          "name": "stdout"
        }
      ]
    },
    {
      "cell_type": "code",
      "metadata": {
        "id": "HpbejLaruPeL",
        "colab": {
          "base_uri": "https://localhost:8080/"
        },
        "outputId": "9ff38b3b-708c-44c6-d426-f600832fb2c0"
      },
      "source": [
        "!nvcc -o 02-mismatched-config-loop 02-mismatched-config-loop.cu -run"
      ],
      "execution_count": 20,
      "outputs": [
        {
          "output_type": "stream",
          "text": [
            "SUCCESS!\n"
          ],
          "name": "stdout"
        }
      ]
    },
    {
      "cell_type": "markdown",
      "metadata": {
        "id": "w-L7nCSq-2qY"
      },
      "source": [
        "---\n",
        "\n",
        "## 그리드 폭 반복문 - 그리드 폭만큼 건너뛰며(stride) 반복하기 \n",
        "\n",
        "다음 슬라이드는 앞으로 공부할 내용을 개략적인 수준에서 시각적으로 보여줍니다. 주제를 보다 상세히 다루기에 앞서 슬라이드를 클릭하시면서 살펴 보세요. "
      ]
    },
    {
      "cell_type": "code",
      "metadata": {
        "id": "Y5Gngsnw-2qZ",
        "colab": {
          "base_uri": "https://localhost:8080/",
          "height": 590
        },
        "outputId": "ebca9ad0-1ce1-4da7-da53-72e46eaadf10"
      },
      "source": [
        "%%HTML\n",
        "\n",
        "<iframe src=\"https://docs.google.com/presentation/d/e/2PACX-1vQPLu_ScpuAxfcEHMrgHoztf9o-D9tfUaF9vs2BxuSuRvAYfsVsIXH3iOqzMgAfblPOskcxZf57hJ37/embed?start=false&loop=false&delayms=3000\" frameborder=\"0\" width=\"900\" height=\"550\" allowfullscreen=\"true\" mozallowfullscreen=\"true\" webkitallowfullscreen=\"true\"></iframe>"
      ],
      "execution_count": 21,
      "outputs": [
        {
          "output_type": "display_data",
          "data": {
            "text/html": [
              "\n",
              "<iframe src=\"https://docs.google.com/presentation/d/e/2PACX-1vQPLu_ScpuAxfcEHMrgHoztf9o-D9tfUaF9vs2BxuSuRvAYfsVsIXH3iOqzMgAfblPOskcxZf57hJ37/embed?start=false&loop=false&delayms=3000\" frameborder=\"0\" width=\"900\" height=\"550\" allowfullscreen=\"true\" mozallowfullscreen=\"true\" webkitallowfullscreen=\"true\"></iframe>"
            ],
            "text/plain": [
              "<IPython.core.display.HTML object>"
            ]
          },
          "metadata": {
            "tags": []
          }
        }
      ]
    },
    {
      "cell_type": "markdown",
      "metadata": {
        "id": "QCgGJgJk-2qd"
      },
      "source": [
        "---\n",
        "\n",
        "## 그리드보다 큰 데이터 집합\n",
        "\n",
        "최고 성능의 실행 설정을 위한 선택에 의해서이든지 아니면 그저 필요에 의해서든지, 그리드의 스레드 개수가 데이터 집합의 크기보다 작은 경우가 있기 마련입니다. 1000 개의 원소를 가진 배열과 250 개의 스레드를 가진 그리드를 생각해 봅시다. 여기에서 그리드의 각 스레드는 4 번씩 사용되어야 합니다. 이를 달성하기 위한 통상적인 방법은 커널에서 **그리드 폭 반복문(grid-stride loop)**을 사용하는 것입니다. \n",
        "\n",
        "그리드 폭 반복문에서 각 스레드는 `tid+bid*bdim`를 이용하여 고유의 인덱스를 계산합니다. 그리고는 방금 계산한 인덱스 값에 그리드의 스레드 개수를 더하여 다음 계산을 합니다. 이 과정을 배열의 범위를 벗어나기 전까지 반복합니다. 예를 들어 500 개의 원소를 가진 배열과 250 개의 스레드를 가진 그리드가 있을 때, 인덱스 20을 가진 스레드는 다음과 같은 과정을 밟을 것입니다.\n",
        "\n",
        "* 500 개의 원소를 가진 배열에서 20 번째 원소를 처리합니다.\n",
        "* 인덱스를 그리드의 폭인 250 만큼 건너뛰어 인덱스 270을 얻습니다.\n",
        "* 500 개의 원소를 가진 배열에서 270 번째 원소를 처리합니다.\n",
        "* 인덱스를 그리드의 폭인 250 만큼 건너뛰어 인덱스 520을 얻습니다.\n",
        "* 520은 인덱스 범위를 초과하므로 스레드는 작업을 멈춥니다.\n",
        "\n",
        "CUDA는 그리드 안에 있는 블록 수를 나타내는 변수 `gridDim.x`를 제공합니다. 그리드의 총 스레드 수는 단순히 그리드의 블록 수에 블록 당 스레드 수를 곱한 `gridDim.x * blockDim.x`로부터 얻을 수 있습니다. 이 내용을 기억하면서 아래 예제를 보세요.\n",
        "\n",
        "```cpp\n",
        "__global void kernel(int *a, int N)\n",
        "{\n",
        "  int indexWithinTheGrid = threadIdx.x + blockIdx.x * blockDim.x;\n",
        "  int gridStride = gridDim.x * blockDim.x;\n",
        "\n",
        "  for (int i = indexWithinTheGrid; i < N; i += gridStride)\n",
        "  {\n",
        "    // do work on a[i];\n",
        "  }\n",
        "}\n",
        "```\n",
        "\n"
      ]
    },
    {
      "cell_type": "markdown",
      "metadata": {
        "id": "LCZAOe91Ecm-"
      },
      "source": [
        "---\n",
        "\n",
        "### 실습: 그리드 폭 반복문을 이용하여 그리드보다 큰 배열 다루기\n",
        "\n",
        "[`03-grid-stride-double.cu`](../../../../../edit/tasks/task1/task/01_AC_CUDA_C-kr/05-allocate/03-grid-stride-double.cu) 프로그램을 수정하여 `doubleElements` 커널에서 그리드 폭 반복문을 사용하세요. 이렇게 함으로써 `N`보다 작은 그리드가 배열 전체를 처리하기 위해 스레드를 재사용할 수 있게 합니다. 프로그램은 배열의 모든 원소들이 두 배가 되었는지 아닌지를 출력할 것입니다. 지금은 `FALSE`를 출력할 것입니다. 어떻게 해야할 지 모르거나 작업을 확인해야 한다면 [솔루션](../../../../../edit/tasks/task1/task/01_AC_CUDA_C-kr/05-allocate/solutions/03-grid-stride-double-solution.cu)을 참고하세요.           "
      ]
    },
    {
      "cell_type": "code",
      "metadata": {
        "id": "nxhIGVyl-2qg",
        "colab": {
          "base_uri": "https://localhost:8080/"
        },
        "outputId": "bcc8457b-716f-42dd-af32-15313af8cd04"
      },
      "source": [
        "%%writefile 03-grid-stride-double.cu\n",
        "#include <stdio.h>\n",
        "\n",
        "void init(int *a, int N)\n",
        "{\n",
        "  int i;\n",
        "  for (i = 0; i < N; ++i)\n",
        "  {\n",
        "    a[i] = i;\n",
        "  }\n",
        "}\n",
        "\n",
        "/*\n",
        " * In the current application, `N` is larger than the grid.\n",
        " * Refactor this kernel to use a grid-stride loop in order that\n",
        " * each parallel thread work on more than one element of the array.\n",
        " */\n",
        "\n",
        "__global__\n",
        "void doubleElements(int *a, int N)\n",
        "{\n",
        "  int idx;\n",
        "  idx = blockIdx.x * blockDim.x + threadIdx.x;\n",
        "  int gridStride = gridDim.x * blockDim.x;\n",
        "  for (int i = idx; i < N; i += gridStride)\n",
        "  {\n",
        "    a[i] *= 2;\n",
        "  }\n",
        "}\n",
        "\n",
        "bool checkElementsAreDoubled(int *a, int N)\n",
        "{\n",
        "  int i;\n",
        "  for (i = 0; i < N; ++i)\n",
        "  {\n",
        "    if (a[i] != i*2) return false;\n",
        "  }\n",
        "  return true;\n",
        "}\n",
        "\n",
        "int main()\n",
        "{\n",
        "  /*\n",
        "   * `N` is greater than the size of the grid (see below).\n",
        "   */\n",
        "\n",
        "  int N = 10000;\n",
        "  int *a;\n",
        "\n",
        "  size_t size = N * sizeof(int);\n",
        "  cudaMallocManaged(&a, size);\n",
        "\n",
        "  init(a, N);\n",
        "\n",
        "  /*\n",
        "   * The size of this grid is 256*32 = 8192.\n",
        "   */\n",
        "\n",
        "  size_t threads_per_block = 256;\n",
        "  size_t number_of_blocks = 32;\n",
        "\n",
        "  doubleElements<<<number_of_blocks, threads_per_block>>>(a, N);\n",
        "  cudaDeviceSynchronize();\n",
        "\n",
        "  bool areDoubled = checkElementsAreDoubled(a, N);\n",
        "  printf(\"All elements were doubled? %s\\n\", areDoubled ? \"TRUE\" : \"FALSE\");\n",
        "\n",
        "  cudaFree(a);\n",
        "}\n"
      ],
      "execution_count": 22,
      "outputs": [
        {
          "output_type": "stream",
          "text": [
            "Writing 03-grid-stride-double.cu\n"
          ],
          "name": "stdout"
        }
      ]
    },
    {
      "cell_type": "code",
      "metadata": {
        "id": "Xr5rbhHiuW37",
        "colab": {
          "base_uri": "https://localhost:8080/"
        },
        "outputId": "1369dd78-611e-4fa7-be9d-6616ffc9248a"
      },
      "source": [
        "!nvcc -o 03-grid-stride-double 03-grid-stride-double.cu -run"
      ],
      "execution_count": 23,
      "outputs": [
        {
          "output_type": "stream",
          "text": [
            "All elements were doubled? TRUE\n"
          ],
          "name": "stdout"
        }
      ]
    },
    {
      "cell_type": "markdown",
      "metadata": {
        "id": "6eIog7kp-2qm"
      },
      "source": [
        "---\n",
        "\n",
        "## 오류 처리하기  (Error Handling)\n",
        "\n",
        "다른 애플리케이션과 마찬가지로 CUDA 역시 오류 처리가 필수적입니다. 대부분이라고까지는 할 수 없지만 많은 CUDA 함수가 `cudaError_t` 타입의 값을 리턴합니다. ([메모리 관리 함수의 예](http://docs.nvidia.com/cuda/cuda-runtime-api/group__CUDART__MEMORY.html#group__CUDART__MEMORY)를 확인해 보세요.) 이 값을 이용해서 함수 호출 중에 오류가 발생했는지를 알 수 있습니다. 아래 코드는 `cudaMallocManaged`를 호출할 때 오류를 처리하는 예제입니다.\n",
        "\n",
        "```cpp\n",
        "cudaError_t err;\n",
        "err = cudaMallocManaged(&a, N)                    // Assume the existence of `a` and `N`.\n",
        "\n",
        "if (err != cudaSuccess)                           // `cudaSuccess` is provided by CUDA.\n",
        "{\n",
        "  printf(\"Error: %s\\n\", cudaGetErrorString(err)); // `cudaGetErrorString` is provided by CUDA.\n",
        "}\n",
        "```\n",
        "\n",
        "`void`를 리턴하도록 되어 있는 구동 커널은 `cudaError_t` 타입의 값을 리턴하지 않습니다. 실행 설정의 오류와 같이 커널 구동 단계에서 발생하는 오류를 점검하기 위해서 CUDA는 `cudaGetLastError` 함수를 제공하는데 이 함수는 `cudaError_t` 타입의 값을 리턴합니다.\n",
        "\n",
        "```cpp\n",
        "/*\n",
        " * This launch should cause an error, but the kernel itself\n",
        " * cannot return it.\n",
        " */\n",
        "\n",
        "someKernel<<<1, -1>>>();  // -1 is not a valid number of threads.\n",
        "\n",
        "cudaError_t err;\n",
        "err = cudaGetLastError(); // `cudaGetLastError` will return the error from above.\n",
        "if (err != cudaSuccess)\n",
        "{\n",
        "  printf(\"Error: %s\\n\", cudaGetErrorString(err));\n",
        "}\n",
        "```\n",
        "\n",
        "마지막으로, 비동기 커널의 실행 중에 나오는 오류와 같이 비동기적으로 발생하는 오류를 잡아내기 위해서는 뒤이어 실행되는 동기화를 위한 CUDA 런타임 API 호출에서 리턴된 상태값을 검사하는 것이 필수적입니다. 이러한 동기화 함수에는 앞에서 본 `cudaDeviceSynchronize`가 있는데 이 함수는 이전에 구동된 커널 중 실패한 것들의 오류를 리턴합니다. \n",
        "\n"
      ]
    },
    {
      "cell_type": "markdown",
      "metadata": {
        "id": "ZQoG8e_kEfgX"
      },
      "source": [
        "---\n",
        "\n",
        "### 실습: 오류 처리 추가하기\n",
        "\n",
        "[`01-add-error-handling.cu`](../../../../../edit/tasks/task1/task/01_AC_CUDA_C-kr/06-errors/01-add-error-handling.cu) 프로그램을 컴파일하고 실행하면 배열의 원소를 이배수하는 작업이 성공하지 못했다는 결과를 출력합니다. 하지만 관련된 오류를 출력하지는 않습니다. CUDA 오류를 처리하도록 프로그램을 수정함으로써 어디가 잘못되었는지를 알 수 있게 하고 디버깅을 효과적으로 할 수 있도록 하세요. CUDA 함수 호출 중에 나오는 동기적 오류와 커널 실행 중에 나오는 비동기적 오류 모두를 검사해야 합니다. 어떻게 해야할 지 모르거나 작업을 확인해야 한다면 [솔루션](../../../../../edit/tasks/task1/task/01_AC_CUDA_C-kr/06-errors/solutions/01-add-error-handling-solution.cu)을 참고하세요.           \n",
        "\n"
      ]
    },
    {
      "cell_type": "code",
      "metadata": {
        "id": "VkSeAzgM-2qm",
        "colab": {
          "base_uri": "https://localhost:8080/"
        },
        "outputId": "a7f7b147-810d-40d0-b1b9-7d5cf015070f"
      },
      "source": [
        "%%writefile 01-add-error-handling.cu\n",
        "#include <stdio.h>\n",
        "\n",
        "void init(int *a, int N)\n",
        "{\n",
        "  int i;\n",
        "  for (i = 0; i < N; ++i)\n",
        "  {\n",
        "    a[i] = i;\n",
        "  }\n",
        "}\n",
        "\n",
        "__global__\n",
        "void doubleElements(int *a, int N)\n",
        "{\n",
        "\n",
        "  int idx = blockIdx.x * blockDim.x + threadIdx.x;\n",
        "  int stride = gridDim.x * blockDim.x;\n",
        "\n",
        "  for (int i = idx; i < N + stride; i += stride)\n",
        "  {\n",
        "    a[i] *= 2;\n",
        "  }\n",
        "}\n",
        "\n",
        "bool checkElementsAreDoubled(int *a, int N)\n",
        "{\n",
        "  int i;\n",
        "  for (i = 0; i < N; ++i)\n",
        "  {\n",
        "    if (a[i] != i*2) return false;\n",
        "  }\n",
        "  return true;\n",
        "}\n",
        "\n",
        "int main()\n",
        "{\n",
        "  /*\n",
        "   * Add error handling to this source code to learn what errors\n",
        "   * exist, and then correct them. Googling error messages may be\n",
        "   * of service if actions for resolving them are not clear to you.\n",
        "   */\n",
        "  cudaError_t err1, err2, err3;\n",
        "  int N = 10000;\n",
        "  int *a;\n",
        "\n",
        "  size_t size = N * sizeof(int);\n",
        "  cudaMallocManaged(&a, size);\n",
        "  err1 = cudaGetLastError();\n",
        "  if (err1 != cudaSuccess)\n",
        "{\n",
        "  printf(\"Error1: %s\\n\", cudaGetErrorString(err1));\n",
        "}\n",
        " \n",
        "  init(a, N);\n",
        "\n",
        "  size_t threads_per_block = 1024;\n",
        "  size_t number_of_blocks = 32;\n",
        "\n",
        "  doubleElements<<<number_of_blocks, threads_per_block>>>(a, N);\n",
        "  cudaDeviceSynchronize();\n",
        "  err2 = cudaGetLastError();\n",
        "  if (err2 != cudaSuccess)\n",
        "{\n",
        "  printf(\"Error2: %s\\n\", cudaGetErrorString(err2));\n",
        "}\n",
        "\n",
        "  bool areDoubled = checkElementsAreDoubled(a, N);\n",
        "  printf(\"All elements were doubled? %s\\n\", areDoubled ? \"TRUE\" : \"FALSE\");\n",
        "\n",
        "  cudaFree(a);\n",
        "  err3 = cudaGetLastError();\n",
        "  if (err3 != cudaSuccess)\n",
        "{\n",
        "  printf(\"Error3: %s\\n\", cudaGetErrorString(err3));\n",
        "}\n",
        "}"
      ],
      "execution_count": 24,
      "outputs": [
        {
          "output_type": "stream",
          "text": [
            "Writing 01-add-error-handling.cu\n"
          ],
          "name": "stdout"
        }
      ]
    },
    {
      "cell_type": "code",
      "metadata": {
        "id": "DnAJC1adugni",
        "colab": {
          "base_uri": "https://localhost:8080/"
        },
        "outputId": "cddd2f1e-be80-4b0a-f2bf-24892029b0e9"
      },
      "source": [
        "!nvcc -o 01-add-error-handling 01-add-error-handling.cu -run"
      ],
      "execution_count": 25,
      "outputs": [
        {
          "output_type": "stream",
          "text": [
            "All elements were doubled? TRUE\n"
          ],
          "name": "stdout"
        }
      ]
    },
    {
      "cell_type": "markdown",
      "metadata": {
        "id": "BQ7ECuIj-2qp"
      },
      "source": [
        "---\n",
        "\n",
        "### CUDA 오류 처리 함수\n",
        "\n",
        "오류 검사를 위하여 CUDA 함수를 래핑하는 매크로를 만들면 도움이 됩니다. 아래에 예제가 있으니 앞으로의 실습에서 자유로이 사용하세요.\n",
        "\n",
        "```cpp\n",
        "#include <stdio.h>\n",
        "#include <assert.h>\n",
        "\n",
        "inline cudaError_t checkCuda(cudaError_t result)\n",
        "{\n",
        "  if (result != cudaSuccess) {\n",
        "    fprintf(stderr, \"CUDA Runtime Error: %s\\n\", cudaGetErrorString(result));\n",
        "    assert(result == cudaSuccess);\n",
        "  }\n",
        "  return result;\n",
        "}\n",
        "\n",
        "int main()\n",
        "{\n",
        "\n",
        "/*\n",
        " * The macro can be wrapped around any function returning\n",
        " * a value of type `cudaError_t`.\n",
        " */\n",
        "\n",
        "  checkCuda( cudaDeviceSynchronize() )\n",
        "}\n",
        "```\n"
      ]
    },
    {
      "cell_type": "markdown",
      "metadata": {
        "id": "jFnTynTs-TAv"
      },
      "source": [
        "\n",
        "---\n",
        "\n",
        "## 요약\n",
        "\n",
        "이제 여러분은 아래와 같은 학습 목표를 달성하셨습니다.\n",
        "\n",
        "* CPU 함수를 호출하고 GPU **커널(kernel)을 구동(launch)**하는 C/C++ 프로그램을 작성, 컴파일, 실행하기\n",
        "* **실행 설정(execution configuration)**을 통해 병렬 **스레드 계층(thread hierarchy)** 제어하기 \n",
        "* 직렬로 실행되는 반복문을 GPU 상에서 병렬로 실행되도록 수정하기\n",
        "* CPU와 GPU를 위한 메모리를 할당하고 해제하기\n",
        "* CUDA 코드에서 생성된 오류 처리하기\n",
        "\n",
        "이제 강좌의 마지막 목표를 다룰 차례입니다.\n",
        "\n",
        "* CPU-only 애플리케이션 가속화하기\n",
        "\n"
      ]
    },
    {
      "cell_type": "markdown",
      "metadata": {
        "id": "lDG3-jZ_Eiyh"
      },
      "source": [
        "---\n",
        "\n",
        "### 마지막 실습: 벡터합 가속화하기\n",
        "\n",
        "이번 과제는 여러분이 지금까지 배운 내용을 활용할 기회가 될 것입니다. 비록 복잡한 프로그램은 아니지만 CPU-only 벡터합 프로그램을 가속화하는 내용을 포함하는데, CUDA를 이용한 GPU 가속 애플리케이션에 대하여 배운 것에 집중할 기회입니다. 실습을 마치고, 관심과 여유가 있다면 *고급 주제* 섹션에서 보다 복잡한 코드를 포함한 과제에 도전해 보세요.\n",
        "\n",
        "[`01-vector-add.cu`](../../../../../edit/tasks/task1/task/01_AC_CUDA_C-kr/07-vector-add/01-vector-add.cu) 프로그램은 제대로 동작하는 CPU-only 벡터합 계산을 포함하고 있습니다. `addVectorsInto` 함수가 GPU 상의 CUDA 커널로 동작하여 작업을 병렬로 처리하도록 코드를 수정하세요. 아래에 리스트로 명시된 작업이 수행되어야 합니다. 어떻게 해야할 지 모르거나 작업을 확인해야 한다면 [솔루션](../../../../../edit/tasks/task1/task/01_AC_CUDA_C-kr/07-vector-add/solutions/01-vector-add-solution.cu)을 참고하세요.\n",
        "\n",
        "* CUDA 커널이 되도록 `addVectorsInto`를 확장하세요.\n",
        "* `addVectorsInto`가 CUDA 커널로서 구동되도록 실행 설정을 하세요.\n",
        "* 세 개의 벡터 `a`, `b`, `result`가 호스트와 디바이스 코드에 의해 사용될 수 있도록 메모리 할당과 해제 부분을 수정하세요.\n",
        "* `addVectorsInto`의 내용을 수정하세요. `addVectorsInto`는 각각의 스레드에서 실행되어야 하고 각 스레드는 입력 벡터에 대하여 하나의 스레드에 해당하는 작업만을 수행해야 합니다. 스레드가 인덱스 범위를 초과하여 원소에 접근하지 않는지 확인하고 스레드가 입력 벡터의 원소를 하나 이상 처리해야 하는지도 잘 살펴 보세요.\n",
        "* CUDA 코드가 아무런 메시지 없이 실패할 수 있는 곳마다 오류 처리를 추가하세요."
      ]
    },
    {
      "cell_type": "code",
      "metadata": {
        "id": "Hu9Rp_Wx-2qq",
        "colab": {
          "base_uri": "https://localhost:8080/"
        },
        "outputId": "b789ca97-500a-4483-91a2-4ae948facd6d"
      },
      "source": [
        "%%writefile 01-vector-add.cu\n",
        "#include <stdio.h>\n",
        "\n",
        "__global__ void initWith(float num, float *a, int N)\n",
        "{\n",
        "  int idx = threadIdx.x + blockIdx.x * blockDim.x;\n",
        "  int stride = gridDim.x * blockDim.x;\n",
        "  for(int i = idx; i < N; i+=stride)\n",
        "  {\n",
        "    a[i] = num;\n",
        "  }\n",
        "}\n",
        "\n",
        "__global__ void addVectorsInto(float *result, float *a, float *b, int N)\n",
        "{\n",
        "  int idx = threadIdx.x + blockIdx.x * blockDim.x;\n",
        "  int stride = gridDim.x * blockDim.x;\n",
        "  for(int i = idx; i < N; i+=stride)\n",
        "  {\n",
        "    result[i] = a[i] + b[i];\n",
        "  }\n",
        "}\n",
        "\n",
        "void checkElementsAre(float target, float *array, int N)\n",
        "{\n",
        "  for(int i = 0; i < N; i++)\n",
        "  {\n",
        "    if(array[i] != target)\n",
        "    {\n",
        "      printf(\"FAIL: array[%d] - %0.0f does not equal %0.0f\\n\", i, array[i], target);\n",
        "      exit(1);\n",
        "    }\n",
        "  }\n",
        "  printf(\"SUCCESS! All values added correctly.\\n\");\n",
        "}\n",
        "\n",
        "int main()\n",
        "{\n",
        "  const int N = 2<<20;\n",
        "  size_t size = N * sizeof(float);\n",
        "\n",
        "  float *a;\n",
        "  float *b;\n",
        "  float *c;\n",
        "\n",
        "  cudaMallocManaged(&a, size);\n",
        "  cudaMallocManaged(&b, size);\n",
        "  cudaMallocManaged(&c, size);\n",
        "\n",
        "  size_t threads_per_block = 256;\n",
        "  size_t number_of_blocks = (N + threads_per_block - 1) / threads_per_block;\n",
        "  initWith<<<number_of_blocks,threads_per_block>>>(3, a, N);\n",
        "  initWith<<<number_of_blocks,threads_per_block>>>(4, b, N);\n",
        "  initWith<<<number_of_blocks,threads_per_block>>>(0, c, N);\n",
        "  addVectorsInto<<<number_of_blocks,threads_per_block>>>(c, a, b, N);\n",
        "  cudaDeviceSynchronize();\n",
        "\n",
        "  checkElementsAre(7, c, N);\n",
        "\n",
        "  cudaFree(a);\n",
        "  cudaFree(b);\n",
        "  cudaFree(c);\n",
        "}\n"
      ],
      "execution_count": 26,
      "outputs": [
        {
          "output_type": "stream",
          "text": [
            "Writing 01-vector-add.cu\n"
          ],
          "name": "stdout"
        }
      ]
    },
    {
      "cell_type": "code",
      "metadata": {
        "id": "7Fq3X2oeuqNm",
        "colab": {
          "base_uri": "https://localhost:8080/"
        },
        "outputId": "561ca521-308f-4730-cdbb-66d8b7cdba0f"
      },
      "source": [
        "!nvcc -o 01-vector-add 01-vector-add.cu -run"
      ],
      "execution_count": 27,
      "outputs": [
        {
          "output_type": "stream",
          "text": [
            "SUCCESS! All values added correctly.\n"
          ],
          "name": "stdout"
        }
      ]
    },
    {
      "cell_type": "markdown",
      "metadata": {
        "id": "Xf45qdtU-2qu"
      },
      "source": [
        "---\n",
        "\n",
        "## 고급 주제\n",
        "\n",
        "다음에 나오는 실습은 관심과 여유가 있는 분들을 위한 추가적인 도전 과제입니다. 고급 기법을 사용해야 하고 도움말은 적습니다. 여러분의 성장을 위한 어렵지만 멋진 과제들입니다.\n",
        "\n",
        "---\n",
        "\n",
        "## 2 차원 또는 3 차원 그리드와 블록\n",
        "\n",
        "그리드와 블록은 3 차원까지 정의할 수 있습니다. 다차원으로 정의한다고 해서 성능에 영향을 미치는 것은 아닙니다만, 2 차원 행렬과 같은 다차원 데이터를 다루는 데 편리합니다. 그리드나 블록을 다차원으로 정의하려면 CUDA에서 제공하는 `dim3` 타입을 사용합니다.\n",
        "\n",
        "```cpp\n",
        "dim3 threads_per_block(16, 16, 1);\n",
        "dim3 number_of_blocks(16, 16, 1);\n",
        "someKernel<<<number_of_blocks, threads_per_block>>>();\n",
        "```\n",
        "\n",
        "위와 같은 예에서는 `someKernel` 내부에서 `gridDim.x`, `gridDim.y`, `blockDim.x`, `blockDim.y` 변수값이 모두 16을 가질 것입니다.\n",
        "\n",
        "---\n",
        "\n",
        "\n"
      ]
    },
    {
      "cell_type": "markdown",
      "metadata": {
        "id": "mRzM5CP4EmnG"
      },
      "source": [
        "### 실습: 2 차원 행렬곱 가속화하기\n",
        "\n",
        "[`01-matrix-multiply-2d.cu`](../../../../../edit/tasks/task1/task/01_AC_CUDA_C-kr/08-matrix-multiply/01-matrix-multiply-2d.cu) 프로그램은 완벽히 동작하는 호스트 함수인 `matrixMulCPU`를 포함하고 있습니다. 여러분이 할 일은 `matrixMulGPU` CUDA 커널을 만드는 일입니다. 소스 코드는 두 함수를 모두 이용하여 행렬곱을 수행해야 하며 결과를 서로 비교하여 여러분이 만든 CUDA 커널을 검사해야 합니다. 아래 리스트에 명시된 내용을 참고하세요. 어떻게 해야할 지 모르거나 작업을 확인해야 한다면 [솔루션](../../../../../edit/tasks/task1/task/01_AC_CUDA_C-kr/08-matrix-multiply/solutions/01-matrix-multiply-2d-solution.cu)을 참고하세요.\n",
        "\n",
        "* `x`, `y` 차원이 1 보다 큰 값을 가지는 `dim3` 타입의 값을 인수로 하여 실행 설정을 해야 합니다.\n",
        "* 커널의 본문에서는 기존과 같이 실행 스레드의 그리드 내 고유 인덱스 값을 결정해야 합니다. 단, 이제는 그리드의 x 축과 y 축에 해당하는 두 개의 인덱스를 사용해야 합니다.  "
      ]
    },
    {
      "cell_type": "code",
      "metadata": {
        "id": "PXyV80DO-2qv",
        "colab": {
          "base_uri": "https://localhost:8080/"
        },
        "outputId": "4252d519-8ef5-492b-d1ee-a73b6dd188dd"
      },
      "source": [
        "%%writefile 01-matrix-multiply-2d.cu\n",
        "#include <stdio.h>\n",
        "\n",
        "#define N  64\n",
        "\n",
        "__global__ void matrixMulGPU( int * a, int * b, int * c )\n",
        "{\n",
        "  /*\n",
        "   * Build out this kernel.\n",
        "   */\n",
        "}\n",
        "\n",
        "/*\n",
        " * This CPU function already works, and will run to create a solution matrix\n",
        " * against which to verify your work building out the matrixMulGPU kernel.\n",
        " */\n",
        "\n",
        "void matrixMulCPU( int * a, int * b, int * c )\n",
        "{\n",
        "  int val = 0;\n",
        "\n",
        "  for( int row = 0; row < N; ++row )\n",
        "    for( int col = 0; col < N; ++col )\n",
        "    {\n",
        "      val = 0;\n",
        "      for ( int k = 0; k < N; ++k )\n",
        "        val += a[row * N + k] * b[k * N + col];\n",
        "      c[row * N + col] = val;\n",
        "    }\n",
        "}\n",
        "\n",
        "int main()\n",
        "{\n",
        "  int *a, *b, *c_cpu, *c_gpu; // Allocate a solution matrix for both the CPU and the GPU operations\n",
        "\n",
        "  int size = N * N * sizeof (int); // Number of bytes of an N x N matrix\n",
        "\n",
        "  // Allocate memory\n",
        "  cudaMallocManaged (&a, size);\n",
        "  cudaMallocManaged (&b, size);\n",
        "  cudaMallocManaged (&c_cpu, size);\n",
        "  cudaMallocManaged (&c_gpu, size);\n",
        "\n",
        "  // Initialize memory; create 2D matrices\n",
        "  for( int row = 0; row < N; ++row )\n",
        "    for( int col = 0; col < N; ++col )\n",
        "    {\n",
        "      a[row*N + col] = row;\n",
        "      b[row*N + col] = col+2;\n",
        "      c_cpu[row*N + col] = 0;\n",
        "      c_gpu[row*N + col] = 0;\n",
        "    }\n",
        "\n",
        "  /*\n",
        "   * Assign `threads_per_block` and `number_of_blocks` 2D values\n",
        "   * that can be used in matrixMulGPU above.\n",
        "   */\n",
        "\n",
        "  dim3 threads_per_block;\n",
        "  dim3 number_of_blocks;\n",
        "\n",
        "  matrixMulGPU <<< number_of_blocks, threads_per_block >>> ( a, b, c_gpu );\n",
        "\n",
        "  cudaDeviceSynchronize();\n",
        "\n",
        "  // Call the CPU version to check our work\n",
        "  matrixMulCPU( a, b, c_cpu );\n",
        "\n",
        "  // Compare the two answers to make sure they are equal\n",
        "  bool error = false;\n",
        "  for( int row = 0; row < N && !error; ++row )\n",
        "    for( int col = 0; col < N && !error; ++col )\n",
        "      if (c_cpu[row * N + col] != c_gpu[row * N + col])\n",
        "      {\n",
        "        printf(\"FOUND ERROR at c[%d][%d]\\n\", row, col);\n",
        "        error = true;\n",
        "        break;\n",
        "      }\n",
        "  if (!error)\n",
        "    printf(\"Success!\\n\");\n",
        "\n",
        "  // Free all our allocated memory\n",
        "  cudaFree(a); cudaFree(b);\n",
        "  cudaFree( c_cpu ); cudaFree( c_gpu );\n",
        "}\n"
      ],
      "execution_count": 28,
      "outputs": [
        {
          "output_type": "stream",
          "text": [
            "Writing 01-matrix-multiply-2d.cu\n"
          ],
          "name": "stdout"
        }
      ]
    },
    {
      "cell_type": "code",
      "metadata": {
        "id": "-7giy_Hau1NX",
        "colab": {
          "base_uri": "https://localhost:8080/"
        },
        "outputId": "35572c06-2254-4c3c-add4-338b95d3b4b7"
      },
      "source": [
        "!nvcc -o 01-matrix-multiply-2d 01-matrix-multiply-2d.cu -run"
      ],
      "execution_count": 29,
      "outputs": [
        {
          "output_type": "stream",
          "text": [
            "FOUND ERROR at c[1][0]\n"
          ],
          "name": "stdout"
        }
      ]
    },
    {
      "cell_type": "markdown",
      "metadata": {
        "id": "v1Y4otxO-2qx"
      },
      "source": [
        "---\n",
        "\n",
        "### 실습: 열전도(heat conduction) 애플리케이션 가속화하기\n",
        "\n",
        "이번 실습에서 여러분은 은의 2 차원 공간 열전도를 시뮬레이션하는 애플리케이션을 가속화할 것입니다.\n",
        "\n",
        "[`01-heat-conduction.cu`](../../../../../edit/tasks/task1/task/01_AC_CUDA_C-kr/09-heat/01-heat-conduction.cu) 프로그램에 있는 `step_kernel_mod` 함수가 GPU에서 실행되도록 수정하고 `main` 함수에서는 CPU와 GPU가 사용할 데이터를 적절히 할당하세요. `step_kernel_ref`는 CPU에서 동작하며 오류 점검에 사용됩니다. 이 코드는 부동소수점 연산을 포함하고 있으므로 다른 프로세서에서 실행하거나 같은 프로세서에서의 단순한 순서바꿈에 의해서도 약간 다른 결과를 도출할 수 있습니다. 이러한 이유로 인하여 오류 점검 코드는 정확한 값의 일치 대신에 임계값을 사용합니다. 어떻게 해야할 지 모르거나 작업을 확인해야 한다면 [솔루션](../../../../../edit/tasks/task1/task/01_AC_CUDA_C-kr/09-heat/solutions/01-heat-conduction-solution.cu)을 참고하세요.\n"
      ]
    },
    {
      "cell_type": "code",
      "metadata": {
        "id": "iD1XzfTc-2qy",
        "colab": {
          "base_uri": "https://localhost:8080/"
        },
        "outputId": "a1432c00-eb81-4e86-9741-d01e816283db"
      },
      "source": [
        "%%writefile 01-heat-conduction.cu\n",
        "#include <stdio.h>\n",
        "#include <math.h>\n",
        "\n",
        "// Simple define to index into a 1D array from 2D space\n",
        "#define I2D(num, c, r) ((r)*(num)+(c))\n",
        "\n",
        "/*\n",
        " * `step_kernel_mod` is currently a direct copy of the CPU reference solution\n",
        " * `step_kernel_ref` below. Accelerate it to run as a CUDA kernel.\n",
        " */\n",
        "\n",
        "void step_kernel_mod(int ni, int nj, float fact, float* temp_in, float* temp_out)\n",
        "{\n",
        "  int i00, im10, ip10, i0m1, i0p1;\n",
        "  float d2tdx2, d2tdy2;\n",
        "\n",
        "\n",
        "  // loop over all points in domain (except boundary)\n",
        "  for ( int j=1; j < nj-1; j++ ) {\n",
        "    for ( int i=1; i < ni-1; i++ ) {\n",
        "      // find indices into linear memory\n",
        "      // for central point and neighbours\n",
        "      i00 = I2D(ni, i, j);\n",
        "      im10 = I2D(ni, i-1, j);\n",
        "      ip10 = I2D(ni, i+1, j);\n",
        "      i0m1 = I2D(ni, i, j-1);\n",
        "      i0p1 = I2D(ni, i, j+1);\n",
        "\n",
        "      // evaluate derivatives\n",
        "      d2tdx2 = temp_in[im10]-2*temp_in[i00]+temp_in[ip10];\n",
        "      d2tdy2 = temp_in[i0m1]-2*temp_in[i00]+temp_in[i0p1];\n",
        "\n",
        "      // update temperatures\n",
        "      temp_out[i00] = temp_in[i00]+fact*(d2tdx2 + d2tdy2);\n",
        "    }\n",
        "  }\n",
        "}\n",
        "\n",
        "void step_kernel_ref(int ni, int nj, float fact, float* temp_in, float* temp_out)\n",
        "{\n",
        "  int i00, im10, ip10, i0m1, i0p1;\n",
        "  float d2tdx2, d2tdy2;\n",
        "\n",
        "\n",
        "  // loop over all points in domain (except boundary)\n",
        "  for ( int j=1; j < nj-1; j++ ) {\n",
        "    for ( int i=1; i < ni-1; i++ ) {\n",
        "      // find indices into linear memory\n",
        "      // for central point and neighbours\n",
        "      i00 = I2D(ni, i, j);\n",
        "      im10 = I2D(ni, i-1, j);\n",
        "      ip10 = I2D(ni, i+1, j);\n",
        "      i0m1 = I2D(ni, i, j-1);\n",
        "      i0p1 = I2D(ni, i, j+1);\n",
        "\n",
        "      // evaluate derivatives\n",
        "      d2tdx2 = temp_in[im10]-2*temp_in[i00]+temp_in[ip10];\n",
        "      d2tdy2 = temp_in[i0m1]-2*temp_in[i00]+temp_in[i0p1];\n",
        "\n",
        "      // update temperatures\n",
        "      temp_out[i00] = temp_in[i00]+fact*(d2tdx2 + d2tdy2);\n",
        "    }\n",
        "  }\n",
        "}\n",
        "\n",
        "int main()\n",
        "{\n",
        "  int istep;\n",
        "  int nstep = 200; // number of time steps\n",
        "\n",
        "  // Specify our 2D dimensions\n",
        "  const int ni = 200;\n",
        "  const int nj = 100;\n",
        "  float tfac = 8.418e-5; // thermal diffusivity of silver\n",
        "\n",
        "  float *temp1_ref, *temp2_ref, *temp1, *temp2, *temp_tmp;\n",
        "\n",
        "  const int size = ni * nj * sizeof(float);\n",
        "\n",
        "  temp1_ref = (float*)malloc(size);\n",
        "  temp2_ref = (float*)malloc(size);\n",
        "  temp1 = (float*)malloc(size);\n",
        "  temp2 = (float*)malloc(size);\n",
        "\n",
        "  // Initialize with random data\n",
        "  for( int i = 0; i < ni*nj; ++i) {\n",
        "    temp1_ref[i] = temp2_ref[i] = temp1[i] = temp2[i] = (float)rand()/(float)(RAND_MAX/100.0f);\n",
        "  }\n",
        "\n",
        "  // Execute the CPU-only reference version\n",
        "  for (istep=0; istep < nstep; istep++) {\n",
        "    step_kernel_ref(ni, nj, tfac, temp1_ref, temp2_ref);\n",
        "\n",
        "    // swap the temperature pointers\n",
        "    temp_tmp = temp1_ref;\n",
        "    temp1_ref = temp2_ref;\n",
        "    temp2_ref= temp_tmp;\n",
        "  }\n",
        "\n",
        "  // Execute the modified version using same data\n",
        "  for (istep=0; istep < nstep; istep++) {\n",
        "    step_kernel_mod(ni, nj, tfac, temp1, temp2);\n",
        "\n",
        "    // swap the temperature pointers\n",
        "    temp_tmp = temp1;\n",
        "    temp1 = temp2;\n",
        "    temp2= temp_tmp;\n",
        "  }\n",
        "\n",
        "  float maxError = 0;\n",
        "  // Output should always be stored in the temp1 and temp1_ref at this point\n",
        "  for( int i = 0; i < ni*nj; ++i ) {\n",
        "    if (abs(temp1[i]-temp1_ref[i]) > maxError) { maxError = abs(temp1[i]-temp1_ref[i]); }\n",
        "  }\n",
        "\n",
        "  // Check and see if our maxError is greater than an error bound\n",
        "  if (maxError > 0.0005f)\n",
        "    printf(\"Problem! The Max Error of %.5f is NOT within acceptable bounds.\\n\", maxError);\n",
        "  else\n",
        "    printf(\"The Max Error of %.5f is within acceptable bounds.\\n\", maxError);\n",
        "\n",
        "  free( temp1_ref );\n",
        "  free( temp2_ref );\n",
        "  free( temp1 );\n",
        "  free( temp2 );\n",
        "\n",
        "  return 0;\n",
        "}\n"
      ],
      "execution_count": 30,
      "outputs": [
        {
          "output_type": "stream",
          "text": [
            "Writing 01-heat-conduction.cu\n"
          ],
          "name": "stdout"
        }
      ]
    },
    {
      "cell_type": "code",
      "metadata": {
        "id": "XIRf06_qu8ZA",
        "colab": {
          "base_uri": "https://localhost:8080/"
        },
        "outputId": "fd13cd02-015b-44e5-cc2b-e11d477a1a3a"
      },
      "source": [
        "!nvcc -o 01-heat-conduction 01-heat-conduction.cu -run"
      ],
      "execution_count": 31,
      "outputs": [
        {
          "output_type": "stream",
          "text": [
            "The Max Error of 0.00000 is within acceptable bounds.\n"
          ],
          "name": "stdout"
        }
      ]
    },
    {
      "cell_type": "markdown",
      "metadata": {
        "id": "JPk7_1F0-2q1"
      },
      "source": [
        "> 열전달(heat conduction) CPU 소스 코드의 원본 출전은 휴스턴 대학의 [An OpenACC Example Code for a C-based heat conduction code](http://docplayer.net/30411068-An-openacc-example-code-for-a-c-based-heat-conduction-code.html) 임을 밝힙니다."
      ]
    },
    {
      "cell_type": "markdown",
      "metadata": {
        "id": "Q94B6eOhvEWW"
      },
      "source": [
        "### HW5"
      ]
    },
    {
      "cell_type": "markdown",
      "metadata": {
        "id": "jp0Z6z_Jva4e"
      },
      "source": [
        "아래에 있는 코드는 파동방정식의 코드입니다.(CPU only)\n",
        "\n",
        "해당 코드를 위에서 배운 지식들을 활용하여 최대한 가속화하십시오.\n",
        "\n",
        "그리고 위 코드를 가속화한 방법들에 대한 보고서를 작성하시오."
      ]
    },
    {
      "cell_type": "markdown",
      "metadata": {
        "id": "pJILu2VWwDN9"
      },
      "source": [
        "**코드와 보고서를 모두 블랙보드상에 10/13(화)까지 제출하시면 됩니다.**\n",
        "\n",
        "**파일제목양식 : 2020123456_홍길동_HW05**"
      ]
    },
    {
      "cell_type": "code",
      "metadata": {
        "id": "WiurmedovFve",
        "colab": {
          "base_uri": "https://localhost:8080/"
        },
        "outputId": "bf0ebf07-564e-4e92-f260-95c964109760"
      },
      "source": [
        "%%writefile hw5.cu\n",
        "#include<stdio.h>\n",
        "#include<math.h>\n",
        "#include<stdlib.h>\n",
        "\n",
        "#define PI 3.141592\n",
        "\n",
        "__global__ void Hyperbolic(float* U, float* U_new, int CFL, int N)\n",
        "{\n",
        "    int idx = threadIdx.x + blockIdx.x * blockDim.x;\n",
        "    int stride = gridDim.x * blockDim.x;\n",
        "    for (int i = idx+1; i < N - 1; i+=stride)\n",
        "        U_new[i] = U[i] - CFL*(U[i] - U[i - 1]);\n",
        "}\n",
        "\n",
        "__global__ void Init(float* U,float* U_new, int N, int iter, float dx)\n",
        "{\n",
        "    int idx = threadIdx.x + blockIdx.x * blockDim.x;\n",
        "    int stride = gridDim.x * blockDim.x;\n",
        "    for (int i = idx; i < N - 1; i+=stride)\n",
        "        U[i] = U_new[i] = 0;\n",
        "    for (int i = (int)((50) / dx)+idx; i < (int)((110.0 / dx) + 1); i+=stride)\n",
        "        U[i] = fabs(100.0 * (sin(PI * (i*dx - 50.0) / 60.0)));\n",
        "}\n",
        "\n",
        "int main()\n",
        "{\n",
        "    float dx = 0.5;\n",
        "    float dt = 0.02;\n",
        "    float end_t = 6.0;\n",
        "    int L = 400;\n",
        "    int N = (int)((float)L / dx);\n",
        "    int iter = (int)(end_t / dt);\n",
        "    float CFL = 1.0;\n",
        "\n",
        "    float *U, *U_new;\n",
        "\n",
        "    const int size = N * sizeof(float);\n",
        " \n",
        "    cudaMallocManaged(&U, size);\n",
        "    cudaMallocManaged(&U_new, size);\n",
        "  \n",
        "    size_t threads_per_block = 256;\n",
        "    size_t number_of_blocks = (N + threads_per_block - 1) / threads_per_block;\n",
        "\n",
        "    Init<<<number_of_blocks,threads_per_block>>>(U, U_new, N, iter, dx);\n",
        "    cudaDeviceSynchronize();\n",
        "\n",
        "    for (int i = 0; i < N; i++)\n",
        "        printf(\"%.3f \", U[i]);\n",
        "    printf(\"\\n\\n\\n\");\n",
        "\n",
        "\tfor (int i = 0; i < iter; i++)\n",
        "\t{\n",
        "\t\tHyperbolic<<<number_of_blocks,threads_per_block>>>(U, U_new, CFL, N);\n",
        "    cudaDeviceSynchronize();\n",
        "\t\tfor (int j = 0; j < N; j++)\n",
        "\t\t\tU[j] = U_new[j];\n",
        "\t}\n",
        "\n",
        "\n",
        "\tfor (int i = 0; i < N; i++)\n",
        "\t\tprintf(\"%.3f \", U[i]);\n",
        "\tprintf(\"\\n\");\n",
        "\n",
        "\tcudaFree(U);\n",
        "\tcudaFree(U_new);\n",
        "\treturn 0;\n",
        "}"
      ],
      "execution_count": 33,
      "outputs": [
        {
          "output_type": "stream",
          "text": [
            "Overwriting hw5.cu\n"
          ],
          "name": "stdout"
        }
      ]
    },
    {
      "cell_type": "code",
      "metadata": {
        "id": "Hl5_aokOvJVA",
        "colab": {
          "base_uri": "https://localhost:8080/",
          "height": 107
        },
        "outputId": "b808f4f4-f31c-4141-904b-70a9c5d8885f"
      },
      "source": [
        "!nvcc -o hw5 hw5.cu -run"
      ],
      "execution_count": null,
      "outputs": [
        {
          "output_type": "stream",
          "text": [
            "0.000 0.000 0.000 0.000 0.000 0.000 0.000 0.000 0.000 0.000 0.000 0.000 0.000 0.000 0.000 0.000 0.000 0.000 0.000 0.000 0.000 0.000 0.000 0.000 0.000 0.000 0.000 0.000 0.000 0.000 0.000 0.000 0.000 0.000 0.000 0.000 0.000 0.000 0.000 0.000 0.000 0.000 0.000 0.000 0.000 0.000 0.000 0.000 0.000 0.000 0.000 0.000 0.000 0.000 0.000 0.000 0.000 0.000 0.000 0.000 0.000 0.000 0.000 0.000 0.000 0.000 0.000 0.000 0.000 0.000 0.000 0.000 0.000 0.000 0.000 0.000 0.000 0.000 0.000 0.000 0.000 0.000 0.000 0.000 0.000 0.000 0.000 0.000 0.000 0.000 0.000 0.000 0.000 0.000 0.000 0.000 0.000 0.000 0.000 0.000 0.000 2.618 5.234 7.846 10.453 13.053 15.643 18.224 20.791 23.345 25.882 28.402 30.902 33.381 35.837 38.268 40.674 43.051 45.399 47.716 50.000 52.250 54.464 56.641 58.779 60.876 62.932 64.945 66.913 68.835 70.711 72.537 74.314 76.041 77.715 79.335 80.902 82.413 83.867 85.264 86.603 87.882 89.101 90.259 91.355 92.388 93.358 94.264 95.106 95.882 96.593 97.237 97.815 98.325 98.769 99.144 99.452 99.692 99.863 99.966 100.000 99.966 99.863 99.692 99.452 99.144 98.769 98.326 97.815 97.237 96.593 95.882 95.106 94.264 93.358 92.388 91.355 90.259 89.101 87.882 86.603 85.264 83.867 82.413 80.902 79.335 77.715 76.041 74.315 72.537 70.711 68.835 66.913 64.945 62.932 60.876 58.779 56.641 54.464 52.250 50.000 47.716 45.399 43.051 40.674 38.268 35.837 33.381 30.902 28.402 25.882 23.345 20.791 18.224 15.644 13.053 10.453 7.846 5.234 2.618 0.000 0.000 0.000 0.000 0.000 0.000 0.000 0.000 0.000 0.000 0.000 0.000 0.000 0.000 0.000 0.000 0.000 0.000 0.000 0.000 0.000 0.000 0.000 0.000 0.000 0.000 0.000 0.000 0.000 0.000 0.000 0.000 0.000 0.000 0.000 0.000 0.000 0.000 0.000 0.000 0.000 0.000 0.000 0.000 0.000 0.000 0.000 0.000 0.000 0.000 0.000 0.000 0.000 0.000 0.000 0.000 0.000 0.000 0.000 0.000 0.000 0.000 0.000 0.000 0.000 0.000 0.000 0.000 0.000 0.000 0.000 0.000 0.000 0.000 0.000 0.000 0.000 0.000 0.000 0.000 0.000 0.000 0.000 0.000 0.000 0.000 0.000 0.000 0.000 0.000 0.000 0.000 0.000 0.000 0.000 0.000 0.000 0.000 0.000 0.000 0.000 0.000 0.000 0.000 0.000 0.000 0.000 0.000 0.000 0.000 0.000 0.000 0.000 0.000 0.000 0.000 0.000 0.000 0.000 0.000 0.000 0.000 0.000 0.000 0.000 0.000 0.000 0.000 0.000 0.000 0.000 0.000 0.000 0.000 0.000 0.000 0.000 0.000 0.000 0.000 0.000 0.000 0.000 0.000 0.000 0.000 0.000 0.000 0.000 0.000 0.000 0.000 0.000 0.000 0.000 0.000 0.000 0.000 0.000 0.000 0.000 0.000 0.000 0.000 0.000 0.000 0.000 0.000 0.000 0.000 0.000 0.000 0.000 0.000 0.000 0.000 0.000 0.000 0.000 0.000 0.000 0.000 0.000 0.000 0.000 0.000 0.000 0.000 0.000 0.000 0.000 0.000 0.000 0.000 0.000 0.000 0.000 0.000 0.000 0.000 0.000 0.000 0.000 0.000 0.000 0.000 0.000 0.000 0.000 0.000 0.000 0.000 0.000 0.000 0.000 0.000 0.000 0.000 0.000 0.000 0.000 0.000 0.000 0.000 0.000 0.000 0.000 0.000 0.000 0.000 0.000 0.000 0.000 0.000 0.000 0.000 0.000 0.000 0.000 0.000 0.000 0.000 0.000 0.000 0.000 0.000 0.000 0.000 0.000 0.000 0.000 0.000 0.000 0.000 0.000 0.000 0.000 0.000 0.000 0.000 0.000 0.000 0.000 0.000 0.000 0.000 0.000 0.000 0.000 0.000 0.000 0.000 0.000 0.000 0.000 0.000 0.000 0.000 0.000 0.000 0.000 0.000 0.000 0.000 0.000 0.000 0.000 0.000 0.000 0.000 0.000 0.000 0.000 0.000 0.000 0.000 0.000 0.000 0.000 0.000 0.000 0.000 0.000 0.000 0.000 0.000 0.000 0.000 0.000 0.000 0.000 0.000 0.000 0.000 0.000 0.000 0.000 0.000 0.000 0.000 0.000 0.000 0.000 0.000 0.000 0.000 0.000 0.000 0.000 0.000 0.000 0.000 0.000 0.000 0.000 0.000 0.000 0.000 0.000 0.000 0.000 0.000 0.000 0.000 0.000 0.000 0.000 0.000 0.000 0.000 0.000 0.000 0.000 0.000 0.000 0.000 0.000 0.000 0.000 0.000 0.000 0.000 0.000 0.000 0.000 0.000 0.000 0.000 0.000 0.000 0.000 0.000 0.000 0.000 0.000 0.000 0.000 0.000 0.000 0.000 0.000 0.000 0.000 0.000 0.000 0.000 0.000 0.000 0.000 0.000 0.000 0.000 0.000 0.000 0.000 0.000 0.000 0.000 0.000 0.000 0.000 0.000 0.000 0.000 0.000 0.000 0.000 0.000 0.000 0.000 0.000 0.000 0.000 0.000 0.000 0.000 0.000 0.000 0.000 0.000 0.000 0.000 0.000 0.000 0.000 0.000 0.000 0.000 0.000 0.000 0.000 0.000 0.000 0.000 0.000 0.000 0.000 0.000 0.000 0.000 0.000 0.000 0.000 0.000 0.000 0.000 0.000 0.000 0.000 0.000 0.000 0.000 0.000 0.000 0.000 0.000 0.000 0.000 0.000 0.000 0.000 0.000 0.000 0.000 0.000 0.000 0.000 0.000 0.000 0.000 0.000 0.000 0.000 0.000 0.000 0.000 0.000 0.000 0.000 0.000 0.000 0.000 0.000 0.000 0.000 0.000 0.000 0.000 0.000 0.000 0.000 0.000 0.000 0.000 0.000 0.000 0.000 0.000 0.000 0.000 0.000 0.000 0.000 0.000 0.000 0.000 0.000 0.000 0.000 0.000 0.000 0.000 0.000 0.000 0.000 0.000 0.000 0.000 0.000 0.000 0.000 0.000 0.000 0.000 0.000 0.000 0.000 0.000 0.000 0.000 0.000 0.000 0.000 0.000 0.000 0.000 0.000 0.000 0.000 0.000 0.000 0.000 0.000 0.000 0.000 0.000 0.000 0.000 0.000 0.000 0.000 0.000 0.000 0.000 0.000 0.000 0.000 0.000 0.000 0.000 0.000 0.000 0.000 0.000 0.000 0.000 0.000 0.000 0.000 0.000 0.000 0.000 0.000 0.000 0.000 0.000 0.000 0.000 0.000 0.000 \n",
            "\n",
            "\n",
            "0.000 0.000 0.000 0.000 0.000 0.000 0.000 0.000 0.000 0.000 0.000 0.000 0.000 0.000 0.000 0.000 0.000 0.000 0.000 0.000 0.000 0.000 0.000 0.000 0.000 0.000 0.000 0.000 0.000 0.000 0.000 0.000 0.000 0.000 0.000 0.000 0.000 0.000 0.000 0.000 0.000 0.000 0.000 0.000 0.000 0.000 0.000 0.000 0.000 0.000 0.000 0.000 0.000 0.000 0.000 0.000 0.000 0.000 0.000 0.000 0.000 0.000 0.000 0.000 0.000 0.000 0.000 0.000 0.000 0.000 0.000 0.000 0.000 0.000 0.000 0.000 0.000 0.000 0.000 0.000 0.000 0.000 0.000 0.000 0.000 0.000 0.000 0.000 0.000 0.000 0.000 0.000 0.000 0.000 0.000 0.000 0.000 0.000 0.000 0.000 0.000 0.000 0.000 0.000 0.000 0.000 0.000 0.000 0.000 0.000 0.000 0.000 0.000 0.000 0.000 0.000 0.000 0.000 0.000 0.000 0.000 0.000 0.000 0.000 0.000 0.000 0.000 0.000 0.000 0.000 0.000 0.000 0.000 0.000 0.000 0.000 0.000 0.000 0.000 0.000 0.000 0.000 0.000 0.000 0.000 0.000 0.000 0.000 0.000 0.000 0.000 0.000 0.000 0.000 0.000 0.000 0.000 0.000 0.000 0.000 0.000 0.000 0.000 0.000 0.000 0.000 0.000 0.000 0.000 0.000 0.000 0.000 0.000 0.000 0.000 0.000 0.000 0.000 0.000 0.000 0.000 0.000 0.000 0.000 0.000 0.000 0.000 0.000 0.000 0.000 0.000 0.000 0.000 0.000 0.000 0.000 0.000 0.000 0.000 0.000 0.000 0.000 0.000 0.000 0.000 0.000 0.000 0.000 0.000 0.000 0.000 0.000 0.000 0.000 0.000 0.000 0.000 0.000 0.000 0.000 0.000 0.000 0.000 0.000 0.000 0.000 0.000 0.000 0.000 0.000 0.000 0.000 0.000 0.000 0.000 0.000 0.000 0.000 0.000 0.000 0.000 0.000 0.000 0.000 0.000 0.000 0.000 0.000 0.000 0.000 0.000 0.000 0.000 0.000 0.000 0.000 0.000 0.000 0.000 0.000 0.000 0.000 0.000 0.000 0.000 0.000 0.000 0.000 0.000 0.000 0.000 0.000 0.000 0.000 0.000 0.000 0.000 0.000 0.000 0.000 0.000 0.000 0.000 0.000 0.000 0.000 0.000 0.000 0.000 0.000 0.000 0.000 0.000 0.000 0.000 0.000 0.000 0.000 0.000 0.000 0.000 0.000 0.000 0.000 0.000 0.000 0.000 0.000 0.000 0.000 0.000 0.000 0.000 0.000 0.000 0.000 0.000 0.000 0.000 0.000 0.000 0.000 0.000 0.000 0.000 0.000 0.000 0.000 0.000 0.000 0.000 0.000 0.000 0.000 0.000 0.000 0.000 0.000 0.000 0.000 0.000 0.000 0.000 0.000 0.000 0.000 0.000 0.000 0.000 0.000 0.000 0.000 0.000 0.000 0.000 0.000 0.000 0.000 0.000 0.000 0.000 0.000 0.000 0.000 0.000 0.000 0.000 0.000 0.000 0.000 0.000 0.000 0.000 0.000 0.000 0.000 0.000 0.000 0.000 0.000 0.000 0.000 0.000 0.000 0.000 0.000 0.000 0.000 0.000 0.000 0.000 0.000 0.000 0.000 0.000 0.000 0.000 0.000 0.000 0.000 0.000 2.618 5.234 7.846 10.453 13.053 15.643 18.224 20.791 23.345 25.882 28.402 30.902 33.381 35.837 38.268 40.674 43.051 45.399 47.716 50.000 52.250 54.464 56.641 58.779 60.876 62.932 64.945 66.913 68.835 70.711 72.537 74.314 76.041 77.715 79.335 80.902 82.413 83.867 85.264 86.603 87.882 89.101 90.259 91.355 92.388 93.358 94.264 95.106 95.882 96.593 97.237 97.815 98.325 98.769 99.144 99.452 99.692 99.863 99.966 100.000 99.966 99.863 99.692 99.452 99.144 98.769 98.326 97.815 97.237 96.593 95.882 95.106 94.264 93.358 92.388 91.355 90.259 89.101 87.882 86.603 85.264 83.867 82.413 80.902 79.335 77.715 76.041 74.315 72.537 70.711 68.835 66.913 64.945 62.932 60.876 58.779 56.641 54.464 52.250 50.000 47.716 45.399 43.051 40.674 38.268 35.837 33.381 30.902 28.402 25.882 23.345 20.791 18.224 15.644 13.053 10.453 7.846 5.234 2.618 0.000 0.000 0.000 0.000 0.000 0.000 0.000 0.000 0.000 0.000 0.000 0.000 0.000 0.000 0.000 0.000 0.000 0.000 0.000 0.000 0.000 0.000 0.000 0.000 0.000 0.000 0.000 0.000 0.000 0.000 0.000 0.000 0.000 0.000 0.000 0.000 0.000 0.000 0.000 0.000 0.000 0.000 0.000 0.000 0.000 0.000 0.000 0.000 0.000 0.000 0.000 0.000 0.000 0.000 0.000 0.000 0.000 0.000 0.000 0.000 0.000 0.000 0.000 0.000 0.000 0.000 0.000 0.000 0.000 0.000 0.000 0.000 0.000 0.000 0.000 0.000 0.000 0.000 0.000 0.000 0.000 0.000 0.000 0.000 0.000 0.000 0.000 0.000 0.000 0.000 0.000 0.000 0.000 0.000 0.000 0.000 0.000 0.000 0.000 0.000 0.000 0.000 0.000 0.000 0.000 0.000 0.000 0.000 0.000 0.000 0.000 0.000 0.000 0.000 0.000 0.000 0.000 0.000 0.000 0.000 0.000 0.000 0.000 0.000 0.000 0.000 0.000 0.000 0.000 0.000 0.000 0.000 0.000 0.000 0.000 0.000 0.000 0.000 0.000 0.000 0.000 0.000 0.000 0.000 0.000 0.000 0.000 0.000 0.000 0.000 0.000 0.000 0.000 0.000 0.000 0.000 0.000 0.000 0.000 0.000 0.000 0.000 0.000 0.000 0.000 0.000 0.000 0.000 0.000 0.000 0.000 0.000 0.000 0.000 0.000 0.000 0.000 0.000 0.000 0.000 0.000 0.000 0.000 0.000 0.000 0.000 0.000 0.000 0.000 0.000 0.000 0.000 0.000 0.000 0.000 0.000 0.000 0.000 0.000 0.000 0.000 0.000 0.000 0.000 0.000 0.000 0.000 0.000 0.000 0.000 0.000 0.000 0.000 0.000 0.000 0.000 0.000 0.000 0.000 0.000 0.000 0.000 0.000 0.000 0.000 0.000 0.000 0.000 0.000 0.000 0.000 0.000 0.000 0.000 0.000 0.000 0.000 0.000 0.000 0.000 0.000 0.000 0.000 0.000 0.000 0.000 0.000 0.000 0.000 0.000 0.000 0.000 0.000 0.000 0.000 0.000 0.000 0.000 0.000 0.000 0.000 0.000 0.000 0.000 0.000 0.000 0.000 0.000 0.000 0.000 0.000 0.000 0.000 0.000 0.000 0.000 0.000 0.000 0.000 0.000 \n"
          ],
          "name": "stdout"
        }
      ]
    }
  ]
}